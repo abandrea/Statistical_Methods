{
 "cells": [
  {
   "cell_type": "markdown",
   "id": "ee36e970-b74d-4e01-802c-d31b8b372b8d",
   "metadata": {},
   "source": [
    "For the initial part, which includes loading the data and performing basic exploratory data analysis. "
   ]
  },
  {
   "cell_type": "code",
   "execution_count": 2,
   "id": "d393220a-fc72-431b-b681-f3652c147820",
   "metadata": {
    "vscode": {
     "languageId": "r"
    }
   },
   "outputs": [
    {
     "name": "stderr",
     "output_type": "stream",
     "text": [
      "\u001b[1mRows: \u001b[22m\u001b[34m5190\u001b[39m \u001b[1mColumns: \u001b[22m\u001b[34m20\u001b[39m\n",
      "\u001b[36m--\u001b[39m \u001b[1mColumn specification\u001b[22m \u001b[36m--------------------------------------------------------\u001b[39m\n",
      "\u001b[1mDelimiter:\u001b[22m \",\"\n",
      "\u001b[32mdbl\u001b[39m (20): sex, age, agesq, income, levyplus, freepoor, freepera, illness, ac...\n",
      "\n",
      "\u001b[36mi\u001b[39m Use `spec()` to retrieve the full column specification for this data.\n",
      "\u001b[36mi\u001b[39m Specify the column types or set `show_col_types = FALSE` to quiet this message.\n"
     ]
    }
   ],
   "source": [
    "# Loading necessary libraries\n",
    "library(readr)\n",
    "\n",
    "# Load the dataset\n",
    "data <- read_csv(\"HealthCareAustralia.csv\")\n"
   ]
  },
  {
   "cell_type": "code",
   "execution_count": 3,
   "id": "ebad1771-c809-423b-ac40-1e83299df2d9",
   "metadata": {
    "vscode": {
     "languageId": "r"
    }
   },
   "outputs": [
    {
     "data": {
      "text/html": [
       "<table class=\"dataframe\">\n",
       "<caption>A tibble: 6 x 20</caption>\n",
       "<thead>\n",
       "\t<tr><th scope=col>sex</th><th scope=col>age</th><th scope=col>agesq</th><th scope=col>income</th><th scope=col>levyplus</th><th scope=col>freepoor</th><th scope=col>freepera</th><th scope=col>illness</th><th scope=col>actdays</th><th scope=col>hscore</th><th scope=col>chcond1</th><th scope=col>chcond2</th><th scope=col>doctorco</th><th scope=col>nondocco</th><th scope=col>hospadmi</th><th scope=col>hospdays</th><th scope=col>medicine</th><th scope=col>prescrib</th><th scope=col>nonpresc</th><th scope=col>constant</th></tr>\n",
       "\t<tr><th scope=col>&lt;dbl&gt;</th><th scope=col>&lt;dbl&gt;</th><th scope=col>&lt;dbl&gt;</th><th scope=col>&lt;dbl&gt;</th><th scope=col>&lt;dbl&gt;</th><th scope=col>&lt;dbl&gt;</th><th scope=col>&lt;dbl&gt;</th><th scope=col>&lt;dbl&gt;</th><th scope=col>&lt;dbl&gt;</th><th scope=col>&lt;dbl&gt;</th><th scope=col>&lt;dbl&gt;</th><th scope=col>&lt;dbl&gt;</th><th scope=col>&lt;dbl&gt;</th><th scope=col>&lt;dbl&gt;</th><th scope=col>&lt;dbl&gt;</th><th scope=col>&lt;dbl&gt;</th><th scope=col>&lt;dbl&gt;</th><th scope=col>&lt;dbl&gt;</th><th scope=col>&lt;dbl&gt;</th><th scope=col>&lt;dbl&gt;</th></tr>\n",
       "</thead>\n",
       "<tbody>\n",
       "\t<tr><td>1</td><td>0.19</td><td>0.0361</td><td>0.55</td><td>1</td><td>0</td><td>0</td><td>1</td><td>4</td><td>1</td><td>0</td><td>0</td><td>1</td><td>0</td><td>0</td><td>0</td><td>1</td><td>1</td><td>0</td><td>1</td></tr>\n",
       "\t<tr><td>1</td><td>0.19</td><td>0.0361</td><td>0.45</td><td>1</td><td>0</td><td>0</td><td>1</td><td>2</td><td>1</td><td>0</td><td>0</td><td>1</td><td>0</td><td>0</td><td>0</td><td>2</td><td>1</td><td>1</td><td>1</td></tr>\n",
       "\t<tr><td>0</td><td>0.19</td><td>0.0361</td><td>0.90</td><td>0</td><td>0</td><td>0</td><td>3</td><td>0</td><td>0</td><td>0</td><td>0</td><td>1</td><td>0</td><td>1</td><td>4</td><td>2</td><td>1</td><td>1</td><td>1</td></tr>\n",
       "\t<tr><td>0</td><td>0.19</td><td>0.0361</td><td>0.15</td><td>0</td><td>0</td><td>0</td><td>1</td><td>0</td><td>0</td><td>0</td><td>0</td><td>1</td><td>0</td><td>0</td><td>0</td><td>0</td><td>0</td><td>0</td><td>1</td></tr>\n",
       "\t<tr><td>0</td><td>0.19</td><td>0.0361</td><td>0.45</td><td>0</td><td>0</td><td>0</td><td>2</td><td>5</td><td>1</td><td>1</td><td>0</td><td>1</td><td>0</td><td>0</td><td>0</td><td>3</td><td>1</td><td>2</td><td>1</td></tr>\n",
       "\t<tr><td>1</td><td>0.19</td><td>0.0361</td><td>0.35</td><td>0</td><td>0</td><td>0</td><td>5</td><td>1</td><td>9</td><td>1</td><td>0</td><td>1</td><td>0</td><td>0</td><td>0</td><td>1</td><td>1</td><td>0</td><td>1</td></tr>\n",
       "</tbody>\n",
       "</table>\n"
      ],
      "text/latex": [
       "A tibble: 6 x 20\n",
       "\\begin{tabular}{llllllllllllllllllll}\n",
       " sex & age & agesq & income & levyplus & freepoor & freepera & illness & actdays & hscore & chcond1 & chcond2 & doctorco & nondocco & hospadmi & hospdays & medicine & prescrib & nonpresc & constant\\\\\n",
       " <dbl> & <dbl> & <dbl> & <dbl> & <dbl> & <dbl> & <dbl> & <dbl> & <dbl> & <dbl> & <dbl> & <dbl> & <dbl> & <dbl> & <dbl> & <dbl> & <dbl> & <dbl> & <dbl> & <dbl>\\\\\n",
       "\\hline\n",
       "\t 1 & 0.19 & 0.0361 & 0.55 & 1 & 0 & 0 & 1 & 4 & 1 & 0 & 0 & 1 & 0 & 0 & 0 & 1 & 1 & 0 & 1\\\\\n",
       "\t 1 & 0.19 & 0.0361 & 0.45 & 1 & 0 & 0 & 1 & 2 & 1 & 0 & 0 & 1 & 0 & 0 & 0 & 2 & 1 & 1 & 1\\\\\n",
       "\t 0 & 0.19 & 0.0361 & 0.90 & 0 & 0 & 0 & 3 & 0 & 0 & 0 & 0 & 1 & 0 & 1 & 4 & 2 & 1 & 1 & 1\\\\\n",
       "\t 0 & 0.19 & 0.0361 & 0.15 & 0 & 0 & 0 & 1 & 0 & 0 & 0 & 0 & 1 & 0 & 0 & 0 & 0 & 0 & 0 & 1\\\\\n",
       "\t 0 & 0.19 & 0.0361 & 0.45 & 0 & 0 & 0 & 2 & 5 & 1 & 1 & 0 & 1 & 0 & 0 & 0 & 3 & 1 & 2 & 1\\\\\n",
       "\t 1 & 0.19 & 0.0361 & 0.35 & 0 & 0 & 0 & 5 & 1 & 9 & 1 & 0 & 1 & 0 & 0 & 0 & 1 & 1 & 0 & 1\\\\\n",
       "\\end{tabular}\n"
      ],
      "text/markdown": [
       "\n",
       "A tibble: 6 x 20\n",
       "\n",
       "| sex &lt;dbl&gt; | age &lt;dbl&gt; | agesq &lt;dbl&gt; | income &lt;dbl&gt; | levyplus &lt;dbl&gt; | freepoor &lt;dbl&gt; | freepera &lt;dbl&gt; | illness &lt;dbl&gt; | actdays &lt;dbl&gt; | hscore &lt;dbl&gt; | chcond1 &lt;dbl&gt; | chcond2 &lt;dbl&gt; | doctorco &lt;dbl&gt; | nondocco &lt;dbl&gt; | hospadmi &lt;dbl&gt; | hospdays &lt;dbl&gt; | medicine &lt;dbl&gt; | prescrib &lt;dbl&gt; | nonpresc &lt;dbl&gt; | constant &lt;dbl&gt; |\n",
       "|---|---|---|---|---|---|---|---|---|---|---|---|---|---|---|---|---|---|---|---|\n",
       "| 1 | 0.19 | 0.0361 | 0.55 | 1 | 0 | 0 | 1 | 4 | 1 | 0 | 0 | 1 | 0 | 0 | 0 | 1 | 1 | 0 | 1 |\n",
       "| 1 | 0.19 | 0.0361 | 0.45 | 1 | 0 | 0 | 1 | 2 | 1 | 0 | 0 | 1 | 0 | 0 | 0 | 2 | 1 | 1 | 1 |\n",
       "| 0 | 0.19 | 0.0361 | 0.90 | 0 | 0 | 0 | 3 | 0 | 0 | 0 | 0 | 1 | 0 | 1 | 4 | 2 | 1 | 1 | 1 |\n",
       "| 0 | 0.19 | 0.0361 | 0.15 | 0 | 0 | 0 | 1 | 0 | 0 | 0 | 0 | 1 | 0 | 0 | 0 | 0 | 0 | 0 | 1 |\n",
       "| 0 | 0.19 | 0.0361 | 0.45 | 0 | 0 | 0 | 2 | 5 | 1 | 1 | 0 | 1 | 0 | 0 | 0 | 3 | 1 | 2 | 1 |\n",
       "| 1 | 0.19 | 0.0361 | 0.35 | 0 | 0 | 0 | 5 | 1 | 9 | 1 | 0 | 1 | 0 | 0 | 0 | 1 | 1 | 0 | 1 |\n",
       "\n"
      ],
      "text/plain": [
       "  sex age  agesq  income levyplus freepoor freepera illness actdays hscore\n",
       "1 1   0.19 0.0361 0.55   1        0        0        1       4       1     \n",
       "2 1   0.19 0.0361 0.45   1        0        0        1       2       1     \n",
       "3 0   0.19 0.0361 0.90   0        0        0        3       0       0     \n",
       "4 0   0.19 0.0361 0.15   0        0        0        1       0       0     \n",
       "5 0   0.19 0.0361 0.45   0        0        0        2       5       1     \n",
       "6 1   0.19 0.0361 0.35   0        0        0        5       1       9     \n",
       "  chcond1 chcond2 doctorco nondocco hospadmi hospdays medicine prescrib\n",
       "1 0       0       1        0        0        0        1        1       \n",
       "2 0       0       1        0        0        0        2        1       \n",
       "3 0       0       1        0        1        4        2        1       \n",
       "4 0       0       1        0        0        0        0        0       \n",
       "5 1       0       1        0        0        0        3        1       \n",
       "6 1       0       1        0        0        0        1        1       \n",
       "  nonpresc constant\n",
       "1 0        1       \n",
       "2 1        1       \n",
       "3 1        1       \n",
       "4 0        1       \n",
       "5 2        1       \n",
       "6 0        1       "
      ]
     },
     "metadata": {},
     "output_type": "display_data"
    }
   ],
   "source": [
    "# Viewing the first few rows of the dataset\n",
    "head(data)"
   ]
  },
  {
   "cell_type": "markdown",
   "id": "7571a42a",
   "metadata": {},
   "source": [
    "After loading the data, we can see that the data is already clean and ready to be used. The only thing we need to do is to check the distribution of the target variable and the distribution of the features. We can do that with the command summary() and the command hist()."
   ]
  },
  {
   "cell_type": "code",
   "execution_count": 4,
   "id": "7d952a69",
   "metadata": {
    "vscode": {
     "languageId": "r"
    }
   },
   "outputs": [
    {
     "data": {
      "text/plain": [
       "      sex              age             agesq            income      \n",
       " Min.   :0.0000   Min.   :0.1900   Min.   :0.0361   Min.   :0.0000  \n",
       " 1st Qu.:0.0000   1st Qu.:0.2200   1st Qu.:0.0484   1st Qu.:0.2500  \n",
       " Median :1.0000   Median :0.3200   Median :0.1024   Median :0.5500  \n",
       " Mean   :0.5206   Mean   :0.4064   Mean   :0.2071   Mean   :0.5832  \n",
       " 3rd Qu.:1.0000   3rd Qu.:0.6200   3rd Qu.:0.3844   3rd Qu.:0.9000  \n",
       " Max.   :1.0000   Max.   :0.7200   Max.   :0.5184   Max.   :1.5000  \n",
       "    levyplus         freepoor          freepera         illness     \n",
       " Min.   :0.0000   Min.   :0.00000   Min.   :0.0000   Min.   :0.000  \n",
       " 1st Qu.:0.0000   1st Qu.:0.00000   1st Qu.:0.0000   1st Qu.:0.000  \n",
       " Median :0.0000   Median :0.00000   Median :0.0000   Median :1.000  \n",
       " Mean   :0.4428   Mean   :0.04277   Mean   :0.2102   Mean   :1.432  \n",
       " 3rd Qu.:1.0000   3rd Qu.:0.00000   3rd Qu.:0.0000   3rd Qu.:2.000  \n",
       " Max.   :1.0000   Max.   :1.00000   Max.   :1.0000   Max.   :5.000  \n",
       "    actdays            hscore          chcond1          chcond2      \n",
       " Min.   : 0.0000   Min.   : 0.000   Min.   :0.0000   Min.   :0.0000  \n",
       " 1st Qu.: 0.0000   1st Qu.: 0.000   1st Qu.:0.0000   1st Qu.:0.0000  \n",
       " Median : 0.0000   Median : 0.000   Median :0.0000   Median :0.0000  \n",
       " Mean   : 0.8619   Mean   : 1.218   Mean   :0.4031   Mean   :0.1166  \n",
       " 3rd Qu.: 0.0000   3rd Qu.: 2.000   3rd Qu.:1.0000   3rd Qu.:0.0000  \n",
       " Max.   :14.0000   Max.   :12.000   Max.   :1.0000   Max.   :1.0000  \n",
       "    doctorco         nondocco          hospadmi         hospdays     \n",
       " Min.   :0.0000   Min.   : 0.0000   Min.   :0.0000   Min.   : 0.000  \n",
       " 1st Qu.:0.0000   1st Qu.: 0.0000   1st Qu.:0.0000   1st Qu.: 0.000  \n",
       " Median :0.0000   Median : 0.0000   Median :0.0000   Median : 0.000  \n",
       " Mean   :0.3017   Mean   : 0.2146   Mean   :0.1736   Mean   : 1.334  \n",
       " 3rd Qu.:0.0000   3rd Qu.: 0.0000   3rd Qu.:0.0000   3rd Qu.: 0.000  \n",
       " Max.   :9.0000   Max.   :11.0000   Max.   :5.0000   Max.   :80.000  \n",
       "    medicine        prescrib         nonpresc         constant\n",
       " Min.   :0.000   Min.   :0.0000   Min.   :0.0000   Min.   :1  \n",
       " 1st Qu.:0.000   1st Qu.:0.0000   1st Qu.:0.0000   1st Qu.:1  \n",
       " Median :1.000   Median :0.0000   Median :0.0000   Median :1  \n",
       " Mean   :1.218   Mean   :0.8626   Mean   :0.3557   Mean   :1  \n",
       " 3rd Qu.:2.000   3rd Qu.:1.0000   3rd Qu.:1.0000   3rd Qu.:1  \n",
       " Max.   :8.000   Max.   :8.0000   Max.   :8.0000   Max.   :1  "
      ]
     },
     "metadata": {},
     "output_type": "display_data"
    },
    {
     "data": {
      "text/plain": [
       "   Min. 1st Qu.  Median    Mean 3rd Qu.    Max. \n",
       " 0.0000  0.0000  0.0000  0.3017  0.0000  9.0000 "
      ]
     },
     "metadata": {},
     "output_type": "display_data"
    },
    {
     "data": {
      "image/png": "[encoded data removed]",
      "text/plain": [
       "Plot with title \"Histogram of data$doctorco\""
      ]
     },
     "metadata": {
      "image/png": {
       "height": 420,
       "width": 420
      }
     },
     "output_type": "display_data"
    }
   ],
   "source": [
    "# Summary statistics for the entire dataset\n",
    "summary(data)\n",
    "\n",
    "# Specific summary for 'doctorco' column\n",
    "summary(data$doctorco)\n",
    "\n",
    "#histogram for 'doctorco' column\n",
    "hist(data$doctorco)"
   ]
  },
  {
   "cell_type": "markdown",
   "id": "23c9fb8c",
   "metadata": {},
   "source": [
    "After that, we can check the distribution of the features. We can see that the majority of the features are binary. This means that the majority of the features are either 0 or 1. This is good because it means that we don't have to do any encoding. We can just use the data as it is."
   ]
  },
  {
   "cell_type": "markdown",
   "id": "5e835fc4",
   "metadata": {},
   "source": [
    "More redeable plot using ggplot2 package."
   ]
  },
  {
   "cell_type": "code",
   "execution_count": 5,
   "id": "ec09daf0",
   "metadata": {
    "vscode": {
     "languageId": "r"
    }
   },
   "outputs": [
    {
     "data": {
      "text/plain": [
       "\n",
       "   0    1    2    3    4    5    6    7    8    9 \n",
       "4141  782  174   30   24    9   12   12    5    1 "
      ]
     },
     "metadata": {},
     "output_type": "display_data"
    },
    {
     "data": {
      "image/png": "[encoded data removed]",
      "text/plain": [
       "plot without title"
      ]
     },
     "metadata": {
      "image/png": {
       "height": 420,
       "width": 420
      }
     },
     "output_type": "display_data"
    }
   ],
   "source": [
    "# Checking the distribution of 'dvisits'\n",
    "table(data$doctorco)\n",
    "\n",
    "# Visualizing the distribution of 'dvisits'\n",
    "library(ggplot2)\n",
    "ggplot(data, aes(x = doctorco)) + \n",
    "  geom_histogram(binwidth = 1, fill=\"blue\", color=\"black\") +\n",
    "  labs(title=\"Distribution of Doctor Consultations ('dvisits')\", \n",
    "       x=\"Number of Doctor Consultations\", \n",
    "       y=\"Frequency\")\n"
   ]
  },
  {
   "cell_type": "markdown",
   "id": "202fab6d",
   "metadata": {},
   "source": [
    "The 'doctorco' is the response variable. The response variable is the variable that we are trying to predict. In this case, we are trying to predict the number of consultations with a doctor or specialist in the past 2 weeks. So, from the distribution of Doctor Consultation, we can see that the data is right-skewed. This means that the majority of the data is concentrated on the left side of the histogram and there are a few data points on the right side. The major data in concentrated in 0. This means that the majority of the people in the dataset have not consulted a doctor in the past 2 weeks. "
   ]
  },
  {
   "cell_type": "markdown",
   "id": "1afe75ae",
   "metadata": {},
   "source": [
    "Since \"doctorco\" is a count variable, we should consider models suitable for count data. We can start with a Poisson regression model and then consider other models like Negative Binomial or Zero-Inflated models based on the initial analysis. "
   ]
  },
  {
   "cell_type": "code",
   "execution_count": 7,
   "id": "c09ef551",
   "metadata": {
    "vscode": {
     "languageId": "r"
    }
   },
   "outputs": [
    {
     "name": "stderr",
     "output_type": "stream",
     "text": [
      "Installazione pacchetto in '/Users/andrea.buscema/Library/R/x86_64/4.3/library'\n",
      "(perch'e 'lib' non `e specificato)\n",
      "\n"
     ]
    },
    {
     "name": "stdout",
     "output_type": "stream",
     "text": [
      "\n",
      "I pacchetti binari scaricati sono in\n",
      "\t/var/folders/1f/b06ndvrs4z3d8ww70y1v2mxc0000gn/T//Rtmp4jnhZm/downloaded_packages\n"
     ]
    }
   ],
   "source": [
    "#install.packages(\"glm2\")"
   ]
  },
  {
   "cell_type": "code",
   "execution_count": 6,
   "id": "98248e96",
   "metadata": {
    "vscode": {
     "languageId": "r"
    }
   },
   "outputs": [
    {
     "name": "stdout",
     "output_type": "stream",
     "text": [
      " [1] \"sex\"      \"age\"      \"agesq\"    \"income\"   \"levyplus\" \"freepoor\"\n",
      " [7] \"freepera\" \"illness\"  \"actdays\"  \"hscore\"   \"chcond1\"  \"chcond2\" \n",
      "[13] \"doctorco\" \"nondocco\" \"hospadmi\" \"hospdays\" \"medicine\" \"prescrib\"\n",
      "[19] \"nonpresc\" \"constant\"\n"
     ]
    }
   ],
   "source": [
    "# print all the variables in the dataset\n",
    "variables <- names(data)\n",
    "\n",
    "# print in a more readable format\n",
    "print(variables)"
   ]
  },
  {
   "cell_type": "markdown",
   "id": "220e8cb0",
   "metadata": {},
   "source": [
    "After loading the glm2 package, we can use the command glm() to fit a Poisson regression model to the data. We can use the command summary() to see the results of the model. After, we can see also the deviance of the model and the dispersion parameter. The deviance is a measure of how well the model fits the data. The dispersion parameter is a measure of how much the data varies around the mean.\n",
    "\n"
   ]
  },
  {
   "cell_type": "code",
   "execution_count": 7,
   "id": "51abe5e4",
   "metadata": {
    "vscode": {
     "languageId": "r"
    }
   },
   "outputs": [
    {
     "data": {
      "text/plain": [
       "\n",
       "Call:\n",
       "glm(formula = doctorco ~ ., family = \"poisson\", data = data)\n",
       "\n",
       "Coefficients: (2 not defined because of singularities)\n",
       "              Estimate Std. Error z value Pr(>|z|)    \n",
       "(Intercept) -2.0712481  0.1916361 -10.808  < 2e-16 ***\n",
       "sex          0.1220019  0.0567376   2.150   0.0315 *  \n",
       "age          0.8610110  1.0148679   0.848   0.3962    \n",
       "agesq       -1.0573127  1.0922103  -0.968   0.3330    \n",
       "income      -0.1293371  0.0897049  -1.442   0.1494    \n",
       "levyplus     0.0518785  0.0724925   0.716   0.4742    \n",
       "freepoor    -0.4308674  0.1801160  -2.392   0.0167 *  \n",
       "freepera     0.0233116  0.0930682   0.250   0.8022    \n",
       "illness      0.1342835  0.0199779   6.722 1.80e-11 ***\n",
       "actdays      0.1108244  0.0054581  20.305  < 2e-16 ***\n",
       "hscore       0.0172580  0.0102916   1.677   0.0936 .  \n",
       "chcond1      0.0760496  0.0681592   1.116   0.2645    \n",
       "chcond2     -0.0249613  0.0868275  -0.287   0.7737    \n",
       "nondocco     0.0224942  0.0152626   1.474   0.1405    \n",
       "hospadmi     0.1543128  0.0314185   4.912 9.04e-07 ***\n",
       "hospdays     0.0007034  0.0029335   0.240   0.8105    \n",
       "medicine    -0.0904806  0.0375433  -2.410   0.0160 *  \n",
       "prescrib     0.2275448  0.0387567   5.871 4.33e-09 ***\n",
       "nonpresc            NA         NA      NA       NA    \n",
       "constant            NA         NA      NA       NA    \n",
       "---\n",
       "Signif. codes:  0 '***' 0.001 '**' 0.01 '*' 0.05 '.' 0.1 ' ' 1\n",
       "\n",
       "(Dispersion parameter for poisson family taken to be 1)\n",
       "\n",
       "    Null deviance: 5634.8  on 5189  degrees of freedom\n",
       "Residual deviance: 4244.4  on 5172  degrees of freedom\n",
       "AIC: 6611.9\n",
       "\n",
       "Number of Fisher Scoring iterations: 6\n"
      ]
     },
     "metadata": {},
     "output_type": "display_data"
    }
   ],
   "source": [
    "# Load the necessary library\n",
    "library(glm2)\n",
    "\n",
    "# Fit a Poisson regression model with all the variables\n",
    "\n",
    "poisson_model <- glm(doctorco ~ ., \n",
    "                     data = data, family = \"poisson\")\n",
    "\n",
    "# Summary of the Poisson model\n",
    "summary(poisson_model)\n",
    "\n",
    "\n"
   ]
  },
  {
   "cell_type": "markdown",
   "id": "f0618e39",
   "metadata": {},
   "source": [
    "We can consider the deviance and df.residual to check the goodness of fit of the model. The deviance is a measure of how well the model fits the data. The df.residual is the degrees of freedom of the residuals. The deviance divided by the df.residual gives us the mean deviance. The mean deviance is a measure of how well the model fits the data. The lower the mean deviance, the better the model fits the data."
   ]
  },
  {
   "cell_type": "markdown",
   "id": "3cc8f98c",
   "metadata": {},
   "source": [
    "In a Poisson regression model, the dispersion parameter is ideally 1, because the variance equals the mean in a Poisson distribution. However, in practice, this is often not the case, and the observed variance can be greater than the mean. This is known as overdispersion. The dispersion parameter is a measure of this overdispersion.\n",
    "\n",
    "The dispersion parameter is calculated as the deviance divided by the degrees of freedom of the residuals (poisson_model$deviance/poisson_model$df.residual). This gives the average amount of deviance per degree of freedom, which can be interpreted as the average amount of variance that is not explained by the model.\n",
    "\n",
    "On the other hand, the mean deviance is a measure of the goodness of fit of a statistical model. In the context of Poisson regression, it is calculated as the total deviance divided by the number of observations. A lower mean deviance indicates a better fit of the model to the data.\n",
    "\n",
    "The mean deviance is calculated as the deviance divided by the number of observations (poisson_model$deviance/nrow(data)). This gives the average amount of deviance per observation, which can be interpreted as the average amount of variance that is not explained by the model."
   ]
  },
  {
   "cell_type": "code",
   "execution_count": 8,
   "id": "59277f0a",
   "metadata": {
    "vscode": {
     "languageId": "r"
    }
   },
   "outputs": [
    {
     "name": "stdout",
     "output_type": "stream",
     "text": [
      "[1] 4244.351\n",
      "[1] 5172\n",
      "[1] 0.8206402\n",
      "[1] 0.8177941\n",
      "[1] \"The model is NOT overdispersed\"\n"
     ]
    }
   ],
   "source": [
    "# Diagnostics for the Poisson model (e.g., checking for overdispersion)\n",
    "# Overdispersion can be roughly checked by comparing residual deviance to degrees of freedom\n",
    "print(poisson_model$deviance)\n",
    "print(poisson_model$df.residual)\n",
    "\n",
    "# Overdispersion parameter\n",
    "dispersion_parameter <- poisson_model$deviance/poisson_model$df.residual\n",
    "print(dispersion_parameter)\n",
    "\n",
    "#mean deviance\n",
    "mean_deviance <- poisson_model$deviance/nrow(data)\n",
    "print(mean_deviance)\n",
    "\n",
    "# Checking for overdispersion\n",
    "if (dispersion_parameter > 1) {\n",
    "  print(\"The model is overdispersed\")\n",
    "} else {\n",
    "  print(\"The model is NOT overdispersed\")\n",
    "}\n"
   ]
  },
  {
   "cell_type": "markdown",
   "id": "7113e050",
   "metadata": {},
   "source": [
    "So, the residual deviance is 4244.351, with residual degree of freedom of 5172. The dispersion parameter is 0.82 and the mean deviance is 0.82. This means that the model is a good fit for the data. The residual deviance is the deviance of the model after fitting the data. The residual degree of freedom is the degrees of freedom of the residuals. \n",
    "\n",
    "If dispersion parameter is close to 1, the model is a good fit for the data. If the dispersion parameter is greater than 1, the model is overdispersed. If the dispersion parameter is less than 1, the model is underdispersed. In this case, the dispersion parameter is 0.82, so the model is not overdispersed. \n",
    "\n"
   ]
  },
  {
   "cell_type": "code",
   "execution_count": null,
   "id": "d385cc11",
   "metadata": {
    "vscode": {
     "languageId": "r"
    }
   },
   "outputs": [],
   "source": [
    "# #Install the necessary library\n",
    "# install.packages(\"pscl\") #this package is used to fit a negative binomial model\n",
    "# install.packages(\"broom\") #this package is used to tidy the model output\n",
    "# install.packages(\"tidyverse\") #this package is used to tidy the model output\n",
    "\n",
    "#other packages for negative binomial model\n"
   ]
  },
  {
   "cell_type": "code",
   "execution_count": 9,
   "id": "b3517c3d",
   "metadata": {
    "vscode": {
     "languageId": "r"
    }
   },
   "outputs": [
    {
     "name": "stdout",
     "output_type": "stream",
     "text": [
      "[1] \"Data does not contain NA values\"\n"
     ]
    }
   ],
   "source": [
    "# Check for NA values\n",
    "if(any(is.na(data))) {\n",
    "  print(\"Data contains NA values\")\n",
    "  # handle NA values\n",
    "} else {\n",
    "  print(\"Data does not contain NA values\")\n",
    "}\n"
   ]
  },
  {
   "cell_type": "markdown",
   "id": "158e278d",
   "metadata": {},
   "source": [
    "Underdispersion in Poisson models is less common than overdispersion and can sometimes be due to data peculiarities or specific constraints in the data collection process. Nevertheless, it's generally a less severe issue compared to overdispersion.\n",
    "\n",
    "Given these results, you might still consider exploring a Negative Binomial regression, particularly to confirm if the Poisson model is indeed the best fit or if the Negative Binomial model could provide a better fit due to any unaccounted overdispersion. Additionally, examining the residuals of the Poisson model for any patterns or deviations from randomness could provide further insights into the model's adequacy."
   ]
  },
  {
   "cell_type": "code",
   "execution_count": null,
   "id": "febf9961",
   "metadata": {
    "vscode": {
     "languageId": "r"
    }
   },
   "outputs": [],
   "source": []
  },
  {
   "cell_type": "code",
   "execution_count": null,
   "id": "f51c26ee",
   "metadata": {
    "vscode": {
     "languageId": "r"
    }
   },
   "outputs": [],
   "source": []
  },
  {
   "cell_type": "markdown",
   "id": "b907324c",
   "metadata": {},
   "source": [
    "The mean deviance is 0.8206 "
   ]
  },
  {
   "cell_type": "code",
   "execution_count": 12,
   "id": "b585d5eb",
   "metadata": {
    "vscode": {
     "languageId": "r"
    }
   },
   "outputs": [
    {
     "name": "stdout",
     "output_type": "stream",
     "text": [
      "Start:  AIC=6611.92\n",
      "doctorco ~ sex + age + agesq + income + levyplus + freepoor + \n",
      "    freepera + illness + actdays + hscore + chcond1 + chcond2 + \n",
      "    nondocco + hospadmi + hospdays + medicine + prescrib + nonpresc + \n",
      "    constant\n",
      "\n",
      "\n",
      "Step:  AIC=6611.92\n",
      "doctorco ~ sex + age + agesq + income + levyplus + freepoor + \n",
      "    freepera + illness + actdays + hscore + chcond1 + chcond2 + \n",
      "    nondocco + hospadmi + hospdays + medicine + prescrib + nonpresc\n",
      "\n",
      "\n",
      "Step:  AIC=6611.92\n",
      "doctorco ~ sex + age + agesq + income + levyplus + freepoor + \n",
      "    freepera + illness + actdays + hscore + chcond1 + chcond2 + \n",
      "    nondocco + hospadmi + hospdays + medicine + prescrib\n",
      "\n",
      "           Df Deviance    AIC\n",
      "- hospdays  1   4244.4 6610.0\n",
      "- freepera  1   4244.4 6610.0\n",
      "- chcond2   1   4244.4 6610.0\n",
      "- levyplus  1   4244.9 6610.4\n",
      "- age       1   4245.1 6610.6\n",
      "- agesq     1   4245.3 6610.9\n",
      "- chcond1   1   4245.6 6611.2\n",
      "<none>          4244.4 6611.9\n",
      "- income    1   4246.4 6612.0\n",
      "- nondocco  1   4246.4 6612.0\n",
      "- hscore    1   4247.1 6612.7\n",
      "- sex       1   4249.0 6614.6\n",
      "- medicine  1   4250.5 6616.1\n",
      "- freepoor  1   4250.7 6616.3\n",
      "- hospadmi  1   4266.8 6632.3\n",
      "- prescrib  1   4283.7 6649.3\n",
      "- illness   1   4288.9 6654.4\n",
      "- actdays   1   4604.4 6969.9\n",
      "\n",
      "Step:  AIC=6609.98\n",
      "doctorco ~ sex + age + agesq + income + levyplus + freepoor + \n",
      "    freepera + illness + actdays + hscore + chcond1 + chcond2 + \n",
      "    nondocco + hospadmi + medicine + prescrib\n",
      "\n",
      "           Df Deviance    AIC\n",
      "- freepera  1   4244.5 6608.0\n",
      "- chcond2   1   4244.5 6608.0\n",
      "- levyplus  1   4244.9 6608.5\n",
      "- age       1   4245.1 6608.7\n",
      "- agesq     1   4245.3 6608.9\n",
      "- chcond1   1   4245.7 6609.2\n",
      "<none>          4244.4 6610.0\n",
      "- income    1   4246.5 6610.1\n",
      "- nondocco  1   4246.6 6610.2\n",
      "- hscore    1   4247.2 6610.8\n",
      "+ hospdays  1   4244.4 6611.9\n",
      "- sex       1   4249.1 6612.6\n",
      "- medicine  1   4250.6 6614.2\n",
      "- freepoor  1   4250.8 6614.4\n",
      "- hospadmi  1   4270.1 6633.6\n",
      "- prescrib  1   4283.7 6647.3\n",
      "- illness   1   4288.9 6652.5\n",
      "- actdays   1   4606.0 6969.6\n",
      "\n",
      "Step:  AIC=6608.04\n",
      "doctorco ~ sex + age + agesq + income + levyplus + freepoor + \n",
      "    illness + actdays + hscore + chcond1 + chcond2 + nondocco + \n",
      "    hospadmi + medicine + prescrib\n",
      "\n",
      "           Df Deviance    AIC\n",
      "- chcond2   1   4244.5 6606.1\n",
      "- levyplus  1   4245.0 6606.6\n",
      "- age       1   4245.2 6606.8\n",
      "- agesq     1   4245.4 6607.0\n",
      "- chcond1   1   4245.8 6607.3\n",
      "<none>          4244.5 6608.0\n",
      "- nondocco  1   4246.7 6608.3\n",
      "- income    1   4246.8 6608.3\n",
      "- hscore    1   4247.3 6608.9\n",
      "+ freepera  1   4244.4 6610.0\n",
      "+ hospdays  1   4244.4 6610.0\n",
      "- sex       1   4249.3 6610.9\n",
      "- medicine  1   4250.7 6612.3\n",
      "- freepoor  1   4251.5 6613.1\n",
      "- hospadmi  1   4270.1 6631.6\n",
      "- prescrib  1   4284.2 6645.8\n",
      "- illness   1   4288.9 6650.5\n",
      "- actdays   1   4606.0 6967.6\n",
      "\n",
      "Step:  AIC=6606.1\n",
      "doctorco ~ sex + age + agesq + income + levyplus + freepoor + \n",
      "    illness + actdays + hscore + chcond1 + nondocco + hospadmi + \n",
      "    medicine + prescrib\n",
      "\n",
      "           Df Deviance    AIC\n",
      "- levyplus  1   4245.1 6604.7\n",
      "- age       1   4245.2 6604.8\n",
      "- agesq     1   4245.4 6605.0\n",
      "<none>          4244.5 6606.1\n",
      "- nondocco  1   4246.7 6606.3\n",
      "- income    1   4246.8 6606.4\n",
      "- chcond1   1   4247.1 6606.7\n",
      "- hscore    1   4247.3 6606.9\n",
      "+ chcond2   1   4244.5 6608.0\n",
      "+ freepera  1   4244.5 6608.0\n",
      "+ hospdays  1   4244.5 6608.1\n",
      "- sex       1   4249.3 6608.9\n",
      "- medicine  1   4250.8 6610.4\n",
      "- freepoor  1   4251.6 6611.1\n",
      "- hospadmi  1   4270.2 6629.8\n",
      "- prescrib  1   4284.2 6643.8\n",
      "- illness   1   4289.4 6649.0\n",
      "- actdays   1   4608.6 6968.2\n",
      "\n",
      "Step:  AIC=6604.65\n",
      "doctorco ~ sex + age + agesq + income + freepoor + illness + \n",
      "    actdays + hscore + chcond1 + nondocco + hospadmi + medicine + \n",
      "    prescrib\n",
      "\n",
      "           Df Deviance    AIC\n",
      "- age       1   4245.8 6603.4\n",
      "- agesq     1   4246.0 6603.6\n",
      "- income    1   4247.0 6604.5\n",
      "<none>          4245.1 6604.7\n",
      "- nondocco  1   4247.4 6605.0\n",
      "- chcond1   1   4247.8 6605.3\n",
      "- hscore    1   4247.8 6605.4\n",
      "+ levyplus  1   4244.5 6606.1\n",
      "+ freepera  1   4245.0 6606.5\n",
      "+ chcond2   1   4245.0 6606.6\n",
      "+ hospdays  1   4245.0 6606.6\n",
      "- sex       1   4250.2 6607.7\n",
      "- medicine  1   4251.3 6608.8\n",
      "- freepoor  1   4252.7 6610.3\n",
      "- hospadmi  1   4271.2 6628.8\n",
      "- prescrib  1   4284.7 6642.3\n",
      "- illness   1   4289.8 6647.3\n",
      "- actdays   1   4608.7 6966.2\n",
      "\n",
      "Step:  AIC=6603.38\n",
      "doctorco ~ sex + agesq + income + freepoor + illness + actdays + \n",
      "    hscore + chcond1 + nondocco + hospadmi + medicine + prescrib\n",
      "\n",
      "           Df Deviance    AIC\n",
      "- agesq     1   4246.3 6601.9\n",
      "- income    1   4247.3 6602.8\n",
      "<none>          4245.8 6603.4\n",
      "- nondocco  1   4248.2 6603.7\n",
      "- chcond1   1   4248.5 6604.0\n",
      "- hscore    1   4248.7 6604.3\n",
      "+ age       1   4245.1 6604.7\n",
      "+ levyplus  1   4245.2 6604.8\n",
      "+ freepera  1   4245.8 6605.3\n",
      "+ hospdays  1   4245.8 6605.4\n",
      "+ chcond2   1   4245.8 6605.4\n",
      "- sex       1   4250.9 6606.5\n",
      "- medicine  1   4251.8 6607.3\n",
      "- freepoor  1   4253.6 6609.2\n",
      "- hospadmi  1   4272.3 6627.9\n",
      "- prescrib  1   4285.2 6640.7\n",
      "- illness   1   4290.1 6645.7\n",
      "- actdays   1   4609.9 6965.5\n",
      "\n",
      "Step:  AIC=6601.88\n",
      "doctorco ~ sex + income + freepoor + illness + actdays + hscore + \n",
      "    chcond1 + nondocco + hospadmi + medicine + prescrib\n",
      "\n",
      "           Df Deviance    AIC\n",
      "- income    1   4247.4 6601.0\n",
      "<none>          4246.3 6601.9\n",
      "- nondocco  1   4248.6 6602.1\n",
      "- chcond1   1   4248.6 6602.2\n",
      "- hscore    1   4249.4 6603.0\n",
      "+ levyplus  1   4245.7 6603.3\n",
      "+ agesq     1   4245.8 6603.4\n",
      "+ age       1   4246.0 6603.6\n",
      "+ freepera  1   4246.1 6603.7\n",
      "+ chcond2   1   4246.3 6603.8\n",
      "+ hospdays  1   4246.3 6603.9\n",
      "- sex       1   4251.1 6604.7\n",
      "- medicine  1   4252.0 6605.6\n",
      "- freepoor  1   4253.6 6607.2\n",
      "- hospadmi  1   4273.2 6626.8\n",
      "- prescrib  1   4285.8 6639.3\n",
      "- illness   1   4290.4 6644.0\n",
      "- actdays   1   4609.9 6963.5\n",
      "\n",
      "Step:  AIC=6600.99\n",
      "doctorco ~ sex + freepoor + illness + actdays + hscore + chcond1 + \n",
      "    nondocco + hospadmi + medicine + prescrib\n",
      "\n",
      "           Df Deviance    AIC\n",
      "<none>          4247.4 6601.0\n",
      "- nondocco  1   4249.7 6601.3\n",
      "- chcond1   1   4249.8 6601.3\n",
      "+ income    1   4246.3 6601.9\n",
      "- hscore    1   4250.6 6602.2\n",
      "+ levyplus  1   4247.2 6602.8\n",
      "+ agesq     1   4247.3 6602.8\n",
      "+ age       1   4247.3 6602.9\n",
      "+ hospdays  1   4247.4 6603.0\n",
      "+ chcond2   1   4247.4 6603.0\n",
      "+ freepera  1   4247.4 6603.0\n",
      "- medicine  1   4253.5 6605.0\n",
      "- sex       1   4253.8 6605.3\n",
      "- freepoor  1   4254.0 6605.6\n",
      "- hospadmi  1   4274.7 6626.3\n",
      "- prescrib  1   4289.3 6640.9\n",
      "- illness   1   4292.7 6644.3\n",
      "- actdays   1   4610.7 6962.2\n"
     ]
    },
    {
     "data": {
      "text/plain": [
       "\n",
       "Call:  glm(formula = doctorco ~ sex + freepoor + illness + actdays + \n",
       "    hscore + chcond1 + nondocco + hospadmi + medicine + prescrib, \n",
       "    family = \"poisson\", data = data)\n",
       "\n",
       "Coefficients:\n",
       "(Intercept)          sex     freepoor      illness      actdays       hscore  \n",
       "   -2.00115      0.13673     -0.41430      0.13348      0.11023      0.01833  \n",
       "    chcond1     nondocco     hospadmi     medicine     prescrib  \n",
       "    0.08181      0.02340      0.15973     -0.08845      0.22538  \n",
       "\n",
       "Degrees of Freedom: 5189 Total (i.e. Null);  5179 Residual\n",
       "Null Deviance:\t    5635 \n",
       "Residual Deviance: 4247 \tAIC: 6601"
      ]
     },
     "metadata": {},
     "output_type": "display_data"
    }
   ],
   "source": [
    "#find the best variables\n",
    "library(MASS)\n",
    "stepAIC(poisson_model, direction=\"both\")"
   ]
  },
  {
   "cell_type": "markdown",
   "id": "c9bf9cfe",
   "metadata": {},
   "source": []
  },
  {
   "cell_type": "markdown",
   "id": "ef180dc5",
   "metadata": {},
   "source": [
    "\"sex\",\"age\",\"agesq\",\"income\",\"levyplus\",\"freepoor\",\"freepera\",\"illness\",\"actdays\",\"hscore\",\"chcond1\",\"chcond2\",\"doctorco\",\"nondocco\",\"hospadmi\",\"hospdays\",\"medicine\",\"prescrib\",\"nonpresc\",\"constant\""
   ]
  },
  {
   "cell_type": "code",
   "execution_count": 13,
   "id": "c05d8cd3",
   "metadata": {
    "vscode": {
     "languageId": "r"
    }
   },
   "outputs": [
    {
     "data": {
      "text/plain": [
       "\n",
       "Call:\n",
       "glm(formula = doctorco ~ sex + freepoor + illness + actdays + \n",
       "    hscore + chcond1 + nondocco + hospadmi + medicine + prescrib, \n",
       "    family = \"poisson\", data = data)\n",
       "\n",
       "Coefficients:\n",
       "             Estimate Std. Error z value Pr(>|z|)    \n",
       "(Intercept) -2.001155   0.055232 -36.232  < 2e-16 ***\n",
       "sex          0.136728   0.054480   2.510   0.0121 *  \n",
       "freepoor    -0.414298   0.172013  -2.409   0.0160 *  \n",
       "illness      0.133480   0.019656   6.791 1.11e-11 ***\n",
       "actdays      0.110231   0.005376  20.506  < 2e-16 ***\n",
       "hscore       0.018328   0.010199   1.797   0.0723 .  \n",
       "chcond1      0.081807   0.053329   1.534   0.1250    \n",
       "nondocco     0.023399   0.015046   1.555   0.1199    \n",
       "hospadmi     0.159728   0.029373   5.438 5.39e-08 ***\n",
       "medicine    -0.088453   0.037199  -2.378   0.0174 *  \n",
       "prescrib     0.225385   0.037556   6.001 1.96e-09 ***\n",
       "---\n",
       "Signif. codes:  0 '***' 0.001 '**' 0.01 '*' 0.05 '.' 0.1 ' ' 1\n",
       "\n",
       "(Dispersion parameter for poisson family taken to be 1)\n",
       "\n",
       "    Null deviance: 5634.8  on 5189  degrees of freedom\n",
       "Residual deviance: 4247.4  on 5179  degrees of freedom\n",
       "AIC: 6601\n",
       "\n",
       "Number of Fisher Scoring iterations: 6\n"
      ]
     },
     "metadata": {},
     "output_type": "display_data"
    },
    {
     "name": "stdout",
     "output_type": "stream",
     "text": [
      "[1] 4247.427\n",
      "[1] 5179\n",
      "[1] 0.8201249\n",
      "[1] 0.8183867\n",
      "[1] \"The model is NOT overdispersed\"\n"
     ]
    }
   ],
   "source": [
    "poisson_model_best_par <- glm(doctorco ~ sex + freepoor + illness + actdays + \n",
    "    hscore + chcond1 + nondocco + hospadmi + medicine + prescrib, \n",
    "    family = \"poisson\", data = data)\n",
    "\n",
    "summary(poisson_model_best_par)\n",
    "\n",
    "# Diagnostics for the Poisson model (e.g., checking for overdispersion)\n",
    "# Overdispersion can be roughly checked by comparing residual deviance to degrees of freedom\n",
    "print(poisson_model_best_par$deviance)\n",
    "print(poisson_model_best_par$df.residual)\n",
    "\n",
    "# Overdispersion parameter\n",
    "dispersion_parameter <- poisson_model_best_par$deviance/poisson_model_best_par$df.residual\n",
    "print(dispersion_parameter)\n",
    "\n",
    "#mean deviance\n",
    "mean_deviance <- poisson_model_best_par$deviance/nrow(data)\n",
    "print(mean_deviance)\n",
    "\n",
    "# Checking for overdispersion\n",
    "if (dispersion_parameter > 1) {\n",
    "  print(\"The model is overdispersed\")\n",
    "} else {\n",
    "  print(\"The model is NOT overdispersed\")\n",
    "}"
   ]
  },
  {
   "cell_type": "markdown",
   "id": "f00fdc2d",
   "metadata": {},
   "source": [
    "Continuing with the analysis, after exploring the Poisson regression model, it's advisable to consider a Negative Binomial regression. In this specific and rare case, which the model is not overdispersed, but underdispersed, the Negative Binomial model might not be necessary. However, it's still a good practice to explore alternative models to confirm the adequacy of the Poisson model."
   ]
  },
  {
   "cell_type": "code",
   "execution_count": 14,
   "id": "08c76105",
   "metadata": {
    "vscode": {
     "languageId": "r"
    }
   },
   "outputs": [
    {
     "data": {
      "text/plain": [
       "\n",
       "Call:\n",
       "glm.nb(formula = doctorco ~ ., data = data, init.theta = 1.037148507, \n",
       "    link = log)\n",
       "\n",
       "Coefficients: (2 not defined because of singularities)\n",
       "              Estimate Std. Error z value Pr(>|z|)    \n",
       "(Intercept) -2.108e+00  2.328e-01  -9.055  < 2e-16 ***\n",
       "sex          1.690e-01  7.000e-02   2.415 0.015753 *  \n",
       "age         -1.322e-02  1.265e+00  -0.010 0.991659    \n",
       "agesq       -1.103e-01  1.382e+00  -0.080 0.936408    \n",
       "income      -9.360e-02  1.081e-01  -0.866 0.386487    \n",
       "levyplus     6.299e-02  8.532e-02   0.738 0.460328    \n",
       "freepoor    -5.368e-01  2.131e-01  -2.519 0.011759 *  \n",
       "freepera     9.210e-02  1.155e-01   0.797 0.425372    \n",
       "illness      1.648e-01  2.492e-02   6.613 3.78e-11 ***\n",
       "actdays      1.234e-01  7.590e-03  16.253  < 2e-16 ***\n",
       "hscore       2.892e-02  1.364e-02   2.121 0.033944 *  \n",
       "chcond1      3.727e-02  8.017e-02   0.465 0.642067    \n",
       "chcond2     -3.061e-05  1.077e-01   0.000 0.999773    \n",
       "nondocco     2.196e-02  2.327e-02   0.944 0.345367    \n",
       "hospadmi     1.909e-01  5.068e-02   3.767 0.000165 ***\n",
       "hospdays     1.208e-03  4.188e-03   0.288 0.773056    \n",
       "medicine    -1.103e-01  4.632e-02  -2.382 0.017228 *  \n",
       "prescrib     2.772e-01  4.860e-02   5.703 1.18e-08 ***\n",
       "nonpresc            NA         NA      NA       NA    \n",
       "constant            NA         NA      NA       NA    \n",
       "---\n",
       "Signif. codes:  0 '***' 0.001 '**' 0.01 '*' 0.05 '.' 0.1 ' ' 1\n",
       "\n",
       "(Dispersion parameter for Negative Binomial(1.0371) family taken to be 1)\n",
       "\n",
       "    Null deviance: 4035.0  on 5189  degrees of freedom\n",
       "Residual deviance: 3018.4  on 5172  degrees of freedom\n",
       "AIC: 6346.4\n",
       "\n",
       "Number of Fisher Scoring iterations: 1\n",
       "\n",
       "\n",
       "              Theta:  1.0371 \n",
       "          Std. Err.:  0.1000 \n",
       "\n",
       " 2 x log-likelihood:  -6308.3620 "
      ]
     },
     "metadata": {},
     "output_type": "display_data"
    }
   ],
   "source": [
    "# Negative Binomial Regression (using MASS package) with all the variables\n",
    "\n",
    "#negbin_model <- glm.nb(doctorco ~ ., data = data)\n",
    "negbin_model <- glm.nb(formula = doctorco ~ ., data = data)\n",
    "\n",
    "# Summary of the Negative Binomial model\n",
    "summary(negbin_model)"
   ]
  },
  {
   "cell_type": "markdown",
   "id": "d17c09e4",
   "metadata": {},
   "source": [
    "Like before, we can use stepAIC() to perform stepwise model selection and identify the best model based on the AIC criterion. We can then compare the AIC of the Poisson model with the AIC of the Negative Binomial model to determine which model is the best fit for the data."
   ]
  },
  {
   "cell_type": "markdown",
   "id": "b4df2abe",
   "metadata": {},
   "source": [
    "Just for testing, we can firstly check the best parameters found for poisson regression model and then we can check the best parameters found for negative binomial regression model."
   ]
  },
  {
   "cell_type": "code",
   "execution_count": 15,
   "id": "723d68d5",
   "metadata": {
    "vscode": {
     "languageId": "r"
    }
   },
   "outputs": [
    {
     "data": {
      "text/plain": [
       "\n",
       "Call:\n",
       "glm.nb(formula = doctorco ~ sex + freepoor + illness + actdays + \n",
       "    hscore + chcond1 + nondocco + hospadmi + medicine + prescrib, \n",
       "    data = data, init.theta = 1.040409799, link = log)\n",
       "\n",
       "Coefficients:\n",
       "             Estimate Std. Error z value Pr(>|z|)    \n",
       "(Intercept) -2.158596   0.065873 -32.769  < 2e-16 ***\n",
       "sex          0.192188   0.066931   2.871  0.00409 ** \n",
       "freepoor    -0.539699   0.203569  -2.651  0.00802 ** \n",
       "illness      0.165962   0.024464   6.784 1.17e-11 ***\n",
       "actdays      0.122779   0.007512  16.344  < 2e-16 ***\n",
       "hscore       0.029998   0.013486   2.224  0.02612 *  \n",
       "chcond1      0.037262   0.065778   0.566  0.57107    \n",
       "nondocco     0.024275   0.023045   1.053  0.29217    \n",
       "hospadmi     0.199652   0.045979   4.342 1.41e-05 ***\n",
       "medicine    -0.113338   0.045989  -2.464  0.01372 *  \n",
       "prescrib     0.283027   0.047125   6.006 1.90e-09 ***\n",
       "---\n",
       "Signif. codes:  0 '***' 0.001 '**' 0.01 '*' 0.05 '.' 0.1 ' ' 1\n",
       "\n",
       "(Dispersion parameter for Negative Binomial(1.0404) family taken to be 1)\n",
       "\n",
       "    Null deviance: 4037.9  on 5189  degrees of freedom\n",
       "Residual deviance: 3022.4  on 5179  degrees of freedom\n",
       "AIC: 6334.2\n",
       "\n",
       "Number of Fisher Scoring iterations: 1\n",
       "\n",
       "\n",
       "              Theta:  1.040 \n",
       "          Std. Err.:  0.101 \n",
       "\n",
       " 2 x log-likelihood:  -6310.186 "
      ]
     },
     "metadata": {},
     "output_type": "display_data"
    }
   ],
   "source": [
    "# Negative Binomial Regression with the best variables found with poisson regression\n",
    "\n",
    "negbin_model_testing_1 <- glm.nb(formula = doctorco ~ sex + freepoor + illness + actdays + \n",
    "    hscore + chcond1 + nondocco + hospadmi + medicine + prescrib, \n",
    "    data = data)\n",
    "\n",
    "# Summary of the Negative Binomial model\n",
    "summary(negbin_model_testing_1)"
   ]
  },
  {
   "cell_type": "code",
   "execution_count": 16,
   "id": "ac7b94f9",
   "metadata": {
    "vscode": {
     "languageId": "r"
    }
   },
   "outputs": [
    {
     "name": "stdout",
     "output_type": "stream",
     "text": [
      "Start:  AIC=6344.36\n",
      "doctorco ~ sex + age + agesq + income + levyplus + freepoor + \n",
      "    freepera + illness + actdays + hscore + chcond1 + chcond2 + \n",
      "    nondocco + hospadmi + hospdays + medicine + prescrib + nonpresc + \n",
      "    constant\n",
      "\n",
      "\n",
      "Step:  AIC=6344.36\n",
      "doctorco ~ sex + age + agesq + income + levyplus + freepoor + \n",
      "    freepera + illness + actdays + hscore + chcond1 + chcond2 + \n",
      "    nondocco + hospadmi + hospdays + medicine + prescrib + nonpresc\n",
      "\n",
      "\n",
      "Step:  AIC=6344.36\n",
      "doctorco ~ sex + age + agesq + income + levyplus + freepoor + \n",
      "    freepera + illness + actdays + hscore + chcond1 + chcond2 + \n",
      "    nondocco + hospadmi + hospdays + medicine + prescrib\n",
      "\n",
      "           Df    AIC\n",
      "- chcond2   1 6342.4\n",
      "- age       1 6342.4\n",
      "- agesq     1 6342.4\n",
      "- hospdays  1 6342.4\n",
      "- chcond1   1 6342.6\n",
      "- levyplus  1 6342.9\n",
      "- freepera  1 6343.0\n",
      "- income    1 6343.1\n",
      "- nondocco  1 6343.2\n",
      "<none>        6344.4\n",
      "- hscore    1 6346.7\n",
      "- sex       1 6348.2\n",
      "- medicine  1 6348.3\n",
      "- freepoor  1 6349.7\n",
      "- hospadmi  1 6353.9\n",
      "- prescrib  1 6376.7\n",
      "- illness   1 6383.7\n",
      "- actdays   1 6574.7\n",
      "\n",
      "Step:  AIC=6342.36\n",
      "doctorco ~ sex + age + agesq + income + levyplus + freepoor + \n",
      "    freepera + illness + actdays + hscore + chcond1 + nondocco + \n",
      "    hospadmi + hospdays + medicine + prescrib\n",
      "\n",
      "           Df    AIC\n",
      "- age       1 6340.4\n",
      "- agesq     1 6340.4\n",
      "- hospdays  1 6340.4\n",
      "- chcond1   1 6340.7\n",
      "- levyplus  1 6340.9\n",
      "- freepera  1 6341.0\n",
      "- income    1 6341.1\n",
      "- nondocco  1 6341.2\n",
      "<none>        6342.4\n",
      "+ chcond2   1 6344.4\n",
      "- hscore    1 6344.7\n",
      "- sex       1 6346.2\n",
      "- medicine  1 6346.3\n",
      "- freepoor  1 6347.7\n",
      "- hospadmi  1 6352.0\n",
      "- prescrib  1 6374.8\n",
      "- illness   1 6383.0\n",
      "- actdays   1 6573.4\n",
      "\n",
      "Step:  AIC=6340.36\n",
      "doctorco ~ sex + agesq + income + levyplus + freepoor + freepera + \n",
      "    illness + actdays + hscore + chcond1 + nondocco + hospadmi + \n",
      "    hospdays + medicine + prescrib\n",
      "\n",
      "           Df    AIC\n",
      "- hospdays  1 6338.4\n",
      "- agesq     1 6338.6\n",
      "- chcond1   1 6338.7\n",
      "- levyplus  1 6338.9\n",
      "- freepera  1 6339.0\n",
      "- nondocco  1 6339.2\n",
      "- income    1 6339.2\n",
      "<none>        6340.4\n",
      "+ age       1 6342.4\n",
      "+ chcond2   1 6342.4\n",
      "- hscore    1 6342.7\n",
      "- sex       1 6344.2\n",
      "- medicine  1 6344.3\n",
      "- freepoor  1 6345.7\n",
      "- hospadmi  1 6350.0\n",
      "- prescrib  1 6372.8\n",
      "- illness   1 6381.0\n",
      "- actdays   1 6571.4\n",
      "\n",
      "Step:  AIC=6338.43\n",
      "doctorco ~ sex + agesq + income + levyplus + freepoor + freepera + \n",
      "    illness + actdays + hscore + chcond1 + nondocco + hospadmi + \n",
      "    medicine + prescrib\n",
      "\n",
      "           Df    AIC\n",
      "- agesq     1 6336.7\n",
      "- chcond1   1 6336.7\n",
      "- levyplus  1 6337.0\n",
      "- freepera  1 6337.1\n",
      "- income    1 6337.3\n",
      "- nondocco  1 6337.3\n",
      "<none>        6338.4\n",
      "+ hospdays  1 6340.4\n",
      "+ age       1 6340.4\n",
      "+ chcond2   1 6340.4\n",
      "- hscore    1 6340.8\n",
      "- sex       1 6342.3\n",
      "- medicine  1 6342.4\n",
      "- freepoor  1 6343.8\n",
      "- hospadmi  1 6351.8\n",
      "- prescrib  1 6371.0\n",
      "- illness   1 6379.0\n",
      "- actdays   1 6569.7\n",
      "\n",
      "Step:  AIC=6336.7\n",
      "doctorco ~ sex + income + levyplus + freepoor + freepera + illness + \n",
      "    actdays + hscore + chcond1 + nondocco + hospadmi + medicine + \n",
      "    prescrib\n",
      "\n",
      "           Df    AIC\n",
      "- chcond1   1 6334.9\n",
      "- freepera  1 6335.1\n",
      "- levyplus  1 6335.1\n",
      "- income    1 6335.4\n",
      "- nondocco  1 6335.5\n",
      "<none>        6336.7\n",
      "+ agesq     1 6338.4\n",
      "+ age       1 6338.4\n",
      "+ hospdays  1 6338.6\n",
      "+ chcond2   1 6338.7\n",
      "- hscore    1 6339.3\n",
      "- sex       1 6340.5\n",
      "- medicine  1 6340.6\n",
      "- freepoor  1 6341.9\n",
      "- hospadmi  1 6350.0\n",
      "- prescrib  1 6369.1\n",
      "- illness   1 6377.2\n",
      "- actdays   1 6567.7\n",
      "\n",
      "Step:  AIC=6334.91\n",
      "doctorco ~ sex + income + levyplus + freepoor + freepera + illness + \n",
      "    actdays + hscore + nondocco + hospadmi + medicine + prescrib\n",
      "\n",
      "           Df    AIC\n",
      "- levyplus  1 6333.4\n",
      "- freepera  1 6333.4\n",
      "- income    1 6333.6\n",
      "- nondocco  1 6333.7\n",
      "<none>        6334.9\n",
      "+ chcond1   1 6336.7\n",
      "+ agesq     1 6336.7\n",
      "+ age       1 6336.7\n",
      "+ hospdays  1 6336.8\n",
      "+ chcond2   1 6336.9\n",
      "- hscore    1 6337.4\n",
      "- medicine  1 6338.8\n",
      "- sex       1 6338.9\n",
      "- freepoor  1 6340.0\n",
      "- hospadmi  1 6348.1\n",
      "- prescrib  1 6367.5\n",
      "- illness   1 6377.1\n",
      "- actdays   1 6565.8\n",
      "\n",
      "Step:  AIC=6333.37\n",
      "doctorco ~ sex + income + freepoor + freepera + illness + actdays + \n",
      "    hscore + nondocco + hospadmi + medicine + prescrib\n",
      "\n",
      "           Df    AIC\n",
      "- freepera  1 6331.5\n",
      "- income    1 6332.0\n",
      "- nondocco  1 6332.2\n",
      "<none>        6333.4\n",
      "+ levyplus  1 6334.9\n",
      "+ chcond1   1 6335.1\n",
      "+ hospdays  1 6335.3\n",
      "+ agesq     1 6335.3\n",
      "+ chcond2   1 6335.3\n",
      "+ age       1 6335.3\n",
      "- hscore    1 6335.8\n",
      "- medicine  1 6337.2\n",
      "- sex       1 6338.1\n",
      "- freepoor  1 6339.9\n",
      "- hospadmi  1 6346.7\n",
      "- prescrib  1 6366.6\n",
      "- illness   1 6375.4\n",
      "- actdays   1 6563.9\n",
      "\n",
      "Step:  AIC=6331.51\n",
      "doctorco ~ sex + income + freepoor + illness + actdays + hscore + \n",
      "    nondocco + hospadmi + medicine + prescrib\n",
      "\n",
      "           Df    AIC\n",
      "- nondocco  1 6330.4\n",
      "- income    1 6330.5\n",
      "<none>        6331.5\n",
      "+ chcond1   1 6333.2\n",
      "+ freepera  1 6333.4\n",
      "+ levyplus  1 6333.4\n",
      "+ hospdays  1 6333.4\n",
      "+ chcond2   1 6333.5\n",
      "+ agesq     1 6333.5\n",
      "+ age       1 6333.5\n",
      "- hscore    1 6334.0\n",
      "- medicine  1 6335.4\n",
      "- sex       1 6336.4\n",
      "- freepoor  1 6338.7\n",
      "- hospadmi  1 6344.8\n",
      "- prescrib  1 6365.9\n",
      "- illness   1 6374.0\n",
      "- actdays   1 6561.9\n",
      "\n",
      "Step:  AIC=6330.41\n",
      "doctorco ~ sex + income + freepoor + illness + actdays + hscore + \n",
      "    hospadmi + medicine + prescrib\n",
      "\n",
      "           Df    AIC\n",
      "- income    1 6329.5\n",
      "<none>        6330.4\n",
      "+ nondocco  1 6331.5\n",
      "+ chcond1   1 6332.1\n",
      "+ freepera  1 6332.2\n",
      "+ hospdays  1 6332.3\n",
      "+ levyplus  1 6332.3\n",
      "+ chcond2   1 6332.4\n",
      "+ age       1 6332.4\n",
      "+ agesq     1 6332.4\n",
      "- hscore    1 6333.0\n",
      "- medicine  1 6334.4\n",
      "- sex       1 6335.5\n",
      "- freepoor  1 6337.7\n",
      "- hospadmi  1 6344.5\n",
      "- prescrib  1 6365.4\n",
      "- illness   1 6372.8\n",
      "- actdays   1 6573.0\n",
      "\n",
      "Step:  AIC=6329.49\n",
      "doctorco ~ sex + freepoor + illness + actdays + hscore + hospadmi + \n",
      "    medicine + prescrib\n",
      "\n",
      "           Df    AIC\n",
      "<none>        6329.5\n",
      "+ income    1 6330.4\n",
      "+ nondocco  1 6330.5\n",
      "+ freepera  1 6330.9\n",
      "+ chcond1   1 6331.2\n",
      "+ hospdays  1 6331.3\n",
      "+ agesq     1 6331.4\n",
      "+ age       1 6331.4\n",
      "+ chcond2   1 6331.5\n",
      "+ levyplus  1 6331.5\n",
      "- hscore    1 6332.2\n",
      "- medicine  1 6334.0\n",
      "- freepoor  1 6336.0\n",
      "- sex       1 6336.6\n",
      "- hospadmi  1 6343.9\n",
      "- prescrib  1 6366.8\n",
      "- illness   1 6373.1\n",
      "- actdays   1 6571.4\n"
     ]
    },
    {
     "data": {
      "text/plain": [
       "\n",
       "Call:  glm.nb(formula = doctorco ~ sex + freepoor + illness + actdays + \n",
       "    hscore + hospadmi + medicine + prescrib, data = data, init.theta = 1.036677804, \n",
       "    link = log)\n",
       "\n",
       "Coefficients:\n",
       "(Intercept)          sex     freepoor      illness      actdays       hscore  \n",
       "    -2.1476       0.1996      -0.5426       0.1681       0.1241       0.0297  \n",
       "   hospadmi     medicine     prescrib  \n",
       "     0.2024      -0.1142       0.2866  \n",
       "\n",
       "Degrees of Freedom: 5189 Total (i.e. Null);  5181 Residual\n",
       "Null Deviance:\t    4035 \n",
       "Residual Deviance: 3021 \tAIC: 6331"
      ]
     },
     "metadata": {},
     "output_type": "display_data"
    }
   ],
   "source": [
    "# stepAIC for negative binomial model\n",
    "\n",
    "stepAIC(negbin_model, direction=\"both\")\n"
   ]
  },
  {
   "cell_type": "markdown",
   "id": "911bd837",
   "metadata": {},
   "source": []
  },
  {
   "cell_type": "markdown",
   "id": "cf47e4b8",
   "metadata": {},
   "source": [
    "Found the best parameters for negative binomial regression model. The best parameters for the negative binomial regression model are not the same as the best parameters for the Poisson regression model. \n",
    "\n",
    "Actually, with the function stepAIC(), the best parameters for the negative binomial regression model are: \n",
    "    sex + freepoor + illness + actdays + hscore + hospadmi + medicine + prescrib \n",
    "\n",
    "with an AIC of 6331. \n",
    "\n",
    "\n"
   ]
  },
  {
   "cell_type": "code",
   "execution_count": 17,
   "id": "34153feb",
   "metadata": {
    "vscode": {
     "languageId": "r"
    }
   },
   "outputs": [
    {
     "data": {
      "text/plain": [
       "\n",
       "Call:\n",
       "glm.nb(formula = doctorco ~ sex + freepoor + illness + actdays + \n",
       "    hscore + hospadmi + medicine + prescrib, data = data, init.theta = 1.03670749, \n",
       "    link = log)\n",
       "\n",
       "Coefficients:\n",
       "             Estimate Std. Error z value Pr(>|z|)    \n",
       "(Intercept) -2.147554   0.063003 -34.086  < 2e-16 ***\n",
       "sex          0.199588   0.066482   3.002  0.00268 ** \n",
       "freepoor    -0.542598   0.203438  -2.667  0.00765 ** \n",
       "illness      0.168111   0.024190   6.950 3.66e-12 ***\n",
       "actdays      0.124050   0.007377  16.816  < 2e-16 ***\n",
       "hscore       0.029699   0.013436   2.210  0.02708 *  \n",
       "hospadmi     0.202383   0.045613   4.437 9.12e-06 ***\n",
       "medicine    -0.114215   0.046030  -2.481  0.01309 *  \n",
       "prescrib     0.286582   0.047154   6.078 1.22e-09 ***\n",
       "---\n",
       "Signif. codes:  0 '***' 0.001 '**' 0.01 '*' 0.05 '.' 0.1 ' ' 1\n",
       "\n",
       "(Dispersion parameter for Negative Binomial(1.0367) family taken to be 1)\n",
       "\n",
       "    Null deviance: 4034.6  on 5189  degrees of freedom\n",
       "Residual deviance: 3021.2  on 5181  degrees of freedom\n",
       "AIC: 6331.5\n",
       "\n",
       "Number of Fisher Scoring iterations: 1\n",
       "\n",
       "\n",
       "              Theta:  1.0367 \n",
       "          Std. Err.:  0.0999 \n",
       "\n",
       " 2 x log-likelihood:  -6311.4880 "
      ]
     },
     "metadata": {},
     "output_type": "display_data"
    }
   ],
   "source": [
    "# Negative Binomial Regression Model with best parameters (obtained with stepAIC())\n",
    "\n",
    "negbin_model_bp <- glm.nb(formula = doctorco ~ sex + freepoor + illness + actdays + \n",
    "    hscore + hospadmi + medicine + prescrib, \n",
    "    data = data)\n",
    "\n",
    "# Summary of the Negative Binomial model\n",
    "summary(negbin_model_bp)"
   ]
  },
  {
   "cell_type": "markdown",
   "id": "82ab2efd",
   "metadata": {},
   "source": [
    "With the AIC for the best Poisson model being 6601 and the AIC for the best Negative Binomial model being 6331.5, the Negative Binomial model has a significantly lower AIC. This suggests that the Negative Binomial model provides a better fit for the data compared to the Poisson model.\n",
    "\n",
    "The Akaike Information Criterion (AIC) is a widely used measure of a statistical model's quality. It deals with the trade-off between the goodness of fit of the model and the simplicity of the model. A lower AIC value generally indicates a model that better explains the variability in the data without overfitting.\n",
    "\n",
    "Since count data often exhibit overdispersion (where the variance exceeds the mean), the Negative Binomial model is typically more flexible in handling this characteristic. The results from analysis suggest that the Negative Binomial model not only accounts for overdispersion effectively but also results in a better overall model fit as evidenced by the lower AIC."
   ]
  },
  {
   "cell_type": "markdown",
   "id": "0a7377af",
   "metadata": {},
   "source": [
    "## New analysis:\n",
    "\n",
    "Now, we go through with a new analysis. In this new part of the project, we'll see:\n",
    "- Zero-Inflated Poisson (ZIP) \n",
    "- Zero-Inflated Negative Binomial (ZINB)\n",
    "- Hurdle-Poisson\n",
    "- Hurdle-Negative Binomial\n"
   ]
  },
  {
   "cell_type": "markdown",
   "id": "c0ac8238",
   "metadata": {},
   "source": [
    "We can start from Zero-Inflated Poisson (ZIP) model. The Zero-Inflated Poisson (ZIP) model is a mixture model that assumes that the data is generated by two processes. The first process is a Poisson process that generates the count data. The second process is a Bernoulli process that generates the zero-inflation. The ZIP model is a good choice for count data that has an excessive number of zeros. \n",
    "\n",
    "We can use the zeroinfl() function from the pscl package to fit a ZIP model to the data. We can use the command summary() to see the results of the model. After, we can see also the deviance of the model and the dispersion parameter. Then, we can check metrics like Accuracy, AUC, F-1 Score for binary classification and RMSE for regression."
   ]
  },
  {
   "cell_type": "code",
   "execution_count": 56,
   "id": "d037e6ea",
   "metadata": {
    "vscode": {
     "languageId": "r"
    }
   },
   "outputs": [
    {
     "name": "stderr",
     "output_type": "stream",
     "text": [
      "Installazione pacchetto in '/Users/andrea.buscema/Library/R/x86_64/4.3/library'\n",
      "(perch'e 'lib' non `e specificato)\n",
      "\n"
     ]
    },
    {
     "name": "stdout",
     "output_type": "stream",
     "text": [
      "\n",
      "I pacchetti binari scaricati sono in\n",
      "\t/var/folders/1f/b06ndvrs4z3d8ww70y1v2mxc0000gn/T//Rtmp4jnhZm/downloaded_packages\n"
     ]
    }
   ],
   "source": [
    "# Required libraries\n",
    "# install.packages(\"pROC\")\n",
    "\n",
    "install.packages(\"Metrics\")"
   ]
  },
  {
   "cell_type": "code",
   "execution_count": 26,
   "id": "9ed87fc6",
   "metadata": {
    "vscode": {
     "languageId": "r"
    }
   },
   "outputs": [
    {
     "data": {
      "text/plain": [
       "\n",
       "Call:\n",
       "zeroinfl(formula = doctorco ~ age + sex + income + levyplus + freepoor + \n",
       "    freepera + illness + actdays + hscore + chcond1 + chcond2 + nondocco + \n",
       "    hospadmi + hospdays + prescrib + nonpresc | age + sex + income + \n",
       "    levyplus + freepoor + freepera + illness + actdays + hscore + chcond1 + \n",
       "    chcond2 + nondocco + hospadmi + hospdays + prescrib + nonpresc, data = data, \n",
       "    dist = \"poisson\")\n",
       "\n",
       "Pearson residuals:\n",
       "    Min      1Q  Median      3Q     Max \n",
       "-2.2655 -0.4377 -0.2527 -0.1717 11.3941 \n",
       "\n",
       "Count model coefficients (poisson with log link):\n",
       "             Estimate Std. Error z value Pr(>|z|)    \n",
       "(Intercept) -0.355186   0.138103  -2.572  0.01011 *  \n",
       "age         -0.340477   0.211454  -1.610  0.10736    \n",
       "sex         -0.064331   0.067620  -0.951  0.34143    \n",
       "income      -0.175331   0.104677  -1.675  0.09394 .  \n",
       "levyplus    -0.132438   0.093732  -1.413  0.15767    \n",
       "freepoor    -0.270693   0.224454  -1.206  0.22782    \n",
       "freepera    -0.235527   0.111751  -2.108  0.03507 *  \n",
       "illness      0.037010   0.024199   1.529  0.12616    \n",
       "actdays      0.075518   0.005742  13.153  < 2e-16 ***\n",
       "hscore       0.017475   0.010856   1.610  0.10747    \n",
       "chcond1     -0.172839   0.088475  -1.954  0.05076 .  \n",
       "chcond2     -0.268655   0.098788  -2.720  0.00654 ** \n",
       "nondocco     0.011266   0.015762   0.715  0.47476    \n",
       "hospadmi     0.205030   0.032824   6.246 4.20e-10 ***\n",
       "hospdays    -0.002220   0.002986  -0.743  0.45718    \n",
       "prescrib     0.077610   0.018956   4.094 4.24e-05 ***\n",
       "nonpresc    -0.100843   0.042157  -2.392  0.01675 *  \n",
       "\n",
       "Zero-inflation model coefficients (binomial with logit link):\n",
       "            Estimate Std. Error z value Pr(>|z|)    \n",
       "(Intercept)  2.69490    0.31403   8.582  < 2e-16 ***\n",
       "age         -0.48928    0.58571  -0.835 0.403519    \n",
       "sex         -0.19756    0.18424  -1.072 0.283595    \n",
       "income      -0.16341    0.26142  -0.625 0.531901    \n",
       "levyplus    -0.58952    0.20748  -2.841 0.004491 ** \n",
       "freepoor     0.52603    0.49038   1.073 0.283407    \n",
       "freepera    -1.29362    0.35296  -3.665 0.000247 ***\n",
       "illness     -0.32979    0.08498  -3.881 0.000104 ***\n",
       "actdays     -1.00526    0.23251  -4.323 1.54e-05 ***\n",
       "hscore      -0.07176    0.04302  -1.668 0.095314 .  \n",
       "chcond1     -0.03726    0.21181  -0.176 0.860384    \n",
       "chcond2     -0.25868    0.36000  -0.719 0.472415    \n",
       "nondocco    -0.26669    0.20334  -1.312 0.189676    \n",
       "hospadmi     0.00678    0.20965   0.032 0.974201    \n",
       "hospdays    -0.04927    0.03138  -1.570 0.116410    \n",
       "prescrib    -1.24990    0.18570  -6.731 1.69e-11 ***\n",
       "nonpresc     0.07496    0.12023   0.623 0.532990    \n",
       "---\n",
       "Signif. codes:  0 '***' 0.001 '**' 0.01 '*' 0.05 '.' 0.1 ' ' 1 \n",
       "\n",
       "Number of iterations in BFGS optimization: 84 \n",
       "Log-likelihood: -3049 on 34 Df"
      ]
     },
     "metadata": {},
     "output_type": "display_data"
    },
    {
     "data": {
      "text/plain": [
       "\n",
       "Call:\n",
       "zeroinfl(formula = doctorco ~ levyplus + freepera + illness + actdays + \n",
       "    hscore + chcond1 + chcond2 + hospadmi + prescrib + nonpresc | levyplus + \n",
       "    freepoor + freepera + illness + actdays + hscore + nondocco + hospdays + \n",
       "    prescrib + nonpresc, data = data, dist = \"poisson\")\n",
       "\n",
       "Pearson residuals:\n",
       "    Min      1Q  Median      3Q     Max \n",
       "-2.2869 -0.4338 -0.2528 -0.1766 11.1438 \n",
       "\n",
       "Count model coefficients (poisson with log link):\n",
       "            Estimate Std. Error z value Pr(>|z|)    \n",
       "(Intercept) -0.60203    0.09170  -6.565 5.20e-11 ***\n",
       "levyplus    -0.17430    0.08501  -2.050 0.040323 *  \n",
       "freepera    -0.28669    0.09112  -3.146 0.001653 ** \n",
       "illness      0.03803    0.02369   1.605 0.108393    \n",
       "actdays      0.07500    0.00567  13.227  < 2e-16 ***\n",
       "hscore       0.01878    0.01082   1.735 0.082673 .  \n",
       "chcond1     -0.19025    0.07000  -2.718 0.006571 ** \n",
       "chcond2     -0.25730    0.08529  -3.017 0.002555 ** \n",
       "hospadmi     0.20306    0.03026   6.711 1.93e-11 ***\n",
       "prescrib     0.06981    0.01802   3.873 0.000107 ***\n",
       "nonpresc    -0.10124    0.04178  -2.423 0.015376 *  \n",
       "\n",
       "Zero-inflation model coefficients (binomial with logit link):\n",
       "            Estimate Std. Error z value Pr(>|z|)    \n",
       "(Intercept)  2.37072    0.18083  13.110  < 2e-16 ***\n",
       "levyplus    -0.67438    0.19545  -3.450  0.00056 ***\n",
       "freepoor     0.77908    0.40068   1.944  0.05184 .  \n",
       "freepera    -1.46264    0.28417  -5.147 2.65e-07 ***\n",
       "illness     -0.34227    0.08182  -4.183 2.87e-05 ***\n",
       "actdays     -1.00841    0.23788  -4.239 2.24e-05 ***\n",
       "hscore      -0.06851    0.04279  -1.601  0.10934    \n",
       "nondocco    -0.30358    0.20797  -1.460  0.14436    \n",
       "hospdays    -0.04494    0.02650  -1.696  0.08996 .  \n",
       "prescrib    -1.28388    0.18129  -7.082 1.42e-12 ***\n",
       "nonpresc     0.06300    0.11818   0.533  0.59395    \n",
       "---\n",
       "Signif. codes:  0 '***' 0.001 '**' 0.01 '*' 0.05 '.' 0.1 ' ' 1 \n",
       "\n",
       "Number of iterations in BFGS optimization: 46 \n",
       "Log-likelihood: -3053 on 22 Df"
      ]
     },
     "metadata": {},
     "output_type": "display_data"
    },
    {
     "data": {
      "text/plain": [
       "\n",
       "Call:\n",
       "zeroinfl(formula = doctorco ~ income * levyplus + income * freepera + \n",
       "    illness * actdays + hscore + chcond1 + age * chcond2 + hospadmi + \n",
       "    prescrib + nonpresc | levyplus + freepoor + freepera + illness + \n",
       "    actdays + hscore + nondocco + hospdays + prescrib + nonpresc, data = data, \n",
       "    dist = \"poisson\")\n",
       "\n",
       "Pearson residuals:\n",
       "    Min      1Q  Median      3Q     Max \n",
       "-2.0943 -0.4317 -0.2536 -0.1741 12.4877 \n",
       "\n",
       "Count model coefficients (poisson with log link):\n",
       "                 Estimate Std. Error z value Pr(>|z|)    \n",
       "(Intercept)     -0.385590   0.153026  -2.520  0.01174 *  \n",
       "income          -0.522958   0.172390  -3.034  0.00242 ** \n",
       "levyplus        -0.490642   0.149744  -3.277  0.00105 ** \n",
       "freepera        -0.448903   0.174857  -2.567  0.01025 *  \n",
       "illness          0.061461   0.030480   2.016  0.04376 *  \n",
       "actdays          0.085201   0.010216   8.340  < 2e-16 ***\n",
       "hscore           0.019222   0.010847   1.772  0.07637 .  \n",
       "chcond1         -0.206790   0.073446  -2.816  0.00487 ** \n",
       "age             -0.018219   0.198271  -0.092  0.92679    \n",
       "chcond2          0.109725   0.176893   0.620  0.53507    \n",
       "hospadmi         0.202734   0.030503   6.646 3.01e-11 ***\n",
       "prescrib         0.077794   0.018645   4.172 3.01e-05 ***\n",
       "nonpresc        -0.104807   0.042045  -2.493  0.01268 *  \n",
       "income:levyplus  0.583598   0.201398   2.898  0.00376 ** \n",
       "income:freepera  0.214902   0.378514   0.568  0.57020    \n",
       "illness:actdays -0.003374   0.003275  -1.030  0.30289    \n",
       "age:chcond2     -0.766108   0.331674  -2.310  0.02090 *  \n",
       "\n",
       "Zero-inflation model coefficients (binomial with logit link):\n",
       "            Estimate Std. Error z value Pr(>|z|)    \n",
       "(Intercept)  2.24215    0.19360  11.581  < 2e-16 ***\n",
       "levyplus    -0.62736    0.19889  -3.154 0.001609 ** \n",
       "freepoor     0.98724    0.40637   2.429 0.015122 *  \n",
       "freepera    -1.41676    0.29219  -4.849 1.24e-06 ***\n",
       "illness     -0.30552    0.08595  -3.555 0.000379 ***\n",
       "actdays     -0.94628    0.22945  -4.124 3.72e-05 ***\n",
       "hscore      -0.06026    0.04297  -1.402 0.160780    \n",
       "nondocco    -0.29457    0.20121  -1.464 0.143191    \n",
       "hospdays    -0.04332    0.02700  -1.605 0.108592    \n",
       "prescrib    -1.33508    0.18913  -7.059 1.68e-12 ***\n",
       "nonpresc     0.06272    0.11914   0.526 0.598555    \n",
       "---\n",
       "Signif. codes:  0 '***' 0.001 '**' 0.01 '*' 0.05 '.' 0.1 ' ' 1 \n",
       "\n",
       "Number of iterations in BFGS optimization: 57 \n",
       "Log-likelihood: -3044 on 28 Df"
      ]
     },
     "metadata": {},
     "output_type": "display_data"
    },
    {
     "data": {
      "text/html": [
       "<table class=\"dataframe\">\n",
       "<caption>A data.frame: 3 x 2</caption>\n",
       "<thead>\n",
       "\t<tr><th></th><th scope=col>df</th><th scope=col>AIC</th></tr>\n",
       "\t<tr><th></th><th scope=col>&lt;dbl&gt;</th><th scope=col>&lt;dbl&gt;</th></tr>\n",
       "</thead>\n",
       "<tbody>\n",
       "\t<tr><th scope=row>model_zip_1_p</th><td>34</td><td>6165.884</td></tr>\n",
       "\t<tr><th scope=row>model_zip_2_p</th><td>22</td><td>6149.819</td></tr>\n",
       "\t<tr><th scope=row>model_zip_3_p</th><td>28</td><td>6143.782</td></tr>\n",
       "</tbody>\n",
       "</table>\n"
      ],
      "text/latex": [
       "A data.frame: 3 x 2\n",
       "\\begin{tabular}{r|ll}\n",
       "  & df & AIC\\\\\n",
       "  & <dbl> & <dbl>\\\\\n",
       "\\hline\n",
       "\tmodel\\_zip\\_1\\_p & 34 & 6165.884\\\\\n",
       "\tmodel\\_zip\\_2\\_p & 22 & 6149.819\\\\\n",
       "\tmodel\\_zip\\_3\\_p & 28 & 6143.782\\\\\n",
       "\\end{tabular}\n"
      ],
      "text/markdown": [
       "\n",
       "A data.frame: 3 x 2\n",
       "\n",
       "| <!--/--> | df &lt;dbl&gt; | AIC &lt;dbl&gt; |\n",
       "|---|---|---|\n",
       "| model_zip_1_p | 34 | 6165.884 |\n",
       "| model_zip_2_p | 22 | 6149.819 |\n",
       "| model_zip_3_p | 28 | 6143.782 |\n",
       "\n"
      ],
      "text/plain": [
       "              df AIC     \n",
       "model_zip_1_p 34 6165.884\n",
       "model_zip_2_p 22 6149.819\n",
       "model_zip_3_p 28 6143.782"
      ]
     },
     "metadata": {},
     "output_type": "display_data"
    }
   ],
   "source": [
    "library(pscl)\n",
    "library(pROC)\n",
    "library(Metrics)\n",
    "\n",
    "# Zero-Inflated Poisson model (ZIP) - Poisson part\n",
    "model_zip_1_p <- zeroinfl(doctorco ~ age + sex + income + levyplus + freepoor \n",
    "+ freepera + illness + actdays + hscore + chcond1 + chcond2 + nondocco + hospadmi \n",
    "+ hospdays + prescrib + nonpresc | age + sex + income + levyplus + freepoor + freepera + illness + actdays + hscore + chcond1 + chcond2 \n",
    "+ nondocco + hospadmi + hospdays + prescrib + nonpresc, data = data, dist = \"poisson\")\n",
    "\n",
    "\n",
    "# Model 2\n",
    "model_zip_2_p <- zeroinfl(doctorco ~ levyplus + freepera + illness + actdays + hscore + chcond1 + chcond2 \n",
    "+ hospadmi + prescrib + nonpresc | levyplus + freepoor + freepera + illness + actdays + hscore + nondocco \n",
    "+ hospdays + prescrib + nonpresc, data = data, dist = \"poisson\")\n",
    "\n",
    "\n",
    "# Model 3\n",
    "model_zip_3_p <- zeroinfl(doctorco ~ income*levyplus + income*freepera + illness*actdays + hscore + chcond1 + age*chcond2 \n",
    "+ hospadmi  + prescrib + nonpresc | levyplus + freepoor + freepera + illness + actdays + hscore + nondocco + hospdays + prescrib + nonpresc, data = data, dist = \"poisson\")\n",
    "\n",
    "# Summary of the ZIP model\n",
    "summary(model_zip_1_p) # Poisson part\n",
    "summary(model_zip_2_p) # Poisson part\n",
    "summary(model_zip_3_p) # Poisson part\n",
    "\n",
    "# AIC\n",
    "AIC(model_zip_1_p, model_zip_2_p, model_zip_3_p)\n",
    "\n"
   ]
  },
  {
   "cell_type": "code",
   "execution_count": 27,
   "id": "3b395759",
   "metadata": {
    "vscode": {
     "languageId": "r"
    }
   },
   "outputs": [
    {
     "data": {
      "text/plain": [
       "\n",
       "Call:\n",
       "zeroinfl(formula = doctorco ~ age + sex + income + levyplus + freepoor + \n",
       "    freepera + illness + actdays + hscore + chcond1 + chcond2 + nondocco + \n",
       "    hospadmi + hospdays + prescrib + nonpresc | age + sex + income + \n",
       "    levyplus + freepoor + freepera + illness + actdays + hscore + chcond1 + \n",
       "    chcond2 + nondocco + hospadmi + hospdays + prescrib + nonpresc, data = data, \n",
       "    dist = \"negbin\")\n",
       "\n",
       "Pearson residuals:\n",
       "    Min      1Q  Median      3Q     Max \n",
       "-1.2915 -0.4371 -0.2468 -0.1612 11.4122 \n",
       "\n",
       "Count model coefficients (negbin with log link):\n",
       "             Estimate Std. Error z value Pr(>|z|)    \n",
       "(Intercept) -0.605083   0.160785  -3.763 0.000168 ***\n",
       "age         -0.264729   0.242640  -1.091 0.275258    \n",
       "sex         -0.035448   0.077952  -0.455 0.649299    \n",
       "income      -0.123303   0.117985  -1.045 0.295988    \n",
       "levyplus    -0.151142   0.107870  -1.401 0.161167    \n",
       "freepoor    -0.283581   0.259296  -1.094 0.274104    \n",
       "freepera    -0.205565   0.129182  -1.591 0.111546    \n",
       "illness      0.053678   0.027831   1.929 0.053767 .  \n",
       "actdays      0.083470   0.007005  11.915  < 2e-16 ***\n",
       "hscore       0.020572   0.012955   1.588 0.112295    \n",
       "chcond1     -0.181218   0.098057  -1.848 0.064589 .  \n",
       "chcond2     -0.221653   0.113145  -1.959 0.050111 .  \n",
       "nondocco     0.009672   0.020008   0.483 0.628810    \n",
       "hospadmi     0.210287   0.046590   4.514 6.37e-06 ***\n",
       "hospdays    -0.001776   0.003757  -0.473 0.636434    \n",
       "prescrib     0.081128   0.022600   3.590 0.000331 ***\n",
       "nonpresc    -0.107130   0.047353  -2.262 0.023676 *  \n",
       "Log(theta)   0.850859   0.148840   5.717 1.09e-08 ***\n",
       "\n",
       "Zero-inflation model coefficients (binomial with logit link):\n",
       "            Estimate Std. Error z value Pr(>|z|)    \n",
       "(Intercept)  2.47929    0.35960   6.895 5.40e-12 ***\n",
       "age         -0.41298    0.68896  -0.599 0.548890    \n",
       "sex         -0.19027    0.21256  -0.895 0.370712    \n",
       "income      -0.08558    0.29513  -0.290 0.771826    \n",
       "levyplus    -0.67761    0.24229  -2.797 0.005164 ** \n",
       "freepoor     0.61932    0.54518   1.136 0.255959    \n",
       "freepera    -1.36412    0.41381  -3.297 0.000979 ***\n",
       "illness     -0.35803    0.10277  -3.484 0.000494 ***\n",
       "actdays     -1.21304    0.34678  -3.498 0.000469 ***\n",
       "hscore      -0.07435    0.04976  -1.494 0.135139    \n",
       "chcond1     -0.10555    0.24792  -0.426 0.670304    \n",
       "chcond2     -0.21490    0.42250  -0.509 0.611002    \n",
       "nondocco    -0.37027    0.26176  -1.415 0.157211    \n",
       "hospadmi     0.04803    0.24550   0.196 0.844881    \n",
       "hospdays    -0.05668    0.03377  -1.679 0.093245 .  \n",
       "prescrib    -1.57152    0.23324  -6.738 1.61e-11 ***\n",
       "nonpresc     0.08967    0.13774   0.651 0.515017    \n",
       "---\n",
       "Signif. codes:  0 '***' 0.001 '**' 0.01 '*' 0.05 '.' 0.1 ' ' 1 \n",
       "\n",
       "Theta = 2.3417 \n",
       "Number of iterations in BFGS optimization: 54 \n",
       "Log-likelihood: -3002 on 35 Df"
      ]
     },
     "metadata": {},
     "output_type": "display_data"
    },
    {
     "data": {
      "text/plain": [
       "\n",
       "Call:\n",
       "zeroinfl(formula = doctorco ~ levyplus + freepera + illness + actdays + \n",
       "    hscore + chcond1 + chcond2 + hospadmi + prescrib + nonpresc | levyplus + \n",
       "    freepoor + freepera + illness + actdays + hscore + nondocco + hospdays + \n",
       "    prescrib + nonpresc, data = data, dist = \"negbin\")\n",
       "\n",
       "Pearson residuals:\n",
       "    Min      1Q  Median      3Q     Max \n",
       "-1.2816 -0.4353 -0.2459 -0.1660 11.0928 \n",
       "\n",
       "Count model coefficients (negbin with log link):\n",
       "             Estimate Std. Error z value Pr(>|z|)    \n",
       "(Intercept) -0.791594   0.105944  -7.472 7.91e-14 ***\n",
       "levyplus    -0.181815   0.096824  -1.878 0.060411 .  \n",
       "freepera    -0.244431   0.104142  -2.347 0.018920 *  \n",
       "illness      0.053568   0.027241   1.966 0.049246 *  \n",
       "actdays      0.083401   0.006912  12.066  < 2e-16 ***\n",
       "hscore       0.021535   0.012874   1.673 0.094364 .  \n",
       "chcond1     -0.177061   0.077758  -2.277 0.022782 *  \n",
       "chcond2     -0.200917   0.098111  -2.048 0.040575 *  \n",
       "hospadmi     0.204256   0.041299   4.946 7.59e-07 ***\n",
       "prescrib     0.074213   0.021672   3.424 0.000616 ***\n",
       "nonpresc    -0.104970   0.046784  -2.244 0.024850 *  \n",
       "Log(theta)   0.835258   0.146864   5.687 1.29e-08 ***\n",
       "\n",
       "Zero-inflation model coefficients (binomial with logit link):\n",
       "            Estimate Std. Error z value Pr(>|z|)    \n",
       "(Intercept)  2.22417    0.20588  10.803  < 2e-16 ***\n",
       "levyplus    -0.76178    0.22504  -3.385 0.000712 ***\n",
       "freepoor     0.87969    0.43354   2.029 0.042450 *  \n",
       "freepera    -1.54631    0.33391  -4.631 3.64e-06 ***\n",
       "illness     -0.37682    0.09838  -3.830 0.000128 ***\n",
       "actdays     -1.20376    0.34824  -3.457 0.000547 ***\n",
       "hscore      -0.07008    0.04915  -1.426 0.153910    \n",
       "nondocco    -0.39181    0.25872  -1.514 0.129929    \n",
       "hospdays    -0.05164    0.02819  -1.832 0.066977 .  \n",
       "prescrib    -1.62005    0.22871  -7.083 1.41e-12 ***\n",
       "nonpresc     0.08832    0.13436   0.657 0.510952    \n",
       "---\n",
       "Signif. codes:  0 '***' 0.001 '**' 0.01 '*' 0.05 '.' 0.1 ' ' 1 \n",
       "\n",
       "Theta = 2.3054 \n",
       "Number of iterations in BFGS optimization: 43 \n",
       "Log-likelihood: -3004 on 23 Df"
      ]
     },
     "metadata": {},
     "output_type": "display_data"
    },
    {
     "data": {
      "text/plain": [
       "\n",
       "Call:\n",
       "zeroinfl(formula = doctorco ~ income * levyplus + income * freepera + \n",
       "    illness * actdays + hscore + chcond1 + age * chcond2 + hospadmi + \n",
       "    prescrib + nonpresc | levyplus + freepoor + freepera + illness + \n",
       "    actdays + hscore + nondocco + hospdays + prescrib + nonpresc, data = data, \n",
       "    dist = \"negbin\")\n",
       "\n",
       "Pearson residuals:\n",
       "    Min      1Q  Median      3Q     Max \n",
       "-1.2381 -0.4338 -0.2489 -0.1676 12.3979 \n",
       "\n",
       "Count model coefficients (negbin with log link):\n",
       "                 Estimate Std. Error z value Pr(>|z|)    \n",
       "(Intercept)     -0.672010   0.171005  -3.930 8.50e-05 ***\n",
       "income          -0.445375   0.190596  -2.337 0.019452 *  \n",
       "levyplus        -0.458484   0.169605  -2.703 0.006867 ** \n",
       "freepera        -0.379027   0.197391  -1.920 0.054835 .  \n",
       "illness          0.090624   0.032727   2.769 0.005621 ** \n",
       "actdays          0.103999   0.012521   8.306  < 2e-16 ***\n",
       "hscore           0.021567   0.012889   1.673 0.094270 .  \n",
       "chcond1         -0.197262   0.080763  -2.442 0.014587 *  \n",
       "age              0.032217   0.222476   0.145 0.884862    \n",
       "chcond2          0.166662   0.209568   0.795 0.426460    \n",
       "hospadmi         0.204892   0.041237   4.969 6.74e-07 ***\n",
       "prescrib         0.083385   0.022363   3.729 0.000192 ***\n",
       "nonpresc        -0.107296   0.047042  -2.281 0.022558 *  \n",
       "income:levyplus  0.514727   0.224629   2.291 0.021937 *  \n",
       "income:freepera  0.185107   0.419477   0.441 0.659010    \n",
       "illness:actdays -0.007704   0.004091  -1.883 0.059685 .  \n",
       "age:chcond2     -0.782281   0.393430  -1.988 0.046772 *  \n",
       "Log(theta)       0.850610   0.148942   5.711 1.12e-08 ***\n",
       "\n",
       "Zero-inflation model coefficients (binomial with logit link):\n",
       "            Estimate Std. Error z value Pr(>|z|)    \n",
       "(Intercept)  2.05055    0.22144   9.260  < 2e-16 ***\n",
       "levyplus    -0.70732    0.23169  -3.053 0.002266 ** \n",
       "freepoor     1.06778    0.43947   2.430 0.015110 *  \n",
       "freepera    -1.48139    0.34500  -4.294 1.76e-05 ***\n",
       "illness     -0.31977    0.10174  -3.143 0.001672 ** \n",
       "actdays     -1.15149    0.34980  -3.292 0.000995 ***\n",
       "hscore      -0.06419    0.04969  -1.292 0.196426    \n",
       "nondocco    -0.37465    0.25432  -1.473 0.140712    \n",
       "hospdays    -0.05077    0.02890  -1.757 0.078978 .  \n",
       "prescrib    -1.70007    0.24627  -6.903 5.08e-12 ***\n",
       "nonpresc     0.09110    0.13644   0.668 0.504315    \n",
       "---\n",
       "Signif. codes:  0 '***' 0.001 '**' 0.01 '*' 0.05 '.' 0.1 ' ' 1 \n",
       "\n",
       "Theta = 2.3411 \n",
       "Number of iterations in BFGS optimization: 56 \n",
       "Log-likelihood: -2997 on 29 Df"
      ]
     },
     "metadata": {},
     "output_type": "display_data"
    },
    {
     "data": {
      "text/html": [
       "<table class=\"dataframe\">\n",
       "<caption>A data.frame: 3 x 2</caption>\n",
       "<thead>\n",
       "\t<tr><th></th><th scope=col>df</th><th scope=col>AIC</th></tr>\n",
       "\t<tr><th></th><th scope=col>&lt;dbl&gt;</th><th scope=col>&lt;dbl&gt;</th></tr>\n",
       "</thead>\n",
       "<tbody>\n",
       "\t<tr><th scope=row>model_zip_1_nb</th><td>35</td><td>6073.471</td></tr>\n",
       "\t<tr><th scope=row>model_zip_2_nb</th><td>23</td><td>6054.052</td></tr>\n",
       "\t<tr><th scope=row>model_zip_3_nb</th><td>29</td><td>6051.707</td></tr>\n",
       "</tbody>\n",
       "</table>\n"
      ],
      "text/latex": [
       "A data.frame: 3 x 2\n",
       "\\begin{tabular}{r|ll}\n",
       "  & df & AIC\\\\\n",
       "  & <dbl> & <dbl>\\\\\n",
       "\\hline\n",
       "\tmodel\\_zip\\_1\\_nb & 35 & 6073.471\\\\\n",
       "\tmodel\\_zip\\_2\\_nb & 23 & 6054.052\\\\\n",
       "\tmodel\\_zip\\_3\\_nb & 29 & 6051.707\\\\\n",
       "\\end{tabular}\n"
      ],
      "text/markdown": [
       "\n",
       "A data.frame: 3 x 2\n",
       "\n",
       "| <!--/--> | df &lt;dbl&gt; | AIC &lt;dbl&gt; |\n",
       "|---|---|---|\n",
       "| model_zip_1_nb | 35 | 6073.471 |\n",
       "| model_zip_2_nb | 23 | 6054.052 |\n",
       "| model_zip_3_nb | 29 | 6051.707 |\n",
       "\n"
      ],
      "text/plain": [
       "               df AIC     \n",
       "model_zip_1_nb 35 6073.471\n",
       "model_zip_2_nb 23 6054.052\n",
       "model_zip_3_nb 29 6051.707"
      ]
     },
     "metadata": {},
     "output_type": "display_data"
    }
   ],
   "source": [
    "# Zero-Inflated Poisson model (ZIP) - Negative Binomial part\n",
    "model_zip_1_nb <- zeroinfl(doctorco ~ age + sex + income + levyplus + freepoor \n",
    "+ freepera + illness + actdays + hscore + chcond1 + chcond2 + nondocco + hospadmi \n",
    "+ hospdays + prescrib + nonpresc | age + sex + income + levyplus + freepoor + freepera + illness + actdays + hscore + chcond1 + chcond2 \n",
    "+ nondocco + hospadmi + hospdays + prescrib + nonpresc, data = data, dist = \"negbin\")\n",
    "\n",
    "\n",
    "# Model 2\n",
    "model_zip_2_nb <- zeroinfl(doctorco ~ levyplus + freepera + illness + actdays + hscore + chcond1 + chcond2 \n",
    "+ hospadmi + prescrib + nonpresc | levyplus + freepoor + freepera + illness + actdays + hscore + nondocco \n",
    "+ hospdays + prescrib + nonpresc, data = data, dist = \"negbin\")\n",
    "\n",
    "\n",
    "# Model 3\n",
    "model_zip_3_nb <- zeroinfl(doctorco ~ income*levyplus + income*freepera + illness*actdays + hscore + chcond1 + age*chcond2 \n",
    "+ hospadmi  + prescrib + nonpresc | levyplus + freepoor + freepera + illness + actdays + hscore + nondocco + hospdays + prescrib + nonpresc, data = data, dist = \"negbin\")\n",
    "\n",
    "# Summary of the ZIP model\n",
    "summary(model_zip_1_nb) # Poisson part\n",
    "summary(model_zip_2_nb) # Poisson part\n",
    "summary(model_zip_3_nb) # Poisson part\n",
    "\n",
    "# AIC\n",
    "AIC(model_zip_1_nb, model_zip_2_nb, model_zip_3_nb)"
   ]
  },
  {
   "cell_type": "code",
   "execution_count": 59,
   "id": "1130aa80",
   "metadata": {
    "vscode": {
     "languageId": "r"
    }
   },
   "outputs": [
    {
     "name": "stdout",
     "output_type": "stream",
     "text": [
      "[1] 0\n"
     ]
    },
    {
     "name": "stderr",
     "output_type": "stream",
     "text": [
      "Warning message in zeroinfl(doctorco ~ . | ., data = data, dist = \"poisson\", start = start_vals):\n",
      "\"invalid starting values, count model coefficients not specified\"\n",
      "Warning message in start$count <- rep.int(0, kx):\n",
      "\"Trasformo il membro di sinistra in una lista\"\n",
      "Warning message in zeroinfl(doctorco ~ . | ., data = data, dist = \"poisson\", start = start_vals):\n",
      "\"invalid starting values, zero-inflation model coefficients not specified\"\n"
     ]
    },
    {
     "ename": "ERROR",
     "evalue": "Error in optim(fn = loglikfun, gr = gradfun, par = c(start$count, start$zero, : valore non finito passato da optim\n",
     "output_type": "error",
     "traceback": [
      "Error in optim(fn = loglikfun, gr = gradfun, par = c(start$count, start$zero, : valore non finito passato da optim\nTraceback:\n",
      "1. zeroinfl(doctorco ~ . | ., data = data, dist = \"poisson\", start = start_vals)",
      "2. optim(fn = loglikfun, gr = gradfun, par = c(start$count, start$zero, \n .     if (dist == \"negbin\") log(start$theta) else NULL), method = method, \n .     hessian = hessian, control = control)"
     ]
    }
   ],
   "source": [
    "# Checking for NA or infinite values\n",
    "print(sum(is.na(data)))\n",
    "\n",
    "# Fitting a simplified model\n",
    "model_zip_simplified <- zeroinfl(doctorco ~ age + sex | age + sex, data = data, dist = \"poisson\")\n",
    "\n",
    "# Using custom starting values\n",
    "start_vals <- rep(1, ncol(data) * 2)  # Adjust the length as needed\n",
    "model_zip_custom_start <- zeroinfl(doctorco ~ . | ., data = data, dist = \"poisson\", start = start_vals)\n",
    "\n",
    "# Checking for multicollinearity\n",
    "library(car) \n",
    "vif(model_zip_custom_start)"
   ]
  },
  {
   "cell_type": "code",
   "execution_count": null,
   "id": "7906e6c2",
   "metadata": {
    "vscode": {
     "languageId": "r"
    }
   },
   "outputs": [],
   "source": [
    "# Predictions from the ZIP model\n",
    "predicted_probs <- predict(model_zip, type = \"response\")\n",
    "\n",
    "# Predicted counts from the ZIP model\n",
    "predicted_counts <- predict(model_zip, type = \"count\")\n",
    "\n",
    "#Accuracy of the model\n",
    "accuracy <- mean((predicted_counts - data$doctorco)^2)\n",
    "print(accuracy)\n",
    "\n",
    "#AUC of the model\n",
    "\n",
    "library(pROC)\n",
    "\n",
    "# Create a ROC curve\n",
    "roc_curve <- roc(data$doctorco, predicted_probs)\n",
    "\n",
    "# AUC of the model\n",
    "auc(roc_curve)\n",
    "\n",
    "# Plot the ROC curve\n",
    "plot(roc_curve, col = \"blue\", main = \"ROC Curve for ZIP Model\")\n",
    "\n",
    "#RMSE for the model\n",
    "\n",
    "rmse <- sqrt(mean((predicted_counts - data$doctorco)^2))\n",
    "print(\"RMSE for the ZIP model: \")\n",
    "print(rmse)"
   ]
  },
  {
   "cell_type": "markdown",
   "id": "d70e05b7",
   "metadata": {},
   "source": []
  }
 ],
 "metadata": {
  "kernelspec": {
   "display_name": "R",
   "language": "R",
   "name": "ir"
  },
  "language_info": {
   "codemirror_mode": "r",
   "file_extension": ".r",
   "mimetype": "text/x-r-source",
   "name": "R",
   "pygments_lexer": "r",
   "version": "4.3.1"
  }
 },
 "nbformat": 4,
 "nbformat_minor": 5
}
