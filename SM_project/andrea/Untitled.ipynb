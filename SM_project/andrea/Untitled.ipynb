{
 "cells": [
  {
   "cell_type": "markdown",
   "id": "ee36e970-b74d-4e01-802c-d31b8b372b8d",
   "metadata": {},
   "source": [
    "For the initial part, which includes loading the data and performing basic exploratory data analysis. "
   ]
  },
  {
   "cell_type": "code",
   "execution_count": 3,
   "id": "d393220a-fc72-431b-b681-f3652c147820",
   "metadata": {
    "vscode": {
     "languageId": "r"
    }
   },
   "outputs": [
    {
     "name": "stderr",
     "output_type": "stream",
     "text": [
      "\u001b[1mRows: \u001b[22m\u001b[34m5190\u001b[39m \u001b[1mColumns: \u001b[22m\u001b[34m20\u001b[39m\n",
      "\u001b[36m--\u001b[39m \u001b[1mColumn specification\u001b[22m \u001b[36m--------------------------------------------------------\u001b[39m\n",
      "\u001b[1mDelimiter:\u001b[22m \",\"\n",
      "\u001b[32mdbl\u001b[39m (20): sex, age, agesq, income, levyplus, freepoor, freepera, illness, ac...\n",
      "\n",
      "\u001b[36mi\u001b[39m Use `spec()` to retrieve the full column specification for this data.\n",
      "\u001b[36mi\u001b[39m Specify the column types or set `show_col_types = FALSE` to quiet this message.\n"
     ]
    },
    {
     "data": {
      "text/plain": [
       "cols(\n",
       "  sex = \u001b[32mcol_double()\u001b[39m,\n",
       "  age = \u001b[32mcol_double()\u001b[39m,\n",
       "  agesq = \u001b[32mcol_double()\u001b[39m,\n",
       "  income = \u001b[32mcol_double()\u001b[39m,\n",
       "  levyplus = \u001b[32mcol_double()\u001b[39m,\n",
       "  freepoor = \u001b[32mcol_double()\u001b[39m,\n",
       "  freepera = \u001b[32mcol_double()\u001b[39m,\n",
       "  illness = \u001b[32mcol_double()\u001b[39m,\n",
       "  actdays = \u001b[32mcol_double()\u001b[39m,\n",
       "  hscore = \u001b[32mcol_double()\u001b[39m,\n",
       "  chcond1 = \u001b[32mcol_double()\u001b[39m,\n",
       "  chcond2 = \u001b[32mcol_double()\u001b[39m,\n",
       "  doctorco = \u001b[32mcol_double()\u001b[39m,\n",
       "  nondocco = \u001b[32mcol_double()\u001b[39m,\n",
       "  hospadmi = \u001b[32mcol_double()\u001b[39m,\n",
       "  hospdays = \u001b[32mcol_double()\u001b[39m,\n",
       "  medicine = \u001b[32mcol_double()\u001b[39m,\n",
       "  prescrib = \u001b[32mcol_double()\u001b[39m,\n",
       "  nonpresc = \u001b[32mcol_double()\u001b[39m,\n",
       "  constant = \u001b[32mcol_double()\u001b[39m\n",
       ")"
      ]
     },
     "metadata": {},
     "output_type": "display_data"
    }
   ],
   "source": [
    "# Loading necessary libraries\n",
    "library(readr)\n",
    "\n",
    "# Load the dataset\n",
    "data <- read_csv(\"HealthCareAustralia.csv\")\n",
    "\n",
    "spec(data)"
   ]
  },
  {
   "cell_type": "code",
   "execution_count": 8,
   "id": "ebad1771-c809-423b-ac40-1e83299df2d9",
   "metadata": {
    "vscode": {
     "languageId": "r"
    }
   },
   "outputs": [
    {
     "data": {
      "text/html": [
       "<table class=\"dataframe\">\n",
       "<caption>A tibble: 6 x 20</caption>\n",
       "<thead>\n",
       "\t<tr><th scope=col>sex</th><th scope=col>age</th><th scope=col>agesq</th><th scope=col>income</th><th scope=col>levyplus</th><th scope=col>freepoor</th><th scope=col>freepera</th><th scope=col>illness</th><th scope=col>actdays</th><th scope=col>hscore</th><th scope=col>chcond1</th><th scope=col>chcond2</th><th scope=col>doctorco</th><th scope=col>nondocco</th><th scope=col>hospadmi</th><th scope=col>hospdays</th><th scope=col>medicine</th><th scope=col>prescrib</th><th scope=col>nonpresc</th><th scope=col>constant</th></tr>\n",
       "\t<tr><th scope=col>&lt;dbl&gt;</th><th scope=col>&lt;dbl&gt;</th><th scope=col>&lt;dbl&gt;</th><th scope=col>&lt;dbl&gt;</th><th scope=col>&lt;dbl&gt;</th><th scope=col>&lt;dbl&gt;</th><th scope=col>&lt;dbl&gt;</th><th scope=col>&lt;dbl&gt;</th><th scope=col>&lt;dbl&gt;</th><th scope=col>&lt;dbl&gt;</th><th scope=col>&lt;dbl&gt;</th><th scope=col>&lt;dbl&gt;</th><th scope=col>&lt;dbl&gt;</th><th scope=col>&lt;dbl&gt;</th><th scope=col>&lt;dbl&gt;</th><th scope=col>&lt;dbl&gt;</th><th scope=col>&lt;dbl&gt;</th><th scope=col>&lt;dbl&gt;</th><th scope=col>&lt;dbl&gt;</th><th scope=col>&lt;dbl&gt;</th></tr>\n",
       "</thead>\n",
       "<tbody>\n",
       "\t<tr><td>1</td><td>0.19</td><td>0.0361</td><td>0.55</td><td>1</td><td>0</td><td>0</td><td>1</td><td>4</td><td>1</td><td>0</td><td>0</td><td>1</td><td>0</td><td>0</td><td>0</td><td>1</td><td>1</td><td>0</td><td>1</td></tr>\n",
       "\t<tr><td>1</td><td>0.19</td><td>0.0361</td><td>0.45</td><td>1</td><td>0</td><td>0</td><td>1</td><td>2</td><td>1</td><td>0</td><td>0</td><td>1</td><td>0</td><td>0</td><td>0</td><td>2</td><td>1</td><td>1</td><td>1</td></tr>\n",
       "\t<tr><td>0</td><td>0.19</td><td>0.0361</td><td>0.90</td><td>0</td><td>0</td><td>0</td><td>3</td><td>0</td><td>0</td><td>0</td><td>0</td><td>1</td><td>0</td><td>1</td><td>4</td><td>2</td><td>1</td><td>1</td><td>1</td></tr>\n",
       "\t<tr><td>0</td><td>0.19</td><td>0.0361</td><td>0.15</td><td>0</td><td>0</td><td>0</td><td>1</td><td>0</td><td>0</td><td>0</td><td>0</td><td>1</td><td>0</td><td>0</td><td>0</td><td>0</td><td>0</td><td>0</td><td>1</td></tr>\n",
       "\t<tr><td>0</td><td>0.19</td><td>0.0361</td><td>0.45</td><td>0</td><td>0</td><td>0</td><td>2</td><td>5</td><td>1</td><td>1</td><td>0</td><td>1</td><td>0</td><td>0</td><td>0</td><td>3</td><td>1</td><td>2</td><td>1</td></tr>\n",
       "\t<tr><td>1</td><td>0.19</td><td>0.0361</td><td>0.35</td><td>0</td><td>0</td><td>0</td><td>5</td><td>1</td><td>9</td><td>1</td><td>0</td><td>1</td><td>0</td><td>0</td><td>0</td><td>1</td><td>1</td><td>0</td><td>1</td></tr>\n",
       "</tbody>\n",
       "</table>\n"
      ],
      "text/latex": [
       "A tibble: 6 x 20\n",
       "\\begin{tabular}{llllllllllllllllllll}\n",
       " sex & age & agesq & income & levyplus & freepoor & freepera & illness & actdays & hscore & chcond1 & chcond2 & doctorco & nondocco & hospadmi & hospdays & medicine & prescrib & nonpresc & constant\\\\\n",
       " <dbl> & <dbl> & <dbl> & <dbl> & <dbl> & <dbl> & <dbl> & <dbl> & <dbl> & <dbl> & <dbl> & <dbl> & <dbl> & <dbl> & <dbl> & <dbl> & <dbl> & <dbl> & <dbl> & <dbl>\\\\\n",
       "\\hline\n",
       "\t 1 & 0.19 & 0.0361 & 0.55 & 1 & 0 & 0 & 1 & 4 & 1 & 0 & 0 & 1 & 0 & 0 & 0 & 1 & 1 & 0 & 1\\\\\n",
       "\t 1 & 0.19 & 0.0361 & 0.45 & 1 & 0 & 0 & 1 & 2 & 1 & 0 & 0 & 1 & 0 & 0 & 0 & 2 & 1 & 1 & 1\\\\\n",
       "\t 0 & 0.19 & 0.0361 & 0.90 & 0 & 0 & 0 & 3 & 0 & 0 & 0 & 0 & 1 & 0 & 1 & 4 & 2 & 1 & 1 & 1\\\\\n",
       "\t 0 & 0.19 & 0.0361 & 0.15 & 0 & 0 & 0 & 1 & 0 & 0 & 0 & 0 & 1 & 0 & 0 & 0 & 0 & 0 & 0 & 1\\\\\n",
       "\t 0 & 0.19 & 0.0361 & 0.45 & 0 & 0 & 0 & 2 & 5 & 1 & 1 & 0 & 1 & 0 & 0 & 0 & 3 & 1 & 2 & 1\\\\\n",
       "\t 1 & 0.19 & 0.0361 & 0.35 & 0 & 0 & 0 & 5 & 1 & 9 & 1 & 0 & 1 & 0 & 0 & 0 & 1 & 1 & 0 & 1\\\\\n",
       "\\end{tabular}\n"
      ],
      "text/markdown": [
       "\n",
       "A tibble: 6 x 20\n",
       "\n",
       "| sex &lt;dbl&gt; | age &lt;dbl&gt; | agesq &lt;dbl&gt; | income &lt;dbl&gt; | levyplus &lt;dbl&gt; | freepoor &lt;dbl&gt; | freepera &lt;dbl&gt; | illness &lt;dbl&gt; | actdays &lt;dbl&gt; | hscore &lt;dbl&gt; | chcond1 &lt;dbl&gt; | chcond2 &lt;dbl&gt; | doctorco &lt;dbl&gt; | nondocco &lt;dbl&gt; | hospadmi &lt;dbl&gt; | hospdays &lt;dbl&gt; | medicine &lt;dbl&gt; | prescrib &lt;dbl&gt; | nonpresc &lt;dbl&gt; | constant &lt;dbl&gt; |\n",
       "|---|---|---|---|---|---|---|---|---|---|---|---|---|---|---|---|---|---|---|---|\n",
       "| 1 | 0.19 | 0.0361 | 0.55 | 1 | 0 | 0 | 1 | 4 | 1 | 0 | 0 | 1 | 0 | 0 | 0 | 1 | 1 | 0 | 1 |\n",
       "| 1 | 0.19 | 0.0361 | 0.45 | 1 | 0 | 0 | 1 | 2 | 1 | 0 | 0 | 1 | 0 | 0 | 0 | 2 | 1 | 1 | 1 |\n",
       "| 0 | 0.19 | 0.0361 | 0.90 | 0 | 0 | 0 | 3 | 0 | 0 | 0 | 0 | 1 | 0 | 1 | 4 | 2 | 1 | 1 | 1 |\n",
       "| 0 | 0.19 | 0.0361 | 0.15 | 0 | 0 | 0 | 1 | 0 | 0 | 0 | 0 | 1 | 0 | 0 | 0 | 0 | 0 | 0 | 1 |\n",
       "| 0 | 0.19 | 0.0361 | 0.45 | 0 | 0 | 0 | 2 | 5 | 1 | 1 | 0 | 1 | 0 | 0 | 0 | 3 | 1 | 2 | 1 |\n",
       "| 1 | 0.19 | 0.0361 | 0.35 | 0 | 0 | 0 | 5 | 1 | 9 | 1 | 0 | 1 | 0 | 0 | 0 | 1 | 1 | 0 | 1 |\n",
       "\n"
      ],
      "text/plain": [
       "  sex age  agesq  income levyplus freepoor freepera illness actdays hscore\n",
       "1 1   0.19 0.0361 0.55   1        0        0        1       4       1     \n",
       "2 1   0.19 0.0361 0.45   1        0        0        1       2       1     \n",
       "3 0   0.19 0.0361 0.90   0        0        0        3       0       0     \n",
       "4 0   0.19 0.0361 0.15   0        0        0        1       0       0     \n",
       "5 0   0.19 0.0361 0.45   0        0        0        2       5       1     \n",
       "6 1   0.19 0.0361 0.35   0        0        0        5       1       9     \n",
       "  chcond1 chcond2 doctorco nondocco hospadmi hospdays medicine prescrib\n",
       "1 0       0       1        0        0        0        1        1       \n",
       "2 0       0       1        0        0        0        2        1       \n",
       "3 0       0       1        0        1        4        2        1       \n",
       "4 0       0       1        0        0        0        0        0       \n",
       "5 1       0       1        0        0        0        3        1       \n",
       "6 1       0       1        0        0        0        1        1       \n",
       "  nonpresc constant\n",
       "1 0        1       \n",
       "2 1        1       \n",
       "3 1        1       \n",
       "4 0        1       \n",
       "5 2        1       \n",
       "6 0        1       "
      ]
     },
     "metadata": {},
     "output_type": "display_data"
    }
   ],
   "source": [
    "# Viewing the first few rows of the dataset\n",
    "head(data)"
   ]
  },
  {
   "cell_type": "code",
   "execution_count": null,
   "id": "8d0d6221",
   "metadata": {
    "vscode": {
     "languageId": "r"
    }
   },
   "outputs": [],
   "source": []
  },
  {
   "cell_type": "markdown",
   "id": "7571a42a",
   "metadata": {},
   "source": [
    "After loading the data, we can see that the data is already clean and ready to be used. The only thing we need to do is to check the distribution of the target variable and the distribution of the features. We can do that with the command summary() and the command hist()."
   ]
  },
  {
   "cell_type": "code",
   "execution_count": 9,
   "id": "7d952a69",
   "metadata": {
    "vscode": {
     "languageId": "r"
    }
   },
   "outputs": [
    {
     "data": {
      "text/plain": [
       "      sex              age             agesq            income      \n",
       " Min.   :0.0000   Min.   :0.1900   Min.   :0.0361   Min.   :0.0000  \n",
       " 1st Qu.:0.0000   1st Qu.:0.2200   1st Qu.:0.0484   1st Qu.:0.2500  \n",
       " Median :1.0000   Median :0.3200   Median :0.1024   Median :0.5500  \n",
       " Mean   :0.5206   Mean   :0.4064   Mean   :0.2071   Mean   :0.5832  \n",
       " 3rd Qu.:1.0000   3rd Qu.:0.6200   3rd Qu.:0.3844   3rd Qu.:0.9000  \n",
       " Max.   :1.0000   Max.   :0.7200   Max.   :0.5184   Max.   :1.5000  \n",
       "    levyplus         freepoor          freepera         illness     \n",
       " Min.   :0.0000   Min.   :0.00000   Min.   :0.0000   Min.   :0.000  \n",
       " 1st Qu.:0.0000   1st Qu.:0.00000   1st Qu.:0.0000   1st Qu.:0.000  \n",
       " Median :0.0000   Median :0.00000   Median :0.0000   Median :1.000  \n",
       " Mean   :0.4428   Mean   :0.04277   Mean   :0.2102   Mean   :1.432  \n",
       " 3rd Qu.:1.0000   3rd Qu.:0.00000   3rd Qu.:0.0000   3rd Qu.:2.000  \n",
       " Max.   :1.0000   Max.   :1.00000   Max.   :1.0000   Max.   :5.000  \n",
       "    actdays            hscore          chcond1          chcond2      \n",
       " Min.   : 0.0000   Min.   : 0.000   Min.   :0.0000   Min.   :0.0000  \n",
       " 1st Qu.: 0.0000   1st Qu.: 0.000   1st Qu.:0.0000   1st Qu.:0.0000  \n",
       " Median : 0.0000   Median : 0.000   Median :0.0000   Median :0.0000  \n",
       " Mean   : 0.8619   Mean   : 1.218   Mean   :0.4031   Mean   :0.1166  \n",
       " 3rd Qu.: 0.0000   3rd Qu.: 2.000   3rd Qu.:1.0000   3rd Qu.:0.0000  \n",
       " Max.   :14.0000   Max.   :12.000   Max.   :1.0000   Max.   :1.0000  \n",
       "    doctorco         nondocco          hospadmi         hospdays     \n",
       " Min.   :0.0000   Min.   : 0.0000   Min.   :0.0000   Min.   : 0.000  \n",
       " 1st Qu.:0.0000   1st Qu.: 0.0000   1st Qu.:0.0000   1st Qu.: 0.000  \n",
       " Median :0.0000   Median : 0.0000   Median :0.0000   Median : 0.000  \n",
       " Mean   :0.3017   Mean   : 0.2146   Mean   :0.1736   Mean   : 1.334  \n",
       " 3rd Qu.:0.0000   3rd Qu.: 0.0000   3rd Qu.:0.0000   3rd Qu.: 0.000  \n",
       " Max.   :9.0000   Max.   :11.0000   Max.   :5.0000   Max.   :80.000  \n",
       "    medicine        prescrib         nonpresc         constant\n",
       " Min.   :0.000   Min.   :0.0000   Min.   :0.0000   Min.   :1  \n",
       " 1st Qu.:0.000   1st Qu.:0.0000   1st Qu.:0.0000   1st Qu.:1  \n",
       " Median :1.000   Median :0.0000   Median :0.0000   Median :1  \n",
       " Mean   :1.218   Mean   :0.8626   Mean   :0.3557   Mean   :1  \n",
       " 3rd Qu.:2.000   3rd Qu.:1.0000   3rd Qu.:1.0000   3rd Qu.:1  \n",
       " Max.   :8.000   Max.   :8.0000   Max.   :8.0000   Max.   :1  "
      ]
     },
     "metadata": {},
     "output_type": "display_data"
    },
    {
     "data": {
      "text/plain": [
       "   Min. 1st Qu.  Median    Mean 3rd Qu.    Max. \n",
       " 0.0000  0.0000  0.0000  0.3017  0.0000  9.0000 "
      ]
     },
     "metadata": {},
     "output_type": "display_data"
    },
    {
     "data": {
      "image/png": "[encoded data removed]",
      "text/plain": [
       "Plot with title \"Histogram of data$doctorco\""
      ]
     },
     "metadata": {
      "image/png": {
       "height": 420,
       "width": 420
      }
     },
     "output_type": "display_data"
    }
   ],
   "source": [
    "# Summary statistics for the entire dataset\n",
    "summary(data)\n",
    "\n",
    "# Specific summary for 'doctorco' column\n",
    "summary(data$doctorco)\n",
    "\n",
    "#histogram for 'doctorco' column\n",
    "hist(data$doctorco)"
   ]
  },
  {
   "cell_type": "markdown",
   "id": "23c9fb8c",
   "metadata": {},
   "source": [
    "After that, we can check the distribution of the features. We can see that the majority of the features are binary. This means that the majority of the features are either 0 or 1. This is good because it means that we don't have to do any encoding. We can just use the data as it is."
   ]
  },
  {
   "cell_type": "markdown",
   "id": "5e835fc4",
   "metadata": {},
   "source": [
    "More redeable plot using ggplot2 package."
   ]
  },
  {
   "cell_type": "code",
   "execution_count": 10,
   "id": "ec09daf0",
   "metadata": {
    "vscode": {
     "languageId": "r"
    }
   },
   "outputs": [
    {
     "data": {
      "text/plain": [
       "\n",
       "   0    1    2    3    4    5    6    7    8    9 \n",
       "4141  782  174   30   24    9   12   12    5    1 "
      ]
     },
     "metadata": {},
     "output_type": "display_data"
    },
    {
     "data": {
      "image/png": "[encoded data removed]",
      "text/plain": [
       "plot without title"
      ]
     },
     "metadata": {
      "image/png": {
       "height": 420,
       "width": 420
      }
     },
     "output_type": "display_data"
    }
   ],
   "source": [
    "# Checking the distribution of 'dvisits'\n",
    "table(data$doctorco)\n",
    "\n",
    "# Visualizing the distribution of 'dvisits'\n",
    "library(ggplot2)\n",
    "ggplot(data, aes(x = doctorco)) + \n",
    "  geom_histogram(binwidth = 1, fill=\"blue\", color=\"black\") +\n",
    "  labs(title=\"Distribution of Doctor Consultations ('dvisits')\", \n",
    "       x=\"Number of Doctor Consultations\", \n",
    "       y=\"Frequency\")\n"
   ]
  },
  {
   "cell_type": "markdown",
   "id": "202fab6d",
   "metadata": {},
   "source": [
    "The 'doctorco' is the response variable. The response variable is the variable that we are trying to predict. In this case, we are trying to predict the number of consultations with a doctor or specialist in the past 2 weeks. So, from the distribution of Doctor Consultation, we can see that the data is right-skewed. This means that the majority of the data is concentrated on the left side of the histogram and there are a few data points on the right side. The major data in concentrated in 0. This means that the majority of the people in the dataset have not consulted a doctor in the past 2 weeks. "
   ]
  },
  {
   "cell_type": "markdown",
   "id": "1afe75ae",
   "metadata": {},
   "source": [
    "Since \"doctorco\" is a count variable, we should consider models suitable for count data. We can start with a Poisson regression model and then consider other models like Negative Binomial or Zero-Inflated models based on the initial analysis. "
   ]
  },
  {
   "cell_type": "code",
   "execution_count": 7,
   "id": "c09ef551",
   "metadata": {
    "vscode": {
     "languageId": "r"
    }
   },
   "outputs": [],
   "source": [
    "#install.packages(\"glm2\")"
   ]
  },
  {
   "cell_type": "code",
   "execution_count": 8,
   "id": "98248e96",
   "metadata": {
    "vscode": {
     "languageId": "r"
    }
   },
   "outputs": [
    {
     "name": "stdout",
     "output_type": "stream",
     "text": [
      " [1] \"sex\"      \"age\"      \"agesq\"    \"income\"   \"levyplus\" \"freepoor\"\n",
      " [7] \"freepera\" \"illness\"  \"actdays\"  \"hscore\"   \"chcond1\"  \"chcond2\" \n",
      "[13] \"doctorco\" \"nondocco\" \"hospadmi\" \"hospdays\" \"medicine\" \"prescrib\"\n",
      "[19] \"nonpresc\" \"constant\"\n"
     ]
    }
   ],
   "source": [
    "# print all the variables in the dataset\n",
    "variables <- names(data)\n",
    "\n",
    "# print in a more readable format\n",
    "print(variables)"
   ]
  },
  {
   "cell_type": "markdown",
   "id": "220e8cb0",
   "metadata": {},
   "source": [
    "After loading the glm2 package, we can use the command glm() to fit a Poisson regression model to the data. We can use the command summary() to see the results of the model. After, we can see also the deviance of the model and the dispersion parameter. The deviance is a measure of how well the model fits the data. The dispersion parameter is a measure of how much the data varies around the mean.\n",
    "\n"
   ]
  },
  {
   "cell_type": "code",
   "execution_count": 11,
   "id": "51abe5e4",
   "metadata": {
    "vscode": {
     "languageId": "r"
    }
   },
   "outputs": [
    {
     "name": "stderr",
     "output_type": "stream",
     "text": [
      "\n",
      "Caricamento pacchetto: 'glm2'\n",
      "\n",
      "\n",
      "Il seguente oggetto `e mascherato da 'package:MASS':\n",
      "\n",
      "    crabs\n",
      "\n",
      "\n"
     ]
    },
    {
     "data": {
      "text/plain": [
       "\n",
       "Call:\n",
       "glm(formula = doctorco ~ ., family = \"poisson\", data = data)\n",
       "\n",
       "Coefficients: (2 not defined because of singularities)\n",
       "              Estimate Std. Error z value Pr(>|z|)    \n",
       "(Intercept) -2.0712481  0.1916361 -10.808  < 2e-16 ***\n",
       "sex          0.1220019  0.0567376   2.150   0.0315 *  \n",
       "age          0.8610110  1.0148679   0.848   0.3962    \n",
       "agesq       -1.0573127  1.0922103  -0.968   0.3330    \n",
       "income      -0.1293371  0.0897049  -1.442   0.1494    \n",
       "levyplus     0.0518785  0.0724925   0.716   0.4742    \n",
       "freepoor    -0.4308674  0.1801160  -2.392   0.0167 *  \n",
       "freepera     0.0233116  0.0930682   0.250   0.8022    \n",
       "illness      0.1342835  0.0199779   6.722 1.80e-11 ***\n",
       "actdays      0.1108244  0.0054581  20.305  < 2e-16 ***\n",
       "hscore       0.0172580  0.0102916   1.677   0.0936 .  \n",
       "chcond1      0.0760496  0.0681592   1.116   0.2645    \n",
       "chcond2     -0.0249613  0.0868275  -0.287   0.7737    \n",
       "nondocco     0.0224942  0.0152626   1.474   0.1405    \n",
       "hospadmi     0.1543128  0.0314185   4.912 9.04e-07 ***\n",
       "hospdays     0.0007034  0.0029335   0.240   0.8105    \n",
       "medicine    -0.0904806  0.0375433  -2.410   0.0160 *  \n",
       "prescrib     0.2275448  0.0387567   5.871 4.33e-09 ***\n",
       "nonpresc            NA         NA      NA       NA    \n",
       "constant            NA         NA      NA       NA    \n",
       "---\n",
       "Signif. codes:  0 '***' 0.001 '**' 0.01 '*' 0.05 '.' 0.1 ' ' 1\n",
       "\n",
       "(Dispersion parameter for poisson family taken to be 1)\n",
       "\n",
       "    Null deviance: 5634.8  on 5189  degrees of freedom\n",
       "Residual deviance: 4244.4  on 5172  degrees of freedom\n",
       "AIC: 6611.9\n",
       "\n",
       "Number of Fisher Scoring iterations: 6\n"
      ]
     },
     "metadata": {},
     "output_type": "display_data"
    }
   ],
   "source": [
    "# Load the necessary library\n",
    "library(glm2)\n",
    "\n",
    "# Fit a Poisson regression model with all the variables\n",
    "\n",
    "poisson_model <- glm(doctorco ~ ., \n",
    "                     data = data, family = \"poisson\")\n",
    "\n",
    "# Summary of the Poisson model\n",
    "summary(poisson_model)\n",
    "\n",
    "\n"
   ]
  },
  {
   "cell_type": "markdown",
   "id": "f0618e39",
   "metadata": {},
   "source": [
    "We can consider the deviance and df.residual to check the goodness of fit of the model. The deviance is a measure of how well the model fits the data. The df.residual is the degrees of freedom of the residuals. The deviance divided by the df.residual gives us the mean deviance. The mean deviance is a measure of how well the model fits the data. The lower the mean deviance, the better the model fits the data."
   ]
  },
  {
   "cell_type": "markdown",
   "id": "3cc8f98c",
   "metadata": {},
   "source": [
    "In a Poisson regression model, the dispersion parameter is ideally 1, because the variance equals the mean in a Poisson distribution. However, in practice, this is often not the case, and the observed variance can be greater than the mean. This is known as overdispersion. The dispersion parameter is a measure of this overdispersion.\n",
    "\n",
    "The dispersion parameter is calculated as the deviance divided by the degrees of freedom of the residuals (poisson_model$deviance/poisson_model$df.residual). This gives the average amount of deviance per degree of freedom, which can be interpreted as the average amount of variance that is not explained by the model.\n",
    "\n",
    "On the other hand, the mean deviance is a measure of the goodness of fit of a statistical model. In the context of Poisson regression, it is calculated as the total deviance divided by the number of observations. A lower mean deviance indicates a better fit of the model to the data.\n",
    "\n",
    "The mean deviance is calculated as the deviance divided by the number of observations (poisson_model$deviance/nrow(data)). This gives the average amount of deviance per observation, which can be interpreted as the average amount of variance that is not explained by the model."
   ]
  },
  {
   "cell_type": "code",
   "execution_count": 10,
   "id": "59277f0a",
   "metadata": {
    "vscode": {
     "languageId": "r"
    }
   },
   "outputs": [
    {
     "name": "stdout",
     "output_type": "stream",
     "text": [
      "[1] 4244.351\n",
      "[1] 5172\n",
      "[1] 0.8206402\n",
      "[1] 0.8177941\n",
      "[1] \"The model is NOT overdispersed\"\n"
     ]
    }
   ],
   "source": [
    "# Diagnostics for the Poisson model (e.g., checking for overdispersion)\n",
    "# Overdispersion can be roughly checked by comparing residual deviance to degrees of freedom\n",
    "print(poisson_model$deviance)\n",
    "print(poisson_model$df.residual)\n",
    "\n",
    "# Overdispersion parameter\n",
    "dispersion_parameter <- poisson_model$deviance/poisson_model$df.residual\n",
    "print(dispersion_parameter)\n",
    "\n",
    "#mean deviance\n",
    "mean_deviance <- poisson_model$deviance/nrow(data)\n",
    "print(mean_deviance)\n",
    "\n",
    "# Checking for overdispersion\n",
    "if (dispersion_parameter > 1) {\n",
    "  print(\"The model is overdispersed\")\n",
    "} else {\n",
    "  print(\"The model is NOT overdispersed\")\n",
    "}\n"
   ]
  },
  {
   "cell_type": "markdown",
   "id": "7113e050",
   "metadata": {},
   "source": [
    "So, the residual deviance is 4244.351, with residual degree of freedom of 5172. The dispersion parameter is 0.82 and the mean deviance is 0.82. This means that the model is a good fit for the data. The residual deviance is the deviance of the model after fitting the data. The residual degree of freedom is the degrees of freedom of the residuals. \n",
    "\n",
    "If dispersion parameter is close to 1, the model is a good fit for the data. If the dispersion parameter is greater than 1, the model is overdispersed. If the dispersion parameter is less than 1, the model is underdispersed. In this case, the dispersion parameter is 0.82, so the model is not overdispersed. \n",
    "\n"
   ]
  },
  {
   "cell_type": "code",
   "execution_count": 11,
   "id": "d385cc11",
   "metadata": {
    "vscode": {
     "languageId": "r"
    }
   },
   "outputs": [],
   "source": [
    "# #Install the necessary library\n",
    "# install.packages(\"pscl\") #this package is used to fit a negative binomial model\n",
    "# install.packages(\"broom\") #this package is used to tidy the model output\n",
    "# install.packages(\"tidyverse\") #this package is used to tidy the model output\n",
    "\n",
    "#other packages for negative binomial model\n"
   ]
  },
  {
   "cell_type": "code",
   "execution_count": 12,
   "id": "b3517c3d",
   "metadata": {
    "vscode": {
     "languageId": "r"
    }
   },
   "outputs": [
    {
     "name": "stdout",
     "output_type": "stream",
     "text": [
      "[1] \"Data does not contain NA values\"\n"
     ]
    }
   ],
   "source": [
    "# Check for NA values\n",
    "if(any(is.na(data))) {\n",
    "  print(\"Data contains NA values\")\n",
    "  # handle NA values\n",
    "} else {\n",
    "  print(\"Data does not contain NA values\")\n",
    "}\n"
   ]
  },
  {
   "cell_type": "markdown",
   "id": "158e278d",
   "metadata": {},
   "source": [
    "Underdispersion in Poisson models is less common than overdispersion and can sometimes be due to data peculiarities or specific constraints in the data collection process. Nevertheless, it's generally a less severe issue compared to overdispersion.\n",
    "\n",
    "Given these results, you might still consider exploring a Negative Binomial regression, particularly to confirm if the Poisson model is indeed the best fit or if the Negative Binomial model could provide a better fit due to any unaccounted overdispersion. Additionally, examining the residuals of the Poisson model for any patterns or deviations from randomness could provide further insights into the model's adequacy."
   ]
  },
  {
   "cell_type": "code",
   "execution_count": null,
   "id": "febf9961",
   "metadata": {
    "vscode": {
     "languageId": "r"
    }
   },
   "outputs": [],
   "source": []
  },
  {
   "cell_type": "code",
   "execution_count": null,
   "id": "f51c26ee",
   "metadata": {
    "vscode": {
     "languageId": "r"
    }
   },
   "outputs": [],
   "source": []
  },
  {
   "cell_type": "markdown",
   "id": "b907324c",
   "metadata": {},
   "source": [
    "The mean deviance is 0.8206 "
   ]
  },
  {
   "cell_type": "code",
   "execution_count": 12,
   "id": "b585d5eb",
   "metadata": {
    "vscode": {
     "languageId": "r"
    }
   },
   "outputs": [
    {
     "name": "stdout",
     "output_type": "stream",
     "text": [
      "Start:  AIC=6611.92\n",
      "doctorco ~ sex + age + agesq + income + levyplus + freepoor + \n",
      "    freepera + illness + actdays + hscore + chcond1 + chcond2 + \n",
      "    nondocco + hospadmi + hospdays + medicine + prescrib + nonpresc + \n",
      "    constant\n",
      "\n"
     ]
    },
    {
     "name": "stdout",
     "output_type": "stream",
     "text": [
      "\n",
      "Step:  AIC=6611.92\n",
      "doctorco ~ sex + age + agesq + income + levyplus + freepoor + \n",
      "    freepera + illness + actdays + hscore + chcond1 + chcond2 + \n",
      "    nondocco + hospadmi + hospdays + medicine + prescrib + nonpresc\n",
      "\n",
      "\n",
      "Step:  AIC=6611.92\n",
      "doctorco ~ sex + age + agesq + income + levyplus + freepoor + \n",
      "    freepera + illness + actdays + hscore + chcond1 + chcond2 + \n",
      "    nondocco + hospadmi + hospdays + medicine + prescrib\n",
      "\n",
      "           Df Deviance    AIC\n",
      "- hospdays  1   4244.4 6610.0\n",
      "- freepera  1   4244.4 6610.0\n",
      "- chcond2   1   4244.4 6610.0\n",
      "- levyplus  1   4244.9 6610.4\n",
      "- age       1   4245.1 6610.6\n",
      "- agesq     1   4245.3 6610.9\n",
      "- chcond1   1   4245.6 6611.2\n",
      "<none>          4244.4 6611.9\n",
      "- income    1   4246.4 6612.0\n",
      "- nondocco  1   4246.4 6612.0\n",
      "- hscore    1   4247.1 6612.7\n",
      "- sex       1   4249.0 6614.6\n",
      "- medicine  1   4250.5 6616.1\n",
      "- freepoor  1   4250.7 6616.3\n",
      "- hospadmi  1   4266.8 6632.3\n",
      "- prescrib  1   4283.7 6649.3\n",
      "- illness   1   4288.9 6654.4\n",
      "- actdays   1   4604.4 6969.9\n",
      "\n",
      "Step:  AIC=6609.98\n",
      "doctorco ~ sex + age + agesq + income + levyplus + freepoor + \n",
      "    freepera + illness + actdays + hscore + chcond1 + chcond2 + \n",
      "    nondocco + hospadmi + medicine + prescrib\n",
      "\n",
      "           Df Deviance    AIC\n",
      "- freepera  1   4244.5 6608.0\n",
      "- chcond2   1   4244.5 6608.0\n",
      "- levyplus  1   4244.9 6608.5\n",
      "- age       1   4245.1 6608.7\n",
      "- agesq     1   4245.3 6608.9\n",
      "- chcond1   1   4245.7 6609.2\n",
      "<none>          4244.4 6610.0\n",
      "- income    1   4246.5 6610.1\n",
      "- nondocco  1   4246.6 6610.2\n",
      "- hscore    1   4247.2 6610.8\n",
      "+ hospdays  1   4244.4 6611.9\n",
      "- sex       1   4249.1 6612.6\n",
      "- medicine  1   4250.6 6614.2\n",
      "- freepoor  1   4250.8 6614.4\n",
      "- hospadmi  1   4270.1 6633.6\n",
      "- prescrib  1   4283.7 6647.3\n",
      "- illness   1   4288.9 6652.5\n",
      "- actdays   1   4606.0 6969.6\n",
      "\n",
      "Step:  AIC=6608.04\n",
      "doctorco ~ sex + age + agesq + income + levyplus + freepoor + \n",
      "    illness + actdays + hscore + chcond1 + chcond2 + nondocco + \n",
      "    hospadmi + medicine + prescrib\n",
      "\n",
      "           Df Deviance    AIC\n",
      "- chcond2   1   4244.5 6606.1\n",
      "- levyplus  1   4245.0 6606.6\n",
      "- age       1   4245.2 6606.8\n",
      "- agesq     1   4245.4 6607.0\n",
      "- chcond1   1   4245.8 6607.3\n",
      "<none>          4244.5 6608.0\n",
      "- nondocco  1   4246.7 6608.3\n",
      "- income    1   4246.8 6608.3\n",
      "- hscore    1   4247.3 6608.9\n",
      "+ freepera  1   4244.4 6610.0\n",
      "+ hospdays  1   4244.4 6610.0\n",
      "- sex       1   4249.3 6610.9\n",
      "- medicine  1   4250.7 6612.3\n",
      "- freepoor  1   4251.5 6613.1\n",
      "- hospadmi  1   4270.1 6631.6\n",
      "- prescrib  1   4284.2 6645.8\n",
      "- illness   1   4288.9 6650.5\n",
      "- actdays   1   4606.0 6967.6\n",
      "\n",
      "Step:  AIC=6606.1\n",
      "doctorco ~ sex + age + agesq + income + levyplus + freepoor + \n",
      "    illness + actdays + hscore + chcond1 + nondocco + hospadmi + \n",
      "    medicine + prescrib\n",
      "\n",
      "           Df Deviance    AIC\n",
      "- levyplus  1   4245.1 6604.7\n",
      "- age       1   4245.2 6604.8\n",
      "- agesq     1   4245.4 6605.0\n",
      "<none>          4244.5 6606.1\n",
      "- nondocco  1   4246.7 6606.3\n",
      "- income    1   4246.8 6606.4\n",
      "- chcond1   1   4247.1 6606.7\n",
      "- hscore    1   4247.3 6606.9\n",
      "+ chcond2   1   4244.5 6608.0\n",
      "+ freepera  1   4244.5 6608.0\n",
      "+ hospdays  1   4244.5 6608.1\n",
      "- sex       1   4249.3 6608.9\n",
      "- medicine  1   4250.8 6610.4\n",
      "- freepoor  1   4251.6 6611.1\n",
      "- hospadmi  1   4270.2 6629.8\n",
      "- prescrib  1   4284.2 6643.8\n",
      "- illness   1   4289.4 6649.0\n",
      "- actdays   1   4608.6 6968.2\n",
      "\n",
      "Step:  AIC=6604.65\n",
      "doctorco ~ sex + age + agesq + income + freepoor + illness + \n",
      "    actdays + hscore + chcond1 + nondocco + hospadmi + medicine + \n",
      "    prescrib\n",
      "\n",
      "           Df Deviance    AIC\n",
      "- age       1   4245.8 6603.4\n",
      "- agesq     1   4246.0 6603.6\n",
      "- income    1   4247.0 6604.5\n",
      "<none>          4245.1 6604.7\n",
      "- nondocco  1   4247.4 6605.0\n",
      "- chcond1   1   4247.8 6605.3\n",
      "- hscore    1   4247.8 6605.4\n",
      "+ levyplus  1   4244.5 6606.1\n",
      "+ freepera  1   4245.0 6606.5\n",
      "+ chcond2   1   4245.0 6606.6\n",
      "+ hospdays  1   4245.0 6606.6\n",
      "- sex       1   4250.2 6607.7\n",
      "- medicine  1   4251.3 6608.8\n",
      "- freepoor  1   4252.7 6610.3\n",
      "- hospadmi  1   4271.2 6628.8\n",
      "- prescrib  1   4284.7 6642.3\n",
      "- illness   1   4289.8 6647.3\n",
      "- actdays   1   4608.7 6966.2\n",
      "\n",
      "Step:  AIC=6603.38\n",
      "doctorco ~ sex + agesq + income + freepoor + illness + actdays + \n",
      "    hscore + chcond1 + nondocco + hospadmi + medicine + prescrib\n",
      "\n",
      "           Df Deviance    AIC\n",
      "- agesq     1   4246.3 6601.9\n",
      "- income    1   4247.3 6602.8\n",
      "<none>          4245.8 6603.4\n",
      "- nondocco  1   4248.2 6603.7\n",
      "- chcond1   1   4248.5 6604.0\n",
      "- hscore    1   4248.7 6604.3\n",
      "+ age       1   4245.1 6604.7\n",
      "+ levyplus  1   4245.2 6604.8\n",
      "+ freepera  1   4245.8 6605.3\n",
      "+ hospdays  1   4245.8 6605.4\n",
      "+ chcond2   1   4245.8 6605.4\n",
      "- sex       1   4250.9 6606.5\n",
      "- medicine  1   4251.8 6607.3\n",
      "- freepoor  1   4253.6 6609.2\n",
      "- hospadmi  1   4272.3 6627.9\n",
      "- prescrib  1   4285.2 6640.7\n",
      "- illness   1   4290.1 6645.7\n",
      "- actdays   1   4609.9 6965.5\n",
      "\n",
      "Step:  AIC=6601.88\n",
      "doctorco ~ sex + income + freepoor + illness + actdays + hscore + \n",
      "    chcond1 + nondocco + hospadmi + medicine + prescrib\n",
      "\n",
      "           Df Deviance    AIC\n",
      "- income    1   4247.4 6601.0\n",
      "<none>          4246.3 6601.9\n",
      "- nondocco  1   4248.6 6602.1\n",
      "- chcond1   1   4248.6 6602.2\n",
      "- hscore    1   4249.4 6603.0\n",
      "+ levyplus  1   4245.7 6603.3\n",
      "+ agesq     1   4245.8 6603.4\n",
      "+ age       1   4246.0 6603.6\n",
      "+ freepera  1   4246.1 6603.7\n",
      "+ chcond2   1   4246.3 6603.8\n",
      "+ hospdays  1   4246.3 6603.9\n",
      "- sex       1   4251.1 6604.7\n",
      "- medicine  1   4252.0 6605.6\n",
      "- freepoor  1   4253.6 6607.2\n",
      "- hospadmi  1   4273.2 6626.8\n",
      "- prescrib  1   4285.8 6639.3\n",
      "- illness   1   4290.4 6644.0\n",
      "- actdays   1   4609.9 6963.5\n",
      "\n",
      "Step:  AIC=6600.99\n",
      "doctorco ~ sex + freepoor + illness + actdays + hscore + chcond1 + \n",
      "    nondocco + hospadmi + medicine + prescrib\n",
      "\n",
      "           Df Deviance    AIC\n",
      "<none>          4247.4 6601.0\n",
      "- nondocco  1   4249.7 6601.3\n",
      "- chcond1   1   4249.8 6601.3\n",
      "+ income    1   4246.3 6601.9\n",
      "- hscore    1   4250.6 6602.2\n",
      "+ levyplus  1   4247.2 6602.8\n",
      "+ agesq     1   4247.3 6602.8\n",
      "+ age       1   4247.3 6602.9\n",
      "+ hospdays  1   4247.4 6603.0\n",
      "+ chcond2   1   4247.4 6603.0\n",
      "+ freepera  1   4247.4 6603.0\n",
      "- medicine  1   4253.5 6605.0\n",
      "- sex       1   4253.8 6605.3\n",
      "- freepoor  1   4254.0 6605.6\n",
      "- hospadmi  1   4274.7 6626.3\n",
      "- prescrib  1   4289.3 6640.9\n",
      "- illness   1   4292.7 6644.3\n",
      "- actdays   1   4610.7 6962.2\n"
     ]
    },
    {
     "data": {
      "text/plain": [
       "\n",
       "Call:  glm(formula = doctorco ~ sex + freepoor + illness + actdays + \n",
       "    hscore + chcond1 + nondocco + hospadmi + medicine + prescrib, \n",
       "    family = \"poisson\", data = data)\n",
       "\n",
       "Coefficients:\n",
       "(Intercept)          sex     freepoor      illness      actdays       hscore  \n",
       "   -2.00115      0.13673     -0.41430      0.13348      0.11023      0.01833  \n",
       "    chcond1     nondocco     hospadmi     medicine     prescrib  \n",
       "    0.08181      0.02340      0.15973     -0.08845      0.22538  \n",
       "\n",
       "Degrees of Freedom: 5189 Total (i.e. Null);  5179 Residual\n",
       "Null Deviance:\t    5635 \n",
       "Residual Deviance: 4247 \tAIC: 6601"
      ]
     },
     "metadata": {},
     "output_type": "display_data"
    }
   ],
   "source": [
    "#find the best variables\n",
    "library(MASS)\n",
    "stepAIC(poisson_model, direction=\"both\")"
   ]
  },
  {
   "cell_type": "markdown",
   "id": "c9bf9cfe",
   "metadata": {},
   "source": []
  },
  {
   "cell_type": "markdown",
   "id": "ef180dc5",
   "metadata": {},
   "source": [
    "\"sex\",\"age\",\"agesq\",\"income\",\"levyplus\",\"freepoor\",\"freepera\",\"illness\",\"actdays\",\"hscore\",\"chcond1\",\"chcond2\",\"doctorco\",\"nondocco\",\"hospadmi\",\"hospdays\",\"medicine\",\"prescrib\",\"nonpresc\",\"constant\""
   ]
  },
  {
   "cell_type": "code",
   "execution_count": 14,
   "id": "c05d8cd3",
   "metadata": {
    "vscode": {
     "languageId": "r"
    }
   },
   "outputs": [
    {
     "data": {
      "text/plain": [
       "\n",
       "Call:\n",
       "glm(formula = doctorco ~ sex + freepoor + illness + actdays + \n",
       "    hscore + chcond1 + nondocco + hospadmi + medicine + prescrib, \n",
       "    family = \"poisson\", data = data)\n",
       "\n",
       "Coefficients:\n",
       "             Estimate Std. Error z value Pr(>|z|)    \n",
       "(Intercept) -2.001155   0.055232 -36.232  < 2e-16 ***\n",
       "sex          0.136728   0.054480   2.510   0.0121 *  \n",
       "freepoor    -0.414298   0.172013  -2.409   0.0160 *  \n",
       "illness      0.133480   0.019656   6.791 1.11e-11 ***\n",
       "actdays      0.110231   0.005376  20.506  < 2e-16 ***\n",
       "hscore       0.018328   0.010199   1.797   0.0723 .  \n",
       "chcond1      0.081807   0.053329   1.534   0.1250    \n",
       "nondocco     0.023399   0.015046   1.555   0.1199    \n",
       "hospadmi     0.159728   0.029373   5.438 5.39e-08 ***\n",
       "medicine    -0.088453   0.037199  -2.378   0.0174 *  \n",
       "prescrib     0.225385   0.037556   6.001 1.96e-09 ***\n",
       "---\n",
       "Signif. codes:  0 '***' 0.001 '**' 0.01 '*' 0.05 '.' 0.1 ' ' 1\n",
       "\n",
       "(Dispersion parameter for poisson family taken to be 1)\n",
       "\n",
       "    Null deviance: 5634.8  on 5189  degrees of freedom\n",
       "Residual deviance: 4247.4  on 5179  degrees of freedom\n",
       "AIC: 6601\n",
       "\n",
       "Number of Fisher Scoring iterations: 6\n"
      ]
     },
     "metadata": {},
     "output_type": "display_data"
    },
    {
     "name": "stdout",
     "output_type": "stream",
     "text": [
      "[1] 4247.427\n",
      "[1] 5179\n",
      "[1] 0.8201249\n",
      "[1] 0.8183867\n",
      "[1] \"The model is NOT overdispersed\"\n"
     ]
    }
   ],
   "source": [
    "poisson_model_best_par <- glm(doctorco ~ sex + freepoor + illness + actdays + \n",
    "    hscore + chcond1 + nondocco + hospadmi + medicine + prescrib, \n",
    "    family = \"poisson\", data = data)\n",
    "\n",
    "summary(poisson_model_best_par)\n",
    "\n",
    "# Diagnostics for the Poisson model (e.g., checking for overdispersion)\n",
    "# Overdispersion can be roughly checked by comparing residual deviance to degrees of freedom\n",
    "print(poisson_model_best_par$deviance)\n",
    "print(poisson_model_best_par$df.residual)\n",
    "\n",
    "# Overdispersion parameter\n",
    "dispersion_parameter <- poisson_model_best_par$deviance/poisson_model_best_par$df.residual\n",
    "print(dispersion_parameter)\n",
    "\n",
    "#mean deviance\n",
    "mean_deviance <- poisson_model_best_par$deviance/nrow(data)\n",
    "print(mean_deviance)\n",
    "\n",
    "# Checking for overdispersion\n",
    "if (dispersion_parameter > 1) {\n",
    "  print(\"The model is overdispersed\")\n",
    "} else {\n",
    "  print(\"The model is NOT overdispersed\")\n",
    "}"
   ]
  },
  {
   "cell_type": "markdown",
   "id": "f00fdc2d",
   "metadata": {},
   "source": [
    "Continuing with the analysis, after exploring the Poisson regression model, it's advisable to consider a Negative Binomial regression. In this specific and rare case, which the model is not overdispersed, but underdispersed, the Negative Binomial model might not be necessary. However, it's still a good practice to explore alternative models to confirm the adequacy of the Poisson model."
   ]
  },
  {
   "cell_type": "code",
   "execution_count": 15,
   "id": "08c76105",
   "metadata": {
    "vscode": {
     "languageId": "r"
    }
   },
   "outputs": [
    {
     "data": {
      "text/plain": [
       "\n",
       "Call:\n",
       "glm.nb(formula = doctorco ~ ., data = data, init.theta = 1.037148507, \n",
       "    link = log)\n",
       "\n",
       "Coefficients: (2 not defined because of singularities)\n",
       "              Estimate Std. Error z value Pr(>|z|)    \n",
       "(Intercept) -2.108e+00  2.328e-01  -9.055  < 2e-16 ***\n",
       "sex          1.690e-01  7.000e-02   2.415 0.015753 *  \n",
       "age         -1.322e-02  1.265e+00  -0.010 0.991659    \n",
       "agesq       -1.103e-01  1.382e+00  -0.080 0.936408    \n",
       "income      -9.360e-02  1.081e-01  -0.866 0.386487    \n",
       "levyplus     6.299e-02  8.532e-02   0.738 0.460328    \n",
       "freepoor    -5.368e-01  2.131e-01  -2.519 0.011759 *  \n",
       "freepera     9.210e-02  1.155e-01   0.797 0.425372    \n",
       "illness      1.648e-01  2.492e-02   6.613 3.78e-11 ***\n",
       "actdays      1.234e-01  7.590e-03  16.253  < 2e-16 ***\n",
       "hscore       2.892e-02  1.364e-02   2.121 0.033944 *  \n",
       "chcond1      3.727e-02  8.017e-02   0.465 0.642067    \n",
       "chcond2     -3.061e-05  1.077e-01   0.000 0.999773    \n",
       "nondocco     2.196e-02  2.327e-02   0.944 0.345367    \n",
       "hospadmi     1.909e-01  5.068e-02   3.767 0.000165 ***\n",
       "hospdays     1.208e-03  4.188e-03   0.288 0.773056    \n",
       "medicine    -1.103e-01  4.632e-02  -2.382 0.017228 *  \n",
       "prescrib     2.772e-01  4.860e-02   5.703 1.18e-08 ***\n",
       "nonpresc            NA         NA      NA       NA    \n",
       "constant            NA         NA      NA       NA    \n",
       "---\n",
       "Signif. codes:  0 '***' 0.001 '**' 0.01 '*' 0.05 '.' 0.1 ' ' 1\n",
       "\n",
       "(Dispersion parameter for Negative Binomial(1.0371) family taken to be 1)\n",
       "\n",
       "    Null deviance: 4035.0  on 5189  degrees of freedom\n",
       "Residual deviance: 3018.4  on 5172  degrees of freedom\n",
       "AIC: 6346.4\n",
       "\n",
       "Number of Fisher Scoring iterations: 1\n",
       "\n",
       "\n",
       "              Theta:  1.0371 \n",
       "          Std. Err.:  0.1000 \n",
       "\n",
       " 2 x log-likelihood:  -6308.3620 "
      ]
     },
     "metadata": {},
     "output_type": "display_data"
    }
   ],
   "source": [
    "# Negative Binomial Regression (using MASS package) with all the variables\n",
    "\n",
    "#negbin_model <- glm.nb(doctorco ~ ., data = data)\n",
    "negbin_model <- glm.nb(formula = doctorco ~ ., data = data)\n",
    "\n",
    "# Summary of the Negative Binomial model\n",
    "summary(negbin_model)"
   ]
  },
  {
   "cell_type": "markdown",
   "id": "d17c09e4",
   "metadata": {},
   "source": [
    "Like before, we can use stepAIC() to perform stepwise model selection and identify the best model based on the AIC criterion. We can then compare the AIC of the Poisson model with the AIC of the Negative Binomial model to determine which model is the best fit for the data."
   ]
  },
  {
   "cell_type": "markdown",
   "id": "b4df2abe",
   "metadata": {},
   "source": [
    "Just for testing, we can firstly check the best parameters found for poisson regression model and then we can check the best parameters found for negative binomial regression model."
   ]
  },
  {
   "cell_type": "code",
   "execution_count": 16,
   "id": "723d68d5",
   "metadata": {
    "vscode": {
     "languageId": "r"
    }
   },
   "outputs": [
    {
     "data": {
      "text/plain": [
       "\n",
       "Call:\n",
       "glm.nb(formula = doctorco ~ sex + freepoor + illness + actdays + \n",
       "    hscore + chcond1 + nondocco + hospadmi + medicine + prescrib, \n",
       "    data = data, init.theta = 1.040409799, link = log)\n",
       "\n",
       "Coefficients:\n",
       "             Estimate Std. Error z value Pr(>|z|)    \n",
       "(Intercept) -2.158596   0.065873 -32.769  < 2e-16 ***\n",
       "sex          0.192188   0.066931   2.871  0.00409 ** \n",
       "freepoor    -0.539699   0.203569  -2.651  0.00802 ** \n",
       "illness      0.165962   0.024464   6.784 1.17e-11 ***\n",
       "actdays      0.122779   0.007512  16.344  < 2e-16 ***\n",
       "hscore       0.029998   0.013486   2.224  0.02612 *  \n",
       "chcond1      0.037262   0.065778   0.566  0.57107    \n",
       "nondocco     0.024275   0.023045   1.053  0.29217    \n",
       "hospadmi     0.199652   0.045979   4.342 1.41e-05 ***\n",
       "medicine    -0.113338   0.045989  -2.464  0.01372 *  \n",
       "prescrib     0.283027   0.047125   6.006 1.90e-09 ***\n",
       "---\n",
       "Signif. codes:  0 '***' 0.001 '**' 0.01 '*' 0.05 '.' 0.1 ' ' 1\n",
       "\n",
       "(Dispersion parameter for Negative Binomial(1.0404) family taken to be 1)\n",
       "\n",
       "    Null deviance: 4037.9  on 5189  degrees of freedom\n",
       "Residual deviance: 3022.4  on 5179  degrees of freedom\n",
       "AIC: 6334.2\n",
       "\n",
       "Number of Fisher Scoring iterations: 1\n",
       "\n",
       "\n",
       "              Theta:  1.040 \n",
       "          Std. Err.:  0.101 \n",
       "\n",
       " 2 x log-likelihood:  -6310.186 "
      ]
     },
     "metadata": {},
     "output_type": "display_data"
    }
   ],
   "source": [
    "# Negative Binomial Regression with the best variables found with poisson regression\n",
    "\n",
    "negbin_model_testing_1 <- glm.nb(formula = doctorco ~ sex + freepoor + illness + actdays + \n",
    "    hscore + chcond1 + nondocco + hospadmi + medicine + prescrib, \n",
    "    data = data)\n",
    "\n",
    "# Summary of the Negative Binomial model\n",
    "summary(negbin_model_testing_1)"
   ]
  },
  {
   "cell_type": "code",
   "execution_count": 17,
   "id": "ac7b94f9",
   "metadata": {
    "vscode": {
     "languageId": "r"
    }
   },
   "outputs": [
    {
     "name": "stdout",
     "output_type": "stream",
     "text": [
      "Start:  AIC=6344.36\n",
      "doctorco ~ sex + age + agesq + income + levyplus + freepoor + \n",
      "    freepera + illness + actdays + hscore + chcond1 + chcond2 + \n",
      "    nondocco + hospadmi + hospdays + medicine + prescrib + nonpresc + \n",
      "    constant\n",
      "\n",
      "\n",
      "Step:  AIC=6344.36\n",
      "doctorco ~ sex + age + agesq + income + levyplus + freepoor + \n",
      "    freepera + illness + actdays + hscore + chcond1 + chcond2 + \n",
      "    nondocco + hospadmi + hospdays + medicine + prescrib + nonpresc\n",
      "\n",
      "\n",
      "Step:  AIC=6344.36\n",
      "doctorco ~ sex + age + agesq + income + levyplus + freepoor + \n",
      "    freepera + illness + actdays + hscore + chcond1 + chcond2 + \n",
      "    nondocco + hospadmi + hospdays + medicine + prescrib\n",
      "\n",
      "           Df    AIC\n",
      "- chcond2   1 6342.4\n",
      "- age       1 6342.4\n",
      "- agesq     1 6342.4\n",
      "- hospdays  1 6342.4\n",
      "- chcond1   1 6342.6\n",
      "- levyplus  1 6342.9\n",
      "- freepera  1 6343.0\n",
      "- income    1 6343.1\n",
      "- nondocco  1 6343.2\n",
      "<none>        6344.4\n",
      "- hscore    1 6346.7\n",
      "- sex       1 6348.2\n",
      "- medicine  1 6348.3\n",
      "- freepoor  1 6349.7\n",
      "- hospadmi  1 6353.9\n",
      "- prescrib  1 6376.7\n",
      "- illness   1 6383.7\n",
      "- actdays   1 6574.7\n",
      "\n",
      "Step:  AIC=6342.36\n",
      "doctorco ~ sex + age + agesq + income + levyplus + freepoor + \n",
      "    freepera + illness + actdays + hscore + chcond1 + nondocco + \n",
      "    hospadmi + hospdays + medicine + prescrib\n",
      "\n",
      "           Df    AIC\n",
      "- age       1 6340.4\n",
      "- agesq     1 6340.4\n",
      "- hospdays  1 6340.4\n",
      "- chcond1   1 6340.7\n",
      "- levyplus  1 6340.9\n",
      "- freepera  1 6341.0\n",
      "- income    1 6341.1\n",
      "- nondocco  1 6341.2\n",
      "<none>        6342.4\n",
      "+ chcond2   1 6344.4\n",
      "- hscore    1 6344.7\n",
      "- sex       1 6346.2\n",
      "- medicine  1 6346.3\n",
      "- freepoor  1 6347.7\n",
      "- hospadmi  1 6352.0\n",
      "- prescrib  1 6374.8\n",
      "- illness   1 6383.0\n",
      "- actdays   1 6573.4\n",
      "\n",
      "Step:  AIC=6340.36\n",
      "doctorco ~ sex + agesq + income + levyplus + freepoor + freepera + \n",
      "    illness + actdays + hscore + chcond1 + nondocco + hospadmi + \n",
      "    hospdays + medicine + prescrib\n",
      "\n",
      "           Df    AIC\n",
      "- hospdays  1 6338.4\n",
      "- agesq     1 6338.6\n",
      "- chcond1   1 6338.7\n",
      "- levyplus  1 6338.9\n",
      "- freepera  1 6339.0\n",
      "- nondocco  1 6339.2\n",
      "- income    1 6339.2\n",
      "<none>        6340.4\n",
      "+ age       1 6342.4\n",
      "+ chcond2   1 6342.4\n",
      "- hscore    1 6342.7\n",
      "- sex       1 6344.2\n",
      "- medicine  1 6344.3\n",
      "- freepoor  1 6345.7\n",
      "- hospadmi  1 6350.0\n",
      "- prescrib  1 6372.8\n",
      "- illness   1 6381.0\n",
      "- actdays   1 6571.4\n",
      "\n",
      "Step:  AIC=6338.43\n",
      "doctorco ~ sex + agesq + income + levyplus + freepoor + freepera + \n",
      "    illness + actdays + hscore + chcond1 + nondocco + hospadmi + \n",
      "    medicine + prescrib\n",
      "\n",
      "           Df    AIC\n",
      "- agesq     1 6336.7\n",
      "- chcond1   1 6336.7\n",
      "- levyplus  1 6337.0\n",
      "- freepera  1 6337.1\n",
      "- income    1 6337.3\n",
      "- nondocco  1 6337.3\n",
      "<none>        6338.4\n",
      "+ hospdays  1 6340.4\n",
      "+ age       1 6340.4\n",
      "+ chcond2   1 6340.4\n",
      "- hscore    1 6340.8\n",
      "- sex       1 6342.3\n",
      "- medicine  1 6342.4\n",
      "- freepoor  1 6343.8\n",
      "- hospadmi  1 6351.8\n",
      "- prescrib  1 6371.0\n",
      "- illness   1 6379.0\n",
      "- actdays   1 6569.7\n",
      "\n",
      "Step:  AIC=6336.7\n",
      "doctorco ~ sex + income + levyplus + freepoor + freepera + illness + \n",
      "    actdays + hscore + chcond1 + nondocco + hospadmi + medicine + \n",
      "    prescrib\n",
      "\n",
      "           Df    AIC\n",
      "- chcond1   1 6334.9\n",
      "- freepera  1 6335.1\n",
      "- levyplus  1 6335.1\n",
      "- income    1 6335.4\n",
      "- nondocco  1 6335.5\n",
      "<none>        6336.7\n",
      "+ agesq     1 6338.4\n",
      "+ age       1 6338.4\n",
      "+ hospdays  1 6338.6\n",
      "+ chcond2   1 6338.7\n",
      "- hscore    1 6339.3\n",
      "- sex       1 6340.5\n",
      "- medicine  1 6340.6\n",
      "- freepoor  1 6341.9\n",
      "- hospadmi  1 6350.0\n",
      "- prescrib  1 6369.1\n",
      "- illness   1 6377.2\n",
      "- actdays   1 6567.7\n",
      "\n",
      "Step:  AIC=6334.91\n",
      "doctorco ~ sex + income + levyplus + freepoor + freepera + illness + \n",
      "    actdays + hscore + nondocco + hospadmi + medicine + prescrib\n",
      "\n",
      "           Df    AIC\n",
      "- levyplus  1 6333.4\n",
      "- freepera  1 6333.4\n",
      "- income    1 6333.6\n",
      "- nondocco  1 6333.7\n",
      "<none>        6334.9\n",
      "+ chcond1   1 6336.7\n",
      "+ agesq     1 6336.7\n",
      "+ age       1 6336.7\n",
      "+ hospdays  1 6336.8\n",
      "+ chcond2   1 6336.9\n",
      "- hscore    1 6337.4\n",
      "- medicine  1 6338.8\n",
      "- sex       1 6338.9\n",
      "- freepoor  1 6340.0\n",
      "- hospadmi  1 6348.1\n",
      "- prescrib  1 6367.5\n",
      "- illness   1 6377.1\n",
      "- actdays   1 6565.8\n",
      "\n",
      "Step:  AIC=6333.37\n",
      "doctorco ~ sex + income + freepoor + freepera + illness + actdays + \n",
      "    hscore + nondocco + hospadmi + medicine + prescrib\n",
      "\n",
      "           Df    AIC\n",
      "- freepera  1 6331.5\n",
      "- income    1 6332.0\n",
      "- nondocco  1 6332.2\n",
      "<none>        6333.4\n",
      "+ levyplus  1 6334.9\n",
      "+ chcond1   1 6335.1\n",
      "+ hospdays  1 6335.3\n",
      "+ agesq     1 6335.3\n",
      "+ chcond2   1 6335.3\n",
      "+ age       1 6335.3\n",
      "- hscore    1 6335.8\n",
      "- medicine  1 6337.2\n",
      "- sex       1 6338.1\n",
      "- freepoor  1 6339.9\n",
      "- hospadmi  1 6346.7\n",
      "- prescrib  1 6366.6\n",
      "- illness   1 6375.4\n",
      "- actdays   1 6563.9\n",
      "\n",
      "Step:  AIC=6331.51\n",
      "doctorco ~ sex + income + freepoor + illness + actdays + hscore + \n",
      "    nondocco + hospadmi + medicine + prescrib\n",
      "\n",
      "           Df    AIC\n",
      "- nondocco  1 6330.4\n",
      "- income    1 6330.5\n",
      "<none>        6331.5\n",
      "+ chcond1   1 6333.2\n",
      "+ freepera  1 6333.4\n",
      "+ levyplus  1 6333.4\n",
      "+ hospdays  1 6333.4\n",
      "+ chcond2   1 6333.5\n",
      "+ agesq     1 6333.5\n",
      "+ age       1 6333.5\n",
      "- hscore    1 6334.0\n",
      "- medicine  1 6335.4\n",
      "- sex       1 6336.4\n",
      "- freepoor  1 6338.7\n",
      "- hospadmi  1 6344.8\n",
      "- prescrib  1 6365.9\n",
      "- illness   1 6374.0\n",
      "- actdays   1 6561.9\n",
      "\n",
      "Step:  AIC=6330.41\n",
      "doctorco ~ sex + income + freepoor + illness + actdays + hscore + \n",
      "    hospadmi + medicine + prescrib\n",
      "\n",
      "           Df    AIC\n",
      "- income    1 6329.5\n",
      "<none>        6330.4\n",
      "+ nondocco  1 6331.5\n",
      "+ chcond1   1 6332.1\n",
      "+ freepera  1 6332.2\n",
      "+ hospdays  1 6332.3\n",
      "+ levyplus  1 6332.3\n",
      "+ chcond2   1 6332.4\n",
      "+ age       1 6332.4\n",
      "+ agesq     1 6332.4\n",
      "- hscore    1 6333.0\n",
      "- medicine  1 6334.4\n",
      "- sex       1 6335.5\n",
      "- freepoor  1 6337.7\n",
      "- hospadmi  1 6344.5\n",
      "- prescrib  1 6365.4\n",
      "- illness   1 6372.8\n",
      "- actdays   1 6573.0\n",
      "\n",
      "Step:  AIC=6329.49\n",
      "doctorco ~ sex + freepoor + illness + actdays + hscore + hospadmi + \n",
      "    medicine + prescrib\n",
      "\n",
      "           Df    AIC\n",
      "<none>        6329.5\n",
      "+ income    1 6330.4\n",
      "+ nondocco  1 6330.5\n",
      "+ freepera  1 6330.9\n",
      "+ chcond1   1 6331.2\n",
      "+ hospdays  1 6331.3\n",
      "+ agesq     1 6331.4\n",
      "+ age       1 6331.4\n",
      "+ chcond2   1 6331.5\n",
      "+ levyplus  1 6331.5\n",
      "- hscore    1 6332.2\n",
      "- medicine  1 6334.0\n",
      "- freepoor  1 6336.0\n",
      "- sex       1 6336.6\n",
      "- hospadmi  1 6343.9\n",
      "- prescrib  1 6366.8\n",
      "- illness   1 6373.1\n",
      "- actdays   1 6571.4\n"
     ]
    },
    {
     "data": {
      "text/plain": [
       "\n",
       "Call:  glm.nb(formula = doctorco ~ sex + freepoor + illness + actdays + \n",
       "    hscore + hospadmi + medicine + prescrib, data = data, init.theta = 1.036677804, \n",
       "    link = log)\n",
       "\n",
       "Coefficients:\n",
       "(Intercept)          sex     freepoor      illness      actdays       hscore  \n",
       "    -2.1476       0.1996      -0.5426       0.1681       0.1241       0.0297  \n",
       "   hospadmi     medicine     prescrib  \n",
       "     0.2024      -0.1142       0.2866  \n",
       "\n",
       "Degrees of Freedom: 5189 Total (i.e. Null);  5181 Residual\n",
       "Null Deviance:\t    4035 \n",
       "Residual Deviance: 3021 \tAIC: 6331"
      ]
     },
     "metadata": {},
     "output_type": "display_data"
    }
   ],
   "source": [
    "# stepAIC for negative binomial model\n",
    "\n",
    "stepAIC(negbin_model, direction=\"both\")\n"
   ]
  },
  {
   "cell_type": "markdown",
   "id": "911bd837",
   "metadata": {},
   "source": []
  },
  {
   "cell_type": "markdown",
   "id": "cf47e4b8",
   "metadata": {},
   "source": [
    "Found the best parameters for negative binomial regression model. The best parameters for the negative binomial regression model are not the same as the best parameters for the Poisson regression model. \n",
    "\n",
    "Actually, with the function stepAIC(), the best parameters for the negative binomial regression model are: \n",
    "    sex + freepoor + illness + actdays + hscore + hospadmi + medicine + prescrib \n",
    "\n",
    "with an AIC of 6331. \n",
    "\n",
    "\n"
   ]
  },
  {
   "cell_type": "code",
   "execution_count": 18,
   "id": "34153feb",
   "metadata": {
    "vscode": {
     "languageId": "r"
    }
   },
   "outputs": [
    {
     "data": {
      "text/plain": [
       "\n",
       "Call:\n",
       "glm.nb(formula = doctorco ~ sex + freepoor + illness + actdays + \n",
       "    hscore + hospadmi + medicine + prescrib, data = data, init.theta = 1.03670749, \n",
       "    link = log)\n",
       "\n",
       "Coefficients:\n",
       "             Estimate Std. Error z value Pr(>|z|)    \n",
       "(Intercept) -2.147554   0.063003 -34.086  < 2e-16 ***\n",
       "sex          0.199588   0.066482   3.002  0.00268 ** \n",
       "freepoor    -0.542598   0.203438  -2.667  0.00765 ** \n",
       "illness      0.168111   0.024190   6.950 3.66e-12 ***\n",
       "actdays      0.124050   0.007377  16.816  < 2e-16 ***\n",
       "hscore       0.029699   0.013436   2.210  0.02708 *  \n",
       "hospadmi     0.202383   0.045613   4.437 9.12e-06 ***\n",
       "medicine    -0.114215   0.046030  -2.481  0.01309 *  \n",
       "prescrib     0.286582   0.047154   6.078 1.22e-09 ***\n",
       "---\n",
       "Signif. codes:  0 '***' 0.001 '**' 0.01 '*' 0.05 '.' 0.1 ' ' 1\n",
       "\n",
       "(Dispersion parameter for Negative Binomial(1.0367) family taken to be 1)\n",
       "\n",
       "    Null deviance: 4034.6  on 5189  degrees of freedom\n",
       "Residual deviance: 3021.2  on 5181  degrees of freedom\n",
       "AIC: 6331.5\n",
       "\n",
       "Number of Fisher Scoring iterations: 1\n",
       "\n",
       "\n",
       "              Theta:  1.0367 \n",
       "          Std. Err.:  0.0999 \n",
       "\n",
       " 2 x log-likelihood:  -6311.4880 "
      ]
     },
     "metadata": {},
     "output_type": "display_data"
    }
   ],
   "source": [
    "# Negative Binomial Regression Model with best parameters (obtained with stepAIC())\n",
    "\n",
    "negbin_model_bp <- glm.nb(formula = doctorco ~ sex + freepoor + illness + actdays + \n",
    "    hscore + hospadmi + medicine + prescrib, \n",
    "    data = data)\n",
    "\n",
    "# Summary of the Negative Binomial model\n",
    "summary(negbin_model_bp)"
   ]
  },
  {
   "cell_type": "markdown",
   "id": "82ab2efd",
   "metadata": {},
   "source": [
    "With the AIC for the best Poisson model being 6601 and the AIC for the best Negative Binomial model being 6331.5, the Negative Binomial model has a significantly lower AIC. This suggests that the Negative Binomial model provides a better fit for the data compared to the Poisson model.\n",
    "\n",
    "The Akaike Information Criterion (AIC) is a widely used measure of a statistical model's quality. It deals with the trade-off between the goodness of fit of the model and the simplicity of the model. A lower AIC value generally indicates a model that better explains the variability in the data without overfitting.\n",
    "\n",
    "Since count data often exhibit overdispersion (where the variance exceeds the mean), the Negative Binomial model is typically more flexible in handling this characteristic. The results from analysis suggest that the Negative Binomial model not only accounts for overdispersion effectively but also results in a better overall model fit as evidenced by the lower AIC."
   ]
  },
  {
   "cell_type": "markdown",
   "id": "0a7377af",
   "metadata": {},
   "source": [
    "## New analysis:\n",
    "\n",
    "Now, we go through with a new analysis. In this new part of the project, we'll see:\n",
    "- Zero-Inflated Poisson (ZIP) \n",
    "- Zero-Inflated Negative Binomial (ZINB)\n",
    "- Hurdle-Poisson\n",
    "- Hurdle-Negative Binomial\n"
   ]
  },
  {
   "cell_type": "markdown",
   "id": "c0ac8238",
   "metadata": {},
   "source": [
    "We can start from Zero-Inflated Poisson (ZIP) model. The Zero-Inflated Poisson (ZIP) model is a mixture model that assumes that the data is generated by two processes. The first process is a Poisson process that generates the count data. The second process is a Bernoulli process that generates the zero-inflation. The ZIP model is a good choice for count data that has an excessive number of zeros. \n",
    "\n",
    "We can use the zeroinfl() function from the pscl package to fit a ZIP model to the data. We can use the command summary() to see the results of the model. After, we can see also the deviance of the model and the dispersion parameter. Then, we can check metrics like Accuracy, AUC, F-1 Score for binary classification and RMSE for regression."
   ]
  },
  {
   "cell_type": "code",
   "execution_count": 19,
   "id": "d037e6ea",
   "metadata": {
    "vscode": {
     "languageId": "r"
    }
   },
   "outputs": [
    {
     "name": "stderr",
     "output_type": "stream",
     "text": [
      "Installazione pacchetto in '/Users/andrea.buscema/Library/R/x86_64/4.3/library'\n",
      "(perch'e 'lib' non `e specificato)\n",
      "\n"
     ]
    },
    {
     "name": "stdout",
     "output_type": "stream",
     "text": [
      "\n",
      "I pacchetti binari scaricati sono in\n",
      "\t/var/folders/1f/b06ndvrs4z3d8ww70y1v2mxc0000gn/T//RtmpovwfAq/downloaded_packages\n"
     ]
    }
   ],
   "source": [
    "# Required libraries\n",
    "# install.packages(\"pROC\")\n",
    "\n",
    "install.packages(\"Metrics\")"
   ]
  },
  {
   "cell_type": "code",
   "execution_count": 13,
   "id": "9ed87fc6",
   "metadata": {
    "vscode": {
     "languageId": "r"
    }
   },
   "outputs": [
    {
     "data": {
      "text/plain": [
       "\n",
       "Call:\n",
       "zeroinfl(formula = doctorco ~ age + sex + income + levyplus + freepoor + \n",
       "    freepera + illness + actdays + hscore + chcond1 + chcond2 + nondocco + \n",
       "    hospadmi + hospdays + prescrib + nonpresc | age + sex + income + \n",
       "    levyplus + freepoor + freepera + illness + actdays + hscore + chcond1 + \n",
       "    chcond2 + nondocco + hospadmi + hospdays + prescrib + nonpresc, data = data, \n",
       "    dist = \"poisson\")\n",
       "\n",
       "Pearson residuals:\n",
       "    Min      1Q  Median      3Q     Max \n",
       "-2.2655 -0.4377 -0.2527 -0.1717 11.3941 \n",
       "\n",
       "Count model coefficients (poisson with log link):\n",
       "             Estimate Std. Error z value Pr(>|z|)    \n",
       "(Intercept) -0.355186   0.138103  -2.572  0.01011 *  \n",
       "age         -0.340477   0.211454  -1.610  0.10736    \n",
       "sex         -0.064331   0.067620  -0.951  0.34143    \n",
       "income      -0.175331   0.104677  -1.675  0.09394 .  \n",
       "levyplus    -0.132438   0.093732  -1.413  0.15767    \n",
       "freepoor    -0.270693   0.224454  -1.206  0.22782    \n",
       "freepera    -0.235527   0.111751  -2.108  0.03507 *  \n",
       "illness      0.037010   0.024199   1.529  0.12616    \n",
       "actdays      0.075518   0.005742  13.153  < 2e-16 ***\n",
       "hscore       0.017475   0.010856   1.610  0.10747    \n",
       "chcond1     -0.172839   0.088475  -1.954  0.05076 .  \n",
       "chcond2     -0.268655   0.098788  -2.720  0.00654 ** \n",
       "nondocco     0.011266   0.015762   0.715  0.47476    \n",
       "hospadmi     0.205030   0.032824   6.246 4.20e-10 ***\n",
       "hospdays    -0.002220   0.002986  -0.743  0.45718    \n",
       "prescrib     0.077610   0.018956   4.094 4.24e-05 ***\n",
       "nonpresc    -0.100843   0.042157  -2.392  0.01675 *  \n",
       "\n",
       "Zero-inflation model coefficients (binomial with logit link):\n",
       "            Estimate Std. Error z value Pr(>|z|)    \n",
       "(Intercept)  2.69490    0.31403   8.582  < 2e-16 ***\n",
       "age         -0.48928    0.58571  -0.835 0.403519    \n",
       "sex         -0.19756    0.18424  -1.072 0.283595    \n",
       "income      -0.16341    0.26142  -0.625 0.531901    \n",
       "levyplus    -0.58952    0.20748  -2.841 0.004491 ** \n",
       "freepoor     0.52603    0.49038   1.073 0.283407    \n",
       "freepera    -1.29362    0.35296  -3.665 0.000247 ***\n",
       "illness     -0.32979    0.08498  -3.881 0.000104 ***\n",
       "actdays     -1.00526    0.23251  -4.323 1.54e-05 ***\n",
       "hscore      -0.07176    0.04302  -1.668 0.095314 .  \n",
       "chcond1     -0.03726    0.21181  -0.176 0.860384    \n",
       "chcond2     -0.25868    0.36000  -0.719 0.472415    \n",
       "nondocco    -0.26669    0.20334  -1.312 0.189676    \n",
       "hospadmi     0.00678    0.20965   0.032 0.974201    \n",
       "hospdays    -0.04927    0.03138  -1.570 0.116410    \n",
       "prescrib    -1.24990    0.18570  -6.731 1.69e-11 ***\n",
       "nonpresc     0.07496    0.12023   0.623 0.532990    \n",
       "---\n",
       "Signif. codes:  0 '***' 0.001 '**' 0.01 '*' 0.05 '.' 0.1 ' ' 1 \n",
       "\n",
       "Number of iterations in BFGS optimization: 84 \n",
       "Log-likelihood: -3049 on 34 Df"
      ]
     },
     "metadata": {},
     "output_type": "display_data"
    },
    {
     "data": {
      "text/plain": [
       "\n",
       "Call:\n",
       "zeroinfl(formula = doctorco ~ levyplus + freepera + illness + actdays + \n",
       "    hscore + chcond1 + chcond2 + hospadmi + prescrib + nonpresc | levyplus + \n",
       "    freepoor + freepera + illness + actdays + hscore + nondocco + hospdays + \n",
       "    prescrib + nonpresc, data = data, dist = \"poisson\")\n",
       "\n",
       "Pearson residuals:\n",
       "    Min      1Q  Median      3Q     Max \n",
       "-2.2869 -0.4338 -0.2528 -0.1766 11.1438 \n",
       "\n",
       "Count model coefficients (poisson with log link):\n",
       "            Estimate Std. Error z value Pr(>|z|)    \n",
       "(Intercept) -0.60203    0.09170  -6.565 5.20e-11 ***\n",
       "levyplus    -0.17430    0.08501  -2.050 0.040323 *  \n",
       "freepera    -0.28669    0.09112  -3.146 0.001653 ** \n",
       "illness      0.03803    0.02369   1.605 0.108393    \n",
       "actdays      0.07500    0.00567  13.227  < 2e-16 ***\n",
       "hscore       0.01878    0.01082   1.735 0.082673 .  \n",
       "chcond1     -0.19025    0.07000  -2.718 0.006571 ** \n",
       "chcond2     -0.25730    0.08529  -3.017 0.002555 ** \n",
       "hospadmi     0.20306    0.03026   6.711 1.93e-11 ***\n",
       "prescrib     0.06981    0.01802   3.873 0.000107 ***\n",
       "nonpresc    -0.10124    0.04178  -2.423 0.015376 *  \n",
       "\n",
       "Zero-inflation model coefficients (binomial with logit link):\n",
       "            Estimate Std. Error z value Pr(>|z|)    \n",
       "(Intercept)  2.37072    0.18083  13.110  < 2e-16 ***\n",
       "levyplus    -0.67438    0.19545  -3.450  0.00056 ***\n",
       "freepoor     0.77908    0.40068   1.944  0.05184 .  \n",
       "freepera    -1.46264    0.28417  -5.147 2.65e-07 ***\n",
       "illness     -0.34227    0.08182  -4.183 2.87e-05 ***\n",
       "actdays     -1.00841    0.23788  -4.239 2.24e-05 ***\n",
       "hscore      -0.06851    0.04279  -1.601  0.10934    \n",
       "nondocco    -0.30358    0.20797  -1.460  0.14436    \n",
       "hospdays    -0.04494    0.02650  -1.696  0.08996 .  \n",
       "prescrib    -1.28388    0.18129  -7.082 1.42e-12 ***\n",
       "nonpresc     0.06300    0.11818   0.533  0.59395    \n",
       "---\n",
       "Signif. codes:  0 '***' 0.001 '**' 0.01 '*' 0.05 '.' 0.1 ' ' 1 \n",
       "\n",
       "Number of iterations in BFGS optimization: 46 \n",
       "Log-likelihood: -3053 on 22 Df"
      ]
     },
     "metadata": {},
     "output_type": "display_data"
    },
    {
     "data": {
      "text/plain": [
       "\n",
       "Call:\n",
       "zeroinfl(formula = doctorco ~ income * levyplus + income * freepera + \n",
       "    illness * actdays + hscore + chcond1 + age * chcond2 + hospadmi + \n",
       "    prescrib + nonpresc | levyplus + freepoor + freepera + illness + \n",
       "    actdays + hscore + nondocco + hospdays + prescrib + nonpresc, data = data, \n",
       "    dist = \"poisson\")\n",
       "\n",
       "Pearson residuals:\n",
       "    Min      1Q  Median      3Q     Max \n",
       "-2.0943 -0.4317 -0.2536 -0.1741 12.4877 \n",
       "\n",
       "Count model coefficients (poisson with log link):\n",
       "                 Estimate Std. Error z value Pr(>|z|)    \n",
       "(Intercept)     -0.385590   0.153026  -2.520  0.01174 *  \n",
       "income          -0.522958   0.172390  -3.034  0.00242 ** \n",
       "levyplus        -0.490642   0.149744  -3.277  0.00105 ** \n",
       "freepera        -0.448903   0.174857  -2.567  0.01025 *  \n",
       "illness          0.061461   0.030480   2.016  0.04376 *  \n",
       "actdays          0.085201   0.010216   8.340  < 2e-16 ***\n",
       "hscore           0.019222   0.010847   1.772  0.07637 .  \n",
       "chcond1         -0.206790   0.073446  -2.816  0.00487 ** \n",
       "age             -0.018219   0.198271  -0.092  0.92679    \n",
       "chcond2          0.109725   0.176893   0.620  0.53507    \n",
       "hospadmi         0.202734   0.030503   6.646 3.01e-11 ***\n",
       "prescrib         0.077794   0.018645   4.172 3.01e-05 ***\n",
       "nonpresc        -0.104807   0.042045  -2.493  0.01268 *  \n",
       "income:levyplus  0.583598   0.201398   2.898  0.00376 ** \n",
       "income:freepera  0.214902   0.378514   0.568  0.57020    \n",
       "illness:actdays -0.003374   0.003275  -1.030  0.30289    \n",
       "age:chcond2     -0.766108   0.331674  -2.310  0.02090 *  \n",
       "\n",
       "Zero-inflation model coefficients (binomial with logit link):\n",
       "            Estimate Std. Error z value Pr(>|z|)    \n",
       "(Intercept)  2.24215    0.19360  11.581  < 2e-16 ***\n",
       "levyplus    -0.62736    0.19889  -3.154 0.001609 ** \n",
       "freepoor     0.98724    0.40637   2.429 0.015122 *  \n",
       "freepera    -1.41676    0.29219  -4.849 1.24e-06 ***\n",
       "illness     -0.30552    0.08595  -3.555 0.000379 ***\n",
       "actdays     -0.94628    0.22945  -4.124 3.72e-05 ***\n",
       "hscore      -0.06026    0.04297  -1.402 0.160780    \n",
       "nondocco    -0.29457    0.20121  -1.464 0.143191    \n",
       "hospdays    -0.04332    0.02700  -1.605 0.108592    \n",
       "prescrib    -1.33508    0.18913  -7.059 1.68e-12 ***\n",
       "nonpresc     0.06272    0.11914   0.526 0.598555    \n",
       "---\n",
       "Signif. codes:  0 '***' 0.001 '**' 0.01 '*' 0.05 '.' 0.1 ' ' 1 \n",
       "\n",
       "Number of iterations in BFGS optimization: 57 \n",
       "Log-likelihood: -3044 on 28 Df"
      ]
     },
     "metadata": {},
     "output_type": "display_data"
    },
    {
     "data": {
      "text/html": [
       "<table class=\"dataframe\">\n",
       "<caption>A data.frame: 3 x 2</caption>\n",
       "<thead>\n",
       "\t<tr><th></th><th scope=col>df</th><th scope=col>AIC</th></tr>\n",
       "\t<tr><th></th><th scope=col>&lt;dbl&gt;</th><th scope=col>&lt;dbl&gt;</th></tr>\n",
       "</thead>\n",
       "<tbody>\n",
       "\t<tr><th scope=row>model_zip_1_p</th><td>34</td><td>6165.884</td></tr>\n",
       "\t<tr><th scope=row>model_zip_2_p</th><td>22</td><td>6149.819</td></tr>\n",
       "\t<tr><th scope=row>model_zip_3_p</th><td>28</td><td>6143.782</td></tr>\n",
       "</tbody>\n",
       "</table>\n"
      ],
      "text/latex": [
       "A data.frame: 3 x 2\n",
       "\\begin{tabular}{r|ll}\n",
       "  & df & AIC\\\\\n",
       "  & <dbl> & <dbl>\\\\\n",
       "\\hline\n",
       "\tmodel\\_zip\\_1\\_p & 34 & 6165.884\\\\\n",
       "\tmodel\\_zip\\_2\\_p & 22 & 6149.819\\\\\n",
       "\tmodel\\_zip\\_3\\_p & 28 & 6143.782\\\\\n",
       "\\end{tabular}\n"
      ],
      "text/markdown": [
       "\n",
       "A data.frame: 3 x 2\n",
       "\n",
       "| <!--/--> | df &lt;dbl&gt; | AIC &lt;dbl&gt; |\n",
       "|---|---|---|\n",
       "| model_zip_1_p | 34 | 6165.884 |\n",
       "| model_zip_2_p | 22 | 6149.819 |\n",
       "| model_zip_3_p | 28 | 6143.782 |\n",
       "\n"
      ],
      "text/plain": [
       "              df AIC     \n",
       "model_zip_1_p 34 6165.884\n",
       "model_zip_2_p 22 6149.819\n",
       "model_zip_3_p 28 6143.782"
      ]
     },
     "metadata": {},
     "output_type": "display_data"
    }
   ],
   "source": [
    "library(pscl)\n",
    "library(pROC)\n",
    "library(Metrics)\n",
    "\n",
    "# Zero-Inflated Poisson model (ZIP) - Poisson part\n",
    "model_zip_1_p <- zeroinfl(doctorco ~ age + sex + income + levyplus + freepoor \n",
    "+ freepera + illness + actdays + hscore + chcond1 + chcond2 + nondocco + hospadmi \n",
    "+ hospdays + prescrib + nonpresc | age + sex + income + levyplus + freepoor + freepera + illness + actdays + hscore + chcond1 + chcond2 \n",
    "+ nondocco + hospadmi + hospdays + prescrib + nonpresc, data = data, dist = \"poisson\")\n",
    "\n",
    "\n",
    "# Model 2\n",
    "model_zip_2_p <- zeroinfl(doctorco ~ levyplus + freepera + illness + actdays + hscore + chcond1 + chcond2 \n",
    "+ hospadmi + prescrib + nonpresc | levyplus + freepoor + freepera + illness + actdays + hscore + nondocco \n",
    "+ hospdays + prescrib + nonpresc, data = data, dist = \"poisson\")\n",
    "\n",
    "\n",
    "# Model 3\n",
    "model_zip_3_p <- zeroinfl(doctorco ~ income*levyplus + income*freepera + illness*actdays + hscore + chcond1 + age*chcond2 \n",
    "+ hospadmi  + prescrib + nonpresc | levyplus + freepoor + freepera + illness + actdays + hscore + nondocco + hospdays + prescrib + nonpresc, data = data, dist = \"poisson\")\n",
    "\n",
    "# Summary of the ZIP model\n",
    "summary(model_zip_1_p) # Poisson part\n",
    "summary(model_zip_2_p) # Poisson part\n",
    "summary(model_zip_3_p) # Poisson part\n",
    "\n",
    "# AIC\n",
    "AIC(model_zip_1_p, model_zip_2_p, model_zip_3_p)\n",
    "\n"
   ]
  },
  {
   "cell_type": "code",
   "execution_count": 21,
   "id": "3b395759",
   "metadata": {
    "vscode": {
     "languageId": "r"
    }
   },
   "outputs": [
    {
     "data": {
      "text/plain": [
       "\n",
       "Call:\n",
       "zeroinfl(formula = doctorco ~ age + sex + income + levyplus + freepoor + \n",
       "    freepera + illness + actdays + hscore + chcond1 + chcond2 + nondocco + \n",
       "    hospadmi + hospdays + prescrib + nonpresc | age + sex + income + \n",
       "    levyplus + freepoor + freepera + illness + actdays + hscore + chcond1 + \n",
       "    chcond2 + nondocco + hospadmi + hospdays + prescrib + nonpresc, data = data, \n",
       "    dist = \"negbin\")\n",
       "\n",
       "Pearson residuals:\n",
       "    Min      1Q  Median      3Q     Max \n",
       "-1.2915 -0.4371 -0.2468 -0.1612 11.4122 \n",
       "\n",
       "Count model coefficients (negbin with log link):\n",
       "             Estimate Std. Error z value Pr(>|z|)    \n",
       "(Intercept) -0.605083   0.160785  -3.763 0.000168 ***\n",
       "age         -0.264729   0.242640  -1.091 0.275258    \n",
       "sex         -0.035448   0.077952  -0.455 0.649299    \n",
       "income      -0.123303   0.117985  -1.045 0.295988    \n",
       "levyplus    -0.151142   0.107870  -1.401 0.161167    \n",
       "freepoor    -0.283581   0.259296  -1.094 0.274104    \n",
       "freepera    -0.205565   0.129182  -1.591 0.111546    \n",
       "illness      0.053678   0.027831   1.929 0.053767 .  \n",
       "actdays      0.083470   0.007005  11.915  < 2e-16 ***\n",
       "hscore       0.020572   0.012955   1.588 0.112295    \n",
       "chcond1     -0.181218   0.098057  -1.848 0.064589 .  \n",
       "chcond2     -0.221653   0.113145  -1.959 0.050111 .  \n",
       "nondocco     0.009672   0.020008   0.483 0.628810    \n",
       "hospadmi     0.210287   0.046590   4.514 6.37e-06 ***\n",
       "hospdays    -0.001776   0.003757  -0.473 0.636434    \n",
       "prescrib     0.081128   0.022600   3.590 0.000331 ***\n",
       "nonpresc    -0.107130   0.047353  -2.262 0.023676 *  \n",
       "Log(theta)   0.850859   0.148840   5.717 1.09e-08 ***\n",
       "\n",
       "Zero-inflation model coefficients (binomial with logit link):\n",
       "            Estimate Std. Error z value Pr(>|z|)    \n",
       "(Intercept)  2.47929    0.35960   6.895 5.40e-12 ***\n",
       "age         -0.41298    0.68896  -0.599 0.548890    \n",
       "sex         -0.19027    0.21256  -0.895 0.370712    \n",
       "income      -0.08558    0.29513  -0.290 0.771826    \n",
       "levyplus    -0.67761    0.24229  -2.797 0.005164 ** \n",
       "freepoor     0.61932    0.54518   1.136 0.255959    \n",
       "freepera    -1.36412    0.41381  -3.297 0.000979 ***\n",
       "illness     -0.35803    0.10277  -3.484 0.000494 ***\n",
       "actdays     -1.21304    0.34678  -3.498 0.000469 ***\n",
       "hscore      -0.07435    0.04976  -1.494 0.135139    \n",
       "chcond1     -0.10555    0.24792  -0.426 0.670304    \n",
       "chcond2     -0.21490    0.42250  -0.509 0.611002    \n",
       "nondocco    -0.37027    0.26176  -1.415 0.157211    \n",
       "hospadmi     0.04803    0.24550   0.196 0.844881    \n",
       "hospdays    -0.05668    0.03377  -1.679 0.093245 .  \n",
       "prescrib    -1.57152    0.23324  -6.738 1.61e-11 ***\n",
       "nonpresc     0.08967    0.13774   0.651 0.515017    \n",
       "---\n",
       "Signif. codes:  0 '***' 0.001 '**' 0.01 '*' 0.05 '.' 0.1 ' ' 1 \n",
       "\n",
       "Theta = 2.3417 \n",
       "Number of iterations in BFGS optimization: 54 \n",
       "Log-likelihood: -3002 on 35 Df"
      ]
     },
     "metadata": {},
     "output_type": "display_data"
    },
    {
     "data": {
      "text/plain": [
       "\n",
       "Call:\n",
       "zeroinfl(formula = doctorco ~ levyplus + freepera + illness + actdays + \n",
       "    hscore + chcond1 + chcond2 + hospadmi + prescrib + nonpresc | levyplus + \n",
       "    freepoor + freepera + illness + actdays + hscore + nondocco + hospdays + \n",
       "    prescrib + nonpresc, data = data, dist = \"negbin\")\n",
       "\n",
       "Pearson residuals:\n",
       "    Min      1Q  Median      3Q     Max \n",
       "-1.2816 -0.4353 -0.2459 -0.1660 11.0928 \n",
       "\n",
       "Count model coefficients (negbin with log link):\n",
       "             Estimate Std. Error z value Pr(>|z|)    \n",
       "(Intercept) -0.791594   0.105944  -7.472 7.91e-14 ***\n",
       "levyplus    -0.181815   0.096824  -1.878 0.060411 .  \n",
       "freepera    -0.244431   0.104142  -2.347 0.018920 *  \n",
       "illness      0.053568   0.027241   1.966 0.049246 *  \n",
       "actdays      0.083401   0.006912  12.066  < 2e-16 ***\n",
       "hscore       0.021535   0.012874   1.673 0.094364 .  \n",
       "chcond1     -0.177061   0.077758  -2.277 0.022782 *  \n",
       "chcond2     -0.200917   0.098111  -2.048 0.040575 *  \n",
       "hospadmi     0.204256   0.041299   4.946 7.59e-07 ***\n",
       "prescrib     0.074213   0.021672   3.424 0.000616 ***\n",
       "nonpresc    -0.104970   0.046784  -2.244 0.024850 *  \n",
       "Log(theta)   0.835258   0.146864   5.687 1.29e-08 ***\n",
       "\n",
       "Zero-inflation model coefficients (binomial with logit link):\n",
       "            Estimate Std. Error z value Pr(>|z|)    \n",
       "(Intercept)  2.22417    0.20588  10.803  < 2e-16 ***\n",
       "levyplus    -0.76178    0.22504  -3.385 0.000712 ***\n",
       "freepoor     0.87969    0.43354   2.029 0.042450 *  \n",
       "freepera    -1.54631    0.33391  -4.631 3.64e-06 ***\n",
       "illness     -0.37682    0.09838  -3.830 0.000128 ***\n",
       "actdays     -1.20376    0.34824  -3.457 0.000547 ***\n",
       "hscore      -0.07008    0.04915  -1.426 0.153910    \n",
       "nondocco    -0.39181    0.25872  -1.514 0.129929    \n",
       "hospdays    -0.05164    0.02819  -1.832 0.066977 .  \n",
       "prescrib    -1.62005    0.22871  -7.083 1.41e-12 ***\n",
       "nonpresc     0.08832    0.13436   0.657 0.510952    \n",
       "---\n",
       "Signif. codes:  0 '***' 0.001 '**' 0.01 '*' 0.05 '.' 0.1 ' ' 1 \n",
       "\n",
       "Theta = 2.3054 \n",
       "Number of iterations in BFGS optimization: 43 \n",
       "Log-likelihood: -3004 on 23 Df"
      ]
     },
     "metadata": {},
     "output_type": "display_data"
    },
    {
     "data": {
      "text/plain": [
       "\n",
       "Call:\n",
       "zeroinfl(formula = doctorco ~ income * levyplus + income * freepera + \n",
       "    illness * actdays + hscore + chcond1 + age * chcond2 + hospadmi + \n",
       "    prescrib + nonpresc | levyplus + freepoor + freepera + illness + \n",
       "    actdays + hscore + nondocco + hospdays + prescrib + nonpresc, data = data, \n",
       "    dist = \"negbin\")\n",
       "\n",
       "Pearson residuals:\n",
       "    Min      1Q  Median      3Q     Max \n",
       "-1.2381 -0.4338 -0.2489 -0.1676 12.3979 \n",
       "\n",
       "Count model coefficients (negbin with log link):\n",
       "                 Estimate Std. Error z value Pr(>|z|)    \n",
       "(Intercept)     -0.672010   0.171005  -3.930 8.50e-05 ***\n",
       "income          -0.445375   0.190596  -2.337 0.019452 *  \n",
       "levyplus        -0.458484   0.169605  -2.703 0.006867 ** \n",
       "freepera        -0.379027   0.197391  -1.920 0.054835 .  \n",
       "illness          0.090624   0.032727   2.769 0.005621 ** \n",
       "actdays          0.103999   0.012521   8.306  < 2e-16 ***\n",
       "hscore           0.021567   0.012889   1.673 0.094270 .  \n",
       "chcond1         -0.197262   0.080763  -2.442 0.014587 *  \n",
       "age              0.032217   0.222476   0.145 0.884862    \n",
       "chcond2          0.166662   0.209568   0.795 0.426460    \n",
       "hospadmi         0.204892   0.041237   4.969 6.74e-07 ***\n",
       "prescrib         0.083385   0.022363   3.729 0.000192 ***\n",
       "nonpresc        -0.107296   0.047042  -2.281 0.022558 *  \n",
       "income:levyplus  0.514727   0.224629   2.291 0.021937 *  \n",
       "income:freepera  0.185107   0.419477   0.441 0.659010    \n",
       "illness:actdays -0.007704   0.004091  -1.883 0.059685 .  \n",
       "age:chcond2     -0.782281   0.393430  -1.988 0.046772 *  \n",
       "Log(theta)       0.850610   0.148942   5.711 1.12e-08 ***\n",
       "\n",
       "Zero-inflation model coefficients (binomial with logit link):\n",
       "            Estimate Std. Error z value Pr(>|z|)    \n",
       "(Intercept)  2.05055    0.22144   9.260  < 2e-16 ***\n",
       "levyplus    -0.70732    0.23169  -3.053 0.002266 ** \n",
       "freepoor     1.06778    0.43947   2.430 0.015110 *  \n",
       "freepera    -1.48139    0.34500  -4.294 1.76e-05 ***\n",
       "illness     -0.31977    0.10174  -3.143 0.001672 ** \n",
       "actdays     -1.15149    0.34980  -3.292 0.000995 ***\n",
       "hscore      -0.06419    0.04969  -1.292 0.196426    \n",
       "nondocco    -0.37465    0.25432  -1.473 0.140712    \n",
       "hospdays    -0.05077    0.02890  -1.757 0.078978 .  \n",
       "prescrib    -1.70007    0.24627  -6.903 5.08e-12 ***\n",
       "nonpresc     0.09110    0.13644   0.668 0.504315    \n",
       "---\n",
       "Signif. codes:  0 '***' 0.001 '**' 0.01 '*' 0.05 '.' 0.1 ' ' 1 \n",
       "\n",
       "Theta = 2.3411 \n",
       "Number of iterations in BFGS optimization: 56 \n",
       "Log-likelihood: -2997 on 29 Df"
      ]
     },
     "metadata": {},
     "output_type": "display_data"
    },
    {
     "data": {
      "text/html": [
       "<table class=\"dataframe\">\n",
       "<caption>A data.frame: 3 x 2</caption>\n",
       "<thead>\n",
       "\t<tr><th></th><th scope=col>df</th><th scope=col>AIC</th></tr>\n",
       "\t<tr><th></th><th scope=col>&lt;dbl&gt;</th><th scope=col>&lt;dbl&gt;</th></tr>\n",
       "</thead>\n",
       "<tbody>\n",
       "\t<tr><th scope=row>model_zip_1_nb</th><td>35</td><td>6073.471</td></tr>\n",
       "\t<tr><th scope=row>model_zip_2_nb</th><td>23</td><td>6054.052</td></tr>\n",
       "\t<tr><th scope=row>model_zip_3_nb</th><td>29</td><td>6051.707</td></tr>\n",
       "</tbody>\n",
       "</table>\n"
      ],
      "text/latex": [
       "A data.frame: 3 x 2\n",
       "\\begin{tabular}{r|ll}\n",
       "  & df & AIC\\\\\n",
       "  & <dbl> & <dbl>\\\\\n",
       "\\hline\n",
       "\tmodel\\_zip\\_1\\_nb & 35 & 6073.471\\\\\n",
       "\tmodel\\_zip\\_2\\_nb & 23 & 6054.052\\\\\n",
       "\tmodel\\_zip\\_3\\_nb & 29 & 6051.707\\\\\n",
       "\\end{tabular}\n"
      ],
      "text/markdown": [
       "\n",
       "A data.frame: 3 x 2\n",
       "\n",
       "| <!--/--> | df &lt;dbl&gt; | AIC &lt;dbl&gt; |\n",
       "|---|---|---|\n",
       "| model_zip_1_nb | 35 | 6073.471 |\n",
       "| model_zip_2_nb | 23 | 6054.052 |\n",
       "| model_zip_3_nb | 29 | 6051.707 |\n",
       "\n"
      ],
      "text/plain": [
       "               df AIC     \n",
       "model_zip_1_nb 35 6073.471\n",
       "model_zip_2_nb 23 6054.052\n",
       "model_zip_3_nb 29 6051.707"
      ]
     },
     "metadata": {},
     "output_type": "display_data"
    }
   ],
   "source": [
    "# Zero-Inflated Poisson model (ZIP) - Negative Binomial part\n",
    "model_zip_1_nb <- zeroinfl(doctorco ~ age + sex + income + levyplus + freepoor \n",
    "+ freepera + illness + actdays + hscore + chcond1 + chcond2 + nondocco + hospadmi \n",
    "+ hospdays + prescrib + nonpresc | age + sex + income + levyplus + freepoor + freepera + illness + actdays + hscore + chcond1 + chcond2 \n",
    "+ nondocco + hospadmi + hospdays + prescrib + nonpresc, data = data, dist = \"negbin\")\n",
    "\n",
    "\n",
    "# Model 2\n",
    "model_zip_2_nb <- zeroinfl(doctorco ~ levyplus + freepera + illness + actdays + hscore + chcond1 + chcond2 \n",
    "+ hospadmi + prescrib + nonpresc | levyplus + freepoor + freepera + illness + actdays + hscore + nondocco \n",
    "+ hospdays + prescrib + nonpresc, data = data, dist = \"negbin\")\n",
    "\n",
    "\n",
    "# Model 3\n",
    "model_zip_3_nb <- zeroinfl(doctorco ~ income*levyplus + income*freepera + illness*actdays + hscore + chcond1 + age*chcond2 \n",
    "+ hospadmi  + prescrib + nonpresc | levyplus + freepoor + freepera + illness + actdays + hscore + nondocco + hospdays + prescrib + nonpresc, data = data, dist = \"negbin\")\n",
    "\n",
    "# Summary of the ZIP model\n",
    "summary(model_zip_1_nb) # Poisson part\n",
    "summary(model_zip_2_nb) # Poisson part\n",
    "summary(model_zip_3_nb) # Poisson part\n",
    "\n",
    "# AIC\n",
    "AIC(model_zip_1_nb, model_zip_2_nb, model_zip_3_nb)"
   ]
  },
  {
   "cell_type": "markdown",
   "id": "461c407f",
   "metadata": {},
   "source": [
    "### Extra from Tanja's R code:"
   ]
  },
  {
   "cell_type": "code",
   "execution_count": 36,
   "id": "056d669b",
   "metadata": {
    "vscode": {
     "languageId": "r"
    }
   },
   "outputs": [
    {
     "data": {
      "text/html": [
       "<table class=\"dataframe\">\n",
       "<caption>A data.frame: 2 x 2</caption>\n",
       "<thead>\n",
       "\t<tr><th></th><th scope=col>df</th><th scope=col>AIC</th></tr>\n",
       "\t<tr><th></th><th scope=col>&lt;dbl&gt;</th><th scope=col>&lt;dbl&gt;</th></tr>\n",
       "</thead>\n",
       "<tbody>\n",
       "\t<tr><th scope=row>initial_model_poisson</th><td>34</td><td>6165.884</td></tr>\n",
       "\t<tr><th scope=row>updated_model_poisson</th><td>22</td><td>6149.819</td></tr>\n",
       "</tbody>\n",
       "</table>\n"
      ],
      "text/latex": [
       "A data.frame: 2 x 2\n",
       "\\begin{tabular}{r|ll}\n",
       "  & df & AIC\\\\\n",
       "  & <dbl> & <dbl>\\\\\n",
       "\\hline\n",
       "\tinitial\\_model\\_poisson & 34 & 6165.884\\\\\n",
       "\tupdated\\_model\\_poisson & 22 & 6149.819\\\\\n",
       "\\end{tabular}\n"
      ],
      "text/markdown": [
       "\n",
       "A data.frame: 2 x 2\n",
       "\n",
       "| <!--/--> | df &lt;dbl&gt; | AIC &lt;dbl&gt; |\n",
       "|---|---|---|\n",
       "| initial_model_poisson | 34 | 6165.884 |\n",
       "| updated_model_poisson | 22 | 6149.819 |\n",
       "\n"
      ],
      "text/plain": [
       "                      df AIC     \n",
       "initial_model_poisson 34 6165.884\n",
       "updated_model_poisson 22 6149.819"
      ]
     },
     "metadata": {},
     "output_type": "display_data"
    },
    {
     "data": {
      "text/html": [
       "<table class=\"dataframe\">\n",
       "<caption>A data.frame: 2 x 2</caption>\n",
       "<thead>\n",
       "\t<tr><th></th><th scope=col>df</th><th scope=col>AIC</th></tr>\n",
       "\t<tr><th></th><th scope=col>&lt;dbl&gt;</th><th scope=col>&lt;dbl&gt;</th></tr>\n",
       "</thead>\n",
       "<tbody>\n",
       "\t<tr><th scope=row>updated_model_NBZ</th><td>29</td><td>6051.707</td></tr>\n",
       "\t<tr><th scope=row>initial_model_NBZ</th><td>35</td><td>6073.471</td></tr>\n",
       "</tbody>\n",
       "</table>\n"
      ],
      "text/latex": [
       "A data.frame: 2 x 2\n",
       "\\begin{tabular}{r|ll}\n",
       "  & df & AIC\\\\\n",
       "  & <dbl> & <dbl>\\\\\n",
       "\\hline\n",
       "\tupdated\\_model\\_NBZ & 29 & 6051.707\\\\\n",
       "\tinitial\\_model\\_NBZ & 35 & 6073.471\\\\\n",
       "\\end{tabular}\n"
      ],
      "text/markdown": [
       "\n",
       "A data.frame: 2 x 2\n",
       "\n",
       "| <!--/--> | df &lt;dbl&gt; | AIC &lt;dbl&gt; |\n",
       "|---|---|---|\n",
       "| updated_model_NBZ | 29 | 6051.707 |\n",
       "| initial_model_NBZ | 35 | 6073.471 |\n",
       "\n"
      ],
      "text/plain": [
       "                  df AIC     \n",
       "updated_model_NBZ 29 6051.707\n",
       "initial_model_NBZ 35 6073.471"
      ]
     },
     "metadata": {},
     "output_type": "display_data"
    },
    {
     "data": {
      "text/plain": [
       "\n",
       "Call:\n",
       "zeroinfl(formula = doctorco ~ income * levyplus + income * freepera + \n",
       "    illness * actdays + hscore + chcond1 + age * chcond2 + hospadmi + \n",
       "    prescrib + nonpresc | levyplus + freepoor + freepera + illness + \n",
       "    actdays + hscore + nondocco + hospdays + prescrib + nonpresc, data = data, \n",
       "    dist = \"negbin\")\n",
       "\n",
       "Pearson residuals:\n",
       "    Min      1Q  Median      3Q     Max \n",
       "-1.2381 -0.4338 -0.2489 -0.1676 12.3979 \n",
       "\n",
       "Count model coefficients (negbin with log link):\n",
       "                 Estimate Std. Error z value Pr(>|z|)    \n",
       "(Intercept)     -0.672010   0.171005  -3.930 8.50e-05 ***\n",
       "income          -0.445375   0.190596  -2.337 0.019452 *  \n",
       "levyplus        -0.458484   0.169605  -2.703 0.006867 ** \n",
       "freepera        -0.379027   0.197391  -1.920 0.054835 .  \n",
       "illness          0.090624   0.032727   2.769 0.005621 ** \n",
       "actdays          0.103999   0.012521   8.306  < 2e-16 ***\n",
       "hscore           0.021567   0.012889   1.673 0.094270 .  \n",
       "chcond1         -0.197262   0.080763  -2.442 0.014587 *  \n",
       "age              0.032217   0.222476   0.145 0.884862    \n",
       "chcond2          0.166662   0.209568   0.795 0.426460    \n",
       "hospadmi         0.204892   0.041237   4.969 6.74e-07 ***\n",
       "prescrib         0.083385   0.022363   3.729 0.000192 ***\n",
       "nonpresc        -0.107296   0.047042  -2.281 0.022558 *  \n",
       "income:levyplus  0.514727   0.224629   2.291 0.021937 *  \n",
       "income:freepera  0.185107   0.419477   0.441 0.659010    \n",
       "illness:actdays -0.007704   0.004091  -1.883 0.059685 .  \n",
       "age:chcond2     -0.782281   0.393430  -1.988 0.046772 *  \n",
       "Log(theta)       0.850610   0.148942   5.711 1.12e-08 ***\n",
       "\n",
       "Zero-inflation model coefficients (binomial with logit link):\n",
       "            Estimate Std. Error z value Pr(>|z|)    \n",
       "(Intercept)  2.05055    0.22144   9.260  < 2e-16 ***\n",
       "levyplus    -0.70732    0.23169  -3.053 0.002266 ** \n",
       "freepoor     1.06778    0.43947   2.430 0.015110 *  \n",
       "freepera    -1.48139    0.34500  -4.294 1.76e-05 ***\n",
       "illness     -0.31977    0.10174  -3.143 0.001672 ** \n",
       "actdays     -1.15149    0.34980  -3.292 0.000995 ***\n",
       "hscore      -0.06419    0.04969  -1.292 0.196426    \n",
       "nondocco    -0.37465    0.25432  -1.473 0.140712    \n",
       "hospdays    -0.05077    0.02890  -1.757 0.078978 .  \n",
       "prescrib    -1.70007    0.24627  -6.903 5.08e-12 ***\n",
       "nonpresc     0.09110    0.13644   0.668 0.504315    \n",
       "---\n",
       "Signif. codes:  0 '***' 0.001 '**' 0.01 '*' 0.05 '.' 0.1 ' ' 1 \n",
       "\n",
       "Theta = 2.3411 \n",
       "Number of iterations in BFGS optimization: 56 \n",
       "Log-likelihood: -2997 on 29 Df"
      ]
     },
     "metadata": {},
     "output_type": "display_data"
    },
    {
     "data": {
      "image/png": "[encoded data removed]",
      "text/plain": [
       "Plot with title \"Histogram of predicted_counts\""
      ]
     },
     "metadata": {
      "image/png": {
       "height": 420,
       "width": 420
      }
     },
     "output_type": "display_data"
    },
    {
     "data": {
      "image/png": "[encoded data removed]",
      "text/plain": [
       "Plot with title \"Histogram of data$doctorco\""
      ]
     },
     "metadata": {
      "image/png": {
       "height": 420,
       "width": 420
      }
     },
     "output_type": "display_data"
    },
    {
     "data": {
      "text/html": [
       "<table class=\"dataframe\">\n",
       "<caption>A matrix: 4310 x 10 of type dbl</caption>\n",
       "<tbody>\n",
       "\t<tr><td> 1.5</td><td>4312.5</td><td>8623.5</td><td>12934.5</td><td>17245.5</td><td>21556.5</td><td>25867.5</td><td>30178.5</td><td>34489.5</td><td>38800.5</td></tr>\n",
       "\t<tr><td> 2.5</td><td>4313.5</td><td>8624.5</td><td>12935.5</td><td>17246.5</td><td>21557.5</td><td>25868.5</td><td>30179.5</td><td>34490.5</td><td>38801.5</td></tr>\n",
       "\t<tr><td> 3.5</td><td>4314.5</td><td>8625.5</td><td>12936.5</td><td>17247.5</td><td>21558.5</td><td>25869.5</td><td>30180.5</td><td>34491.5</td><td>38802.5</td></tr>\n",
       "\t<tr><td> 4.5</td><td>4315.5</td><td>8626.5</td><td>12937.5</td><td>17248.5</td><td>21559.5</td><td>25870.5</td><td>30181.5</td><td>34492.5</td><td>38803.5</td></tr>\n",
       "\t<tr><td> 5.5</td><td>4316.5</td><td>8627.5</td><td>12938.5</td><td>17249.5</td><td>21560.5</td><td>25871.5</td><td>30182.5</td><td>34493.5</td><td>38804.5</td></tr>\n",
       "\t<tr><td> 6.5</td><td>4317.5</td><td>8628.5</td><td>12939.5</td><td>17250.5</td><td>21561.5</td><td>25872.5</td><td>30183.5</td><td>34494.5</td><td>38805.5</td></tr>\n",
       "\t<tr><td> 7.5</td><td>4318.5</td><td>8629.5</td><td>12940.5</td><td>17251.5</td><td>21562.5</td><td>25873.5</td><td>30184.5</td><td>34495.5</td><td>38806.5</td></tr>\n",
       "\t<tr><td> 8.5</td><td>4319.5</td><td>8630.5</td><td>12941.5</td><td>17252.5</td><td>21563.5</td><td>25874.5</td><td>30185.5</td><td>34496.5</td><td>38807.5</td></tr>\n",
       "\t<tr><td> 9.5</td><td>4320.5</td><td>8631.5</td><td>12942.5</td><td>17253.5</td><td>21564.5</td><td>25875.5</td><td>30186.5</td><td>34497.5</td><td>38808.5</td></tr>\n",
       "\t<tr><td>10.5</td><td>4321.5</td><td>8632.5</td><td>12943.5</td><td>17254.5</td><td>21565.5</td><td>25876.5</td><td>30187.5</td><td>34498.5</td><td>38809.5</td></tr>\n",
       "\t<tr><td>11.5</td><td>4322.5</td><td>8633.5</td><td>12944.5</td><td>17255.5</td><td>21566.5</td><td>25877.5</td><td>30188.5</td><td>34499.5</td><td>38810.5</td></tr>\n",
       "\t<tr><td>12.5</td><td>4323.5</td><td>8634.5</td><td>12945.5</td><td>17256.5</td><td>21567.5</td><td>25878.5</td><td>30189.5</td><td>34500.5</td><td>38811.5</td></tr>\n",
       "\t<tr><td>13.5</td><td>4324.5</td><td>8635.5</td><td>12946.5</td><td>17257.5</td><td>21568.5</td><td>25879.5</td><td>30190.5</td><td>34501.5</td><td>38812.5</td></tr>\n",
       "\t<tr><td>14.5</td><td>4325.5</td><td>8636.5</td><td>12947.5</td><td>17258.5</td><td>21569.5</td><td>25880.5</td><td>30191.5</td><td>34502.5</td><td>38813.5</td></tr>\n",
       "\t<tr><td>15.5</td><td>4326.5</td><td>8637.5</td><td>12948.5</td><td>17259.5</td><td>21570.5</td><td>25881.5</td><td>30192.5</td><td>34503.5</td><td>38814.5</td></tr>\n",
       "\t<tr><td>16.5</td><td>4327.5</td><td>8638.5</td><td>12949.5</td><td>17260.5</td><td>21571.5</td><td>25882.5</td><td>30193.5</td><td>34504.5</td><td>38815.5</td></tr>\n",
       "\t<tr><td>17.5</td><td>4328.5</td><td>8639.5</td><td>12950.5</td><td>17261.5</td><td>21572.5</td><td>25883.5</td><td>30194.5</td><td>34505.5</td><td>38816.5</td></tr>\n",
       "\t<tr><td>18.5</td><td>4329.5</td><td>8640.5</td><td>12951.5</td><td>17262.5</td><td>21573.5</td><td>25884.5</td><td>30195.5</td><td>34506.5</td><td>38817.5</td></tr>\n",
       "\t<tr><td>19.5</td><td>4330.5</td><td>8641.5</td><td>12952.5</td><td>17263.5</td><td>21574.5</td><td>25885.5</td><td>30196.5</td><td>34507.5</td><td>38818.5</td></tr>\n",
       "\t<tr><td>20.5</td><td>4331.5</td><td>8642.5</td><td>12953.5</td><td>17264.5</td><td>21575.5</td><td>25886.5</td><td>30197.5</td><td>34508.5</td><td>38819.5</td></tr>\n",
       "\t<tr><td>21.5</td><td>4332.5</td><td>8643.5</td><td>12954.5</td><td>17265.5</td><td>21576.5</td><td>25887.5</td><td>30198.5</td><td>34509.5</td><td>38820.5</td></tr>\n",
       "\t<tr><td>22.5</td><td>4333.5</td><td>8644.5</td><td>12955.5</td><td>17266.5</td><td>21577.5</td><td>25888.5</td><td>30199.5</td><td>34510.5</td><td>38821.5</td></tr>\n",
       "\t<tr><td>23.5</td><td>4334.5</td><td>8645.5</td><td>12956.5</td><td>17267.5</td><td>21578.5</td><td>25889.5</td><td>30200.5</td><td>34511.5</td><td>38822.5</td></tr>\n",
       "\t<tr><td>24.5</td><td>4335.5</td><td>8646.5</td><td>12957.5</td><td>17268.5</td><td>21579.5</td><td>25890.5</td><td>30201.5</td><td>34512.5</td><td>38823.5</td></tr>\n",
       "\t<tr><td>25.5</td><td>4336.5</td><td>8647.5</td><td>12958.5</td><td>17269.5</td><td>21580.5</td><td>25891.5</td><td>30202.5</td><td>34513.5</td><td>38824.5</td></tr>\n",
       "\t<tr><td>26.5</td><td>4337.5</td><td>8648.5</td><td>12959.5</td><td>17270.5</td><td>21581.5</td><td>25892.5</td><td>30203.5</td><td>34514.5</td><td>38825.5</td></tr>\n",
       "\t<tr><td>27.5</td><td>4338.5</td><td>8649.5</td><td>12960.5</td><td>17271.5</td><td>21582.5</td><td>25893.5</td><td>30204.5</td><td>34515.5</td><td>38826.5</td></tr>\n",
       "\t<tr><td>28.5</td><td>4339.5</td><td>8650.5</td><td>12961.5</td><td>17272.5</td><td>21583.5</td><td>25894.5</td><td>30205.5</td><td>34516.5</td><td>38827.5</td></tr>\n",
       "\t<tr><td>29.5</td><td>4340.5</td><td>8651.5</td><td>12962.5</td><td>17273.5</td><td>21584.5</td><td>25895.5</td><td>30206.5</td><td>34517.5</td><td>38828.5</td></tr>\n",
       "\t<tr><td>30.5</td><td>4341.5</td><td>8652.5</td><td>12963.5</td><td>17274.5</td><td>21585.5</td><td>25896.5</td><td>30207.5</td><td>34518.5</td><td>38829.5</td></tr>\n",
       "\t<tr><td>...</td><td>...</td><td>...</td><td>...</td><td>...</td><td>...</td><td>...</td><td>...</td><td>...</td><td>...</td></tr>\n",
       "\t<tr><td>4281.5</td><td>8592.5</td><td>12903.5</td><td>17214.5</td><td>21525.5</td><td>25836.5</td><td>30147.5</td><td>34458.5</td><td>38769.5</td><td>43080.5</td></tr>\n",
       "\t<tr><td>4282.5</td><td>8593.5</td><td>12904.5</td><td>17215.5</td><td>21526.5</td><td>25837.5</td><td>30148.5</td><td>34459.5</td><td>38770.5</td><td>43081.5</td></tr>\n",
       "\t<tr><td>4283.5</td><td>8594.5</td><td>12905.5</td><td>17216.5</td><td>21527.5</td><td>25838.5</td><td>30149.5</td><td>34460.5</td><td>38771.5</td><td>43082.5</td></tr>\n",
       "\t<tr><td>4284.5</td><td>8595.5</td><td>12906.5</td><td>17217.5</td><td>21528.5</td><td>25839.5</td><td>30150.5</td><td>34461.5</td><td>38772.5</td><td>43083.5</td></tr>\n",
       "\t<tr><td>4285.5</td><td>8596.5</td><td>12907.5</td><td>17218.5</td><td>21529.5</td><td>25840.5</td><td>30151.5</td><td>34462.5</td><td>38773.5</td><td>43084.5</td></tr>\n",
       "\t<tr><td>4286.5</td><td>8597.5</td><td>12908.5</td><td>17219.5</td><td>21530.5</td><td>25841.5</td><td>30152.5</td><td>34463.5</td><td>38774.5</td><td>43085.5</td></tr>\n",
       "\t<tr><td>4287.5</td><td>8598.5</td><td>12909.5</td><td>17220.5</td><td>21531.5</td><td>25842.5</td><td>30153.5</td><td>34464.5</td><td>38775.5</td><td>43086.5</td></tr>\n",
       "\t<tr><td>4288.5</td><td>8599.5</td><td>12910.5</td><td>17221.5</td><td>21532.5</td><td>25843.5</td><td>30154.5</td><td>34465.5</td><td>38776.5</td><td>43087.5</td></tr>\n",
       "\t<tr><td>4289.5</td><td>8600.5</td><td>12911.5</td><td>17222.5</td><td>21533.5</td><td>25844.5</td><td>30155.5</td><td>34466.5</td><td>38777.5</td><td>43088.5</td></tr>\n",
       "\t<tr><td>4290.5</td><td>8601.5</td><td>12912.5</td><td>17223.5</td><td>21534.5</td><td>25845.5</td><td>30156.5</td><td>34467.5</td><td>38778.5</td><td>43089.5</td></tr>\n",
       "\t<tr><td>4291.5</td><td>8602.5</td><td>12913.5</td><td>17224.5</td><td>21535.5</td><td>25846.5</td><td>30157.5</td><td>34468.5</td><td>38779.5</td><td>43090.5</td></tr>\n",
       "\t<tr><td>4292.5</td><td>8603.5</td><td>12914.5</td><td>17225.5</td><td>21536.5</td><td>25847.5</td><td>30158.5</td><td>34469.5</td><td>38780.5</td><td>43091.5</td></tr>\n",
       "\t<tr><td>4293.5</td><td>8604.5</td><td>12915.5</td><td>17226.5</td><td>21537.5</td><td>25848.5</td><td>30159.5</td><td>34470.5</td><td>38781.5</td><td>43092.5</td></tr>\n",
       "\t<tr><td>4294.5</td><td>8605.5</td><td>12916.5</td><td>17227.5</td><td>21538.5</td><td>25849.5</td><td>30160.5</td><td>34471.5</td><td>38782.5</td><td>43093.5</td></tr>\n",
       "\t<tr><td>4295.5</td><td>8606.5</td><td>12917.5</td><td>17228.5</td><td>21539.5</td><td>25850.5</td><td>30161.5</td><td>34472.5</td><td>38783.5</td><td>43094.5</td></tr>\n",
       "\t<tr><td>4296.5</td><td>8607.5</td><td>12918.5</td><td>17229.5</td><td>21540.5</td><td>25851.5</td><td>30162.5</td><td>34473.5</td><td>38784.5</td><td>43095.5</td></tr>\n",
       "\t<tr><td>4297.5</td><td>8608.5</td><td>12919.5</td><td>17230.5</td><td>21541.5</td><td>25852.5</td><td>30163.5</td><td>34474.5</td><td>38785.5</td><td>43096.5</td></tr>\n",
       "\t<tr><td>4298.5</td><td>8609.5</td><td>12920.5</td><td>17231.5</td><td>21542.5</td><td>25853.5</td><td>30164.5</td><td>34475.5</td><td>38786.5</td><td>43097.5</td></tr>\n",
       "\t<tr><td>4299.5</td><td>8610.5</td><td>12921.5</td><td>17232.5</td><td>21543.5</td><td>25854.5</td><td>30165.5</td><td>34476.5</td><td>38787.5</td><td>43098.5</td></tr>\n",
       "\t<tr><td>4300.5</td><td>8611.5</td><td>12922.5</td><td>17233.5</td><td>21544.5</td><td>25855.5</td><td>30166.5</td><td>34477.5</td><td>38788.5</td><td>43099.5</td></tr>\n",
       "\t<tr><td>4301.5</td><td>8612.5</td><td>12923.5</td><td>17234.5</td><td>21545.5</td><td>25856.5</td><td>30167.5</td><td>34478.5</td><td>38789.5</td><td>43100.5</td></tr>\n",
       "\t<tr><td>4302.5</td><td>8613.5</td><td>12924.5</td><td>17235.5</td><td>21546.5</td><td>25857.5</td><td>30168.5</td><td>34479.5</td><td>38790.5</td><td>43101.5</td></tr>\n",
       "\t<tr><td>4303.5</td><td>8614.5</td><td>12925.5</td><td>17236.5</td><td>21547.5</td><td>25858.5</td><td>30169.5</td><td>34480.5</td><td>38791.5</td><td>43102.5</td></tr>\n",
       "\t<tr><td>4304.5</td><td>8615.5</td><td>12926.5</td><td>17237.5</td><td>21548.5</td><td>25859.5</td><td>30170.5</td><td>34481.5</td><td>38792.5</td><td>43103.5</td></tr>\n",
       "\t<tr><td>4305.5</td><td>8616.5</td><td>12927.5</td><td>17238.5</td><td>21549.5</td><td>25860.5</td><td>30171.5</td><td>34482.5</td><td>38793.5</td><td>43104.5</td></tr>\n",
       "\t<tr><td>4306.5</td><td>8617.5</td><td>12928.5</td><td>17239.5</td><td>21550.5</td><td>25861.5</td><td>30172.5</td><td>34483.5</td><td>38794.5</td><td>43105.5</td></tr>\n",
       "\t<tr><td>4307.5</td><td>8618.5</td><td>12929.5</td><td>17240.5</td><td>21551.5</td><td>25862.5</td><td>30173.5</td><td>34484.5</td><td>38795.5</td><td>43106.5</td></tr>\n",
       "\t<tr><td>4308.5</td><td>8619.5</td><td>12930.5</td><td>17241.5</td><td>21552.5</td><td>25863.5</td><td>30174.5</td><td>34485.5</td><td>38796.5</td><td>43107.5</td></tr>\n",
       "\t<tr><td>4309.5</td><td>8620.5</td><td>12931.5</td><td>17242.5</td><td>21553.5</td><td>25864.5</td><td>30175.5</td><td>34486.5</td><td>38797.5</td><td>43108.5</td></tr>\n",
       "\t<tr><td>4310.5</td><td>8621.5</td><td>12932.5</td><td>17243.5</td><td>21554.5</td><td>25865.5</td><td>30176.5</td><td>34487.5</td><td>38798.5</td><td>43109.5</td></tr>\n",
       "</tbody>\n",
       "</table>\n"
      ],
      "text/latex": [
       "A matrix: 4310 x 10 of type dbl\n",
       "\\begin{tabular}{llllllllll}\n",
       "\t  1.5 & 4312.5 & 8623.5 & 12934.5 & 17245.5 & 21556.5 & 25867.5 & 30178.5 & 34489.5 & 38800.5\\\\\n",
       "\t  2.5 & 4313.5 & 8624.5 & 12935.5 & 17246.5 & 21557.5 & 25868.5 & 30179.5 & 34490.5 & 38801.5\\\\\n",
       "\t  3.5 & 4314.5 & 8625.5 & 12936.5 & 17247.5 & 21558.5 & 25869.5 & 30180.5 & 34491.5 & 38802.5\\\\\n",
       "\t  4.5 & 4315.5 & 8626.5 & 12937.5 & 17248.5 & 21559.5 & 25870.5 & 30181.5 & 34492.5 & 38803.5\\\\\n",
       "\t  5.5 & 4316.5 & 8627.5 & 12938.5 & 17249.5 & 21560.5 & 25871.5 & 30182.5 & 34493.5 & 38804.5\\\\\n",
       "\t  6.5 & 4317.5 & 8628.5 & 12939.5 & 17250.5 & 21561.5 & 25872.5 & 30183.5 & 34494.5 & 38805.5\\\\\n",
       "\t  7.5 & 4318.5 & 8629.5 & 12940.5 & 17251.5 & 21562.5 & 25873.5 & 30184.5 & 34495.5 & 38806.5\\\\\n",
       "\t  8.5 & 4319.5 & 8630.5 & 12941.5 & 17252.5 & 21563.5 & 25874.5 & 30185.5 & 34496.5 & 38807.5\\\\\n",
       "\t  9.5 & 4320.5 & 8631.5 & 12942.5 & 17253.5 & 21564.5 & 25875.5 & 30186.5 & 34497.5 & 38808.5\\\\\n",
       "\t 10.5 & 4321.5 & 8632.5 & 12943.5 & 17254.5 & 21565.5 & 25876.5 & 30187.5 & 34498.5 & 38809.5\\\\\n",
       "\t 11.5 & 4322.5 & 8633.5 & 12944.5 & 17255.5 & 21566.5 & 25877.5 & 30188.5 & 34499.5 & 38810.5\\\\\n",
       "\t 12.5 & 4323.5 & 8634.5 & 12945.5 & 17256.5 & 21567.5 & 25878.5 & 30189.5 & 34500.5 & 38811.5\\\\\n",
       "\t 13.5 & 4324.5 & 8635.5 & 12946.5 & 17257.5 & 21568.5 & 25879.5 & 30190.5 & 34501.5 & 38812.5\\\\\n",
       "\t 14.5 & 4325.5 & 8636.5 & 12947.5 & 17258.5 & 21569.5 & 25880.5 & 30191.5 & 34502.5 & 38813.5\\\\\n",
       "\t 15.5 & 4326.5 & 8637.5 & 12948.5 & 17259.5 & 21570.5 & 25881.5 & 30192.5 & 34503.5 & 38814.5\\\\\n",
       "\t 16.5 & 4327.5 & 8638.5 & 12949.5 & 17260.5 & 21571.5 & 25882.5 & 30193.5 & 34504.5 & 38815.5\\\\\n",
       "\t 17.5 & 4328.5 & 8639.5 & 12950.5 & 17261.5 & 21572.5 & 25883.5 & 30194.5 & 34505.5 & 38816.5\\\\\n",
       "\t 18.5 & 4329.5 & 8640.5 & 12951.5 & 17262.5 & 21573.5 & 25884.5 & 30195.5 & 34506.5 & 38817.5\\\\\n",
       "\t 19.5 & 4330.5 & 8641.5 & 12952.5 & 17263.5 & 21574.5 & 25885.5 & 30196.5 & 34507.5 & 38818.5\\\\\n",
       "\t 20.5 & 4331.5 & 8642.5 & 12953.5 & 17264.5 & 21575.5 & 25886.5 & 30197.5 & 34508.5 & 38819.5\\\\\n",
       "\t 21.5 & 4332.5 & 8643.5 & 12954.5 & 17265.5 & 21576.5 & 25887.5 & 30198.5 & 34509.5 & 38820.5\\\\\n",
       "\t 22.5 & 4333.5 & 8644.5 & 12955.5 & 17266.5 & 21577.5 & 25888.5 & 30199.5 & 34510.5 & 38821.5\\\\\n",
       "\t 23.5 & 4334.5 & 8645.5 & 12956.5 & 17267.5 & 21578.5 & 25889.5 & 30200.5 & 34511.5 & 38822.5\\\\\n",
       "\t 24.5 & 4335.5 & 8646.5 & 12957.5 & 17268.5 & 21579.5 & 25890.5 & 30201.5 & 34512.5 & 38823.5\\\\\n",
       "\t 25.5 & 4336.5 & 8647.5 & 12958.5 & 17269.5 & 21580.5 & 25891.5 & 30202.5 & 34513.5 & 38824.5\\\\\n",
       "\t 26.5 & 4337.5 & 8648.5 & 12959.5 & 17270.5 & 21581.5 & 25892.5 & 30203.5 & 34514.5 & 38825.5\\\\\n",
       "\t 27.5 & 4338.5 & 8649.5 & 12960.5 & 17271.5 & 21582.5 & 25893.5 & 30204.5 & 34515.5 & 38826.5\\\\\n",
       "\t 28.5 & 4339.5 & 8650.5 & 12961.5 & 17272.5 & 21583.5 & 25894.5 & 30205.5 & 34516.5 & 38827.5\\\\\n",
       "\t 29.5 & 4340.5 & 8651.5 & 12962.5 & 17273.5 & 21584.5 & 25895.5 & 30206.5 & 34517.5 & 38828.5\\\\\n",
       "\t 30.5 & 4341.5 & 8652.5 & 12963.5 & 17274.5 & 21585.5 & 25896.5 & 30207.5 & 34518.5 & 38829.5\\\\\n",
       "\t ... & ... & ... & ... & ... & ... & ... & ... & ... & ...\\\\\n",
       "\t 4281.5 & 8592.5 & 12903.5 & 17214.5 & 21525.5 & 25836.5 & 30147.5 & 34458.5 & 38769.5 & 43080.5\\\\\n",
       "\t 4282.5 & 8593.5 & 12904.5 & 17215.5 & 21526.5 & 25837.5 & 30148.5 & 34459.5 & 38770.5 & 43081.5\\\\\n",
       "\t 4283.5 & 8594.5 & 12905.5 & 17216.5 & 21527.5 & 25838.5 & 30149.5 & 34460.5 & 38771.5 & 43082.5\\\\\n",
       "\t 4284.5 & 8595.5 & 12906.5 & 17217.5 & 21528.5 & 25839.5 & 30150.5 & 34461.5 & 38772.5 & 43083.5\\\\\n",
       "\t 4285.5 & 8596.5 & 12907.5 & 17218.5 & 21529.5 & 25840.5 & 30151.5 & 34462.5 & 38773.5 & 43084.5\\\\\n",
       "\t 4286.5 & 8597.5 & 12908.5 & 17219.5 & 21530.5 & 25841.5 & 30152.5 & 34463.5 & 38774.5 & 43085.5\\\\\n",
       "\t 4287.5 & 8598.5 & 12909.5 & 17220.5 & 21531.5 & 25842.5 & 30153.5 & 34464.5 & 38775.5 & 43086.5\\\\\n",
       "\t 4288.5 & 8599.5 & 12910.5 & 17221.5 & 21532.5 & 25843.5 & 30154.5 & 34465.5 & 38776.5 & 43087.5\\\\\n",
       "\t 4289.5 & 8600.5 & 12911.5 & 17222.5 & 21533.5 & 25844.5 & 30155.5 & 34466.5 & 38777.5 & 43088.5\\\\\n",
       "\t 4290.5 & 8601.5 & 12912.5 & 17223.5 & 21534.5 & 25845.5 & 30156.5 & 34467.5 & 38778.5 & 43089.5\\\\\n",
       "\t 4291.5 & 8602.5 & 12913.5 & 17224.5 & 21535.5 & 25846.5 & 30157.5 & 34468.5 & 38779.5 & 43090.5\\\\\n",
       "\t 4292.5 & 8603.5 & 12914.5 & 17225.5 & 21536.5 & 25847.5 & 30158.5 & 34469.5 & 38780.5 & 43091.5\\\\\n",
       "\t 4293.5 & 8604.5 & 12915.5 & 17226.5 & 21537.5 & 25848.5 & 30159.5 & 34470.5 & 38781.5 & 43092.5\\\\\n",
       "\t 4294.5 & 8605.5 & 12916.5 & 17227.5 & 21538.5 & 25849.5 & 30160.5 & 34471.5 & 38782.5 & 43093.5\\\\\n",
       "\t 4295.5 & 8606.5 & 12917.5 & 17228.5 & 21539.5 & 25850.5 & 30161.5 & 34472.5 & 38783.5 & 43094.5\\\\\n",
       "\t 4296.5 & 8607.5 & 12918.5 & 17229.5 & 21540.5 & 25851.5 & 30162.5 & 34473.5 & 38784.5 & 43095.5\\\\\n",
       "\t 4297.5 & 8608.5 & 12919.5 & 17230.5 & 21541.5 & 25852.5 & 30163.5 & 34474.5 & 38785.5 & 43096.5\\\\\n",
       "\t 4298.5 & 8609.5 & 12920.5 & 17231.5 & 21542.5 & 25853.5 & 30164.5 & 34475.5 & 38786.5 & 43097.5\\\\\n",
       "\t 4299.5 & 8610.5 & 12921.5 & 17232.5 & 21543.5 & 25854.5 & 30165.5 & 34476.5 & 38787.5 & 43098.5\\\\\n",
       "\t 4300.5 & 8611.5 & 12922.5 & 17233.5 & 21544.5 & 25855.5 & 30166.5 & 34477.5 & 38788.5 & 43099.5\\\\\n",
       "\t 4301.5 & 8612.5 & 12923.5 & 17234.5 & 21545.5 & 25856.5 & 30167.5 & 34478.5 & 38789.5 & 43100.5\\\\\n",
       "\t 4302.5 & 8613.5 & 12924.5 & 17235.5 & 21546.5 & 25857.5 & 30168.5 & 34479.5 & 38790.5 & 43101.5\\\\\n",
       "\t 4303.5 & 8614.5 & 12925.5 & 17236.5 & 21547.5 & 25858.5 & 30169.5 & 34480.5 & 38791.5 & 43102.5\\\\\n",
       "\t 4304.5 & 8615.5 & 12926.5 & 17237.5 & 21548.5 & 25859.5 & 30170.5 & 34481.5 & 38792.5 & 43103.5\\\\\n",
       "\t 4305.5 & 8616.5 & 12927.5 & 17238.5 & 21549.5 & 25860.5 & 30171.5 & 34482.5 & 38793.5 & 43104.5\\\\\n",
       "\t 4306.5 & 8617.5 & 12928.5 & 17239.5 & 21550.5 & 25861.5 & 30172.5 & 34483.5 & 38794.5 & 43105.5\\\\\n",
       "\t 4307.5 & 8618.5 & 12929.5 & 17240.5 & 21551.5 & 25862.5 & 30173.5 & 34484.5 & 38795.5 & 43106.5\\\\\n",
       "\t 4308.5 & 8619.5 & 12930.5 & 17241.5 & 21552.5 & 25863.5 & 30174.5 & 34485.5 & 38796.5 & 43107.5\\\\\n",
       "\t 4309.5 & 8620.5 & 12931.5 & 17242.5 & 21553.5 & 25864.5 & 30175.5 & 34486.5 & 38797.5 & 43108.5\\\\\n",
       "\t 4310.5 & 8621.5 & 12932.5 & 17243.5 & 21554.5 & 25865.5 & 30176.5 & 34487.5 & 38798.5 & 43109.5\\\\\n",
       "\\end{tabular}\n"
      ],
      "text/markdown": [
       "\n",
       "A matrix: 4310 x 10 of type dbl\n",
       "\n",
       "|  1.5 | 4312.5 | 8623.5 | 12934.5 | 17245.5 | 21556.5 | 25867.5 | 30178.5 | 34489.5 | 38800.5 |\n",
       "|  2.5 | 4313.5 | 8624.5 | 12935.5 | 17246.5 | 21557.5 | 25868.5 | 30179.5 | 34490.5 | 38801.5 |\n",
       "|  3.5 | 4314.5 | 8625.5 | 12936.5 | 17247.5 | 21558.5 | 25869.5 | 30180.5 | 34491.5 | 38802.5 |\n",
       "|  4.5 | 4315.5 | 8626.5 | 12937.5 | 17248.5 | 21559.5 | 25870.5 | 30181.5 | 34492.5 | 38803.5 |\n",
       "|  5.5 | 4316.5 | 8627.5 | 12938.5 | 17249.5 | 21560.5 | 25871.5 | 30182.5 | 34493.5 | 38804.5 |\n",
       "|  6.5 | 4317.5 | 8628.5 | 12939.5 | 17250.5 | 21561.5 | 25872.5 | 30183.5 | 34494.5 | 38805.5 |\n",
       "|  7.5 | 4318.5 | 8629.5 | 12940.5 | 17251.5 | 21562.5 | 25873.5 | 30184.5 | 34495.5 | 38806.5 |\n",
       "|  8.5 | 4319.5 | 8630.5 | 12941.5 | 17252.5 | 21563.5 | 25874.5 | 30185.5 | 34496.5 | 38807.5 |\n",
       "|  9.5 | 4320.5 | 8631.5 | 12942.5 | 17253.5 | 21564.5 | 25875.5 | 30186.5 | 34497.5 | 38808.5 |\n",
       "| 10.5 | 4321.5 | 8632.5 | 12943.5 | 17254.5 | 21565.5 | 25876.5 | 30187.5 | 34498.5 | 38809.5 |\n",
       "| 11.5 | 4322.5 | 8633.5 | 12944.5 | 17255.5 | 21566.5 | 25877.5 | 30188.5 | 34499.5 | 38810.5 |\n",
       "| 12.5 | 4323.5 | 8634.5 | 12945.5 | 17256.5 | 21567.5 | 25878.5 | 30189.5 | 34500.5 | 38811.5 |\n",
       "| 13.5 | 4324.5 | 8635.5 | 12946.5 | 17257.5 | 21568.5 | 25879.5 | 30190.5 | 34501.5 | 38812.5 |\n",
       "| 14.5 | 4325.5 | 8636.5 | 12947.5 | 17258.5 | 21569.5 | 25880.5 | 30191.5 | 34502.5 | 38813.5 |\n",
       "| 15.5 | 4326.5 | 8637.5 | 12948.5 | 17259.5 | 21570.5 | 25881.5 | 30192.5 | 34503.5 | 38814.5 |\n",
       "| 16.5 | 4327.5 | 8638.5 | 12949.5 | 17260.5 | 21571.5 | 25882.5 | 30193.5 | 34504.5 | 38815.5 |\n",
       "| 17.5 | 4328.5 | 8639.5 | 12950.5 | 17261.5 | 21572.5 | 25883.5 | 30194.5 | 34505.5 | 38816.5 |\n",
       "| 18.5 | 4329.5 | 8640.5 | 12951.5 | 17262.5 | 21573.5 | 25884.5 | 30195.5 | 34506.5 | 38817.5 |\n",
       "| 19.5 | 4330.5 | 8641.5 | 12952.5 | 17263.5 | 21574.5 | 25885.5 | 30196.5 | 34507.5 | 38818.5 |\n",
       "| 20.5 | 4331.5 | 8642.5 | 12953.5 | 17264.5 | 21575.5 | 25886.5 | 30197.5 | 34508.5 | 38819.5 |\n",
       "| 21.5 | 4332.5 | 8643.5 | 12954.5 | 17265.5 | 21576.5 | 25887.5 | 30198.5 | 34509.5 | 38820.5 |\n",
       "| 22.5 | 4333.5 | 8644.5 | 12955.5 | 17266.5 | 21577.5 | 25888.5 | 30199.5 | 34510.5 | 38821.5 |\n",
       "| 23.5 | 4334.5 | 8645.5 | 12956.5 | 17267.5 | 21578.5 | 25889.5 | 30200.5 | 34511.5 | 38822.5 |\n",
       "| 24.5 | 4335.5 | 8646.5 | 12957.5 | 17268.5 | 21579.5 | 25890.5 | 30201.5 | 34512.5 | 38823.5 |\n",
       "| 25.5 | 4336.5 | 8647.5 | 12958.5 | 17269.5 | 21580.5 | 25891.5 | 30202.5 | 34513.5 | 38824.5 |\n",
       "| 26.5 | 4337.5 | 8648.5 | 12959.5 | 17270.5 | 21581.5 | 25892.5 | 30203.5 | 34514.5 | 38825.5 |\n",
       "| 27.5 | 4338.5 | 8649.5 | 12960.5 | 17271.5 | 21582.5 | 25893.5 | 30204.5 | 34515.5 | 38826.5 |\n",
       "| 28.5 | 4339.5 | 8650.5 | 12961.5 | 17272.5 | 21583.5 | 25894.5 | 30205.5 | 34516.5 | 38827.5 |\n",
       "| 29.5 | 4340.5 | 8651.5 | 12962.5 | 17273.5 | 21584.5 | 25895.5 | 30206.5 | 34517.5 | 38828.5 |\n",
       "| 30.5 | 4341.5 | 8652.5 | 12963.5 | 17274.5 | 21585.5 | 25896.5 | 30207.5 | 34518.5 | 38829.5 |\n",
       "| ... | ... | ... | ... | ... | ... | ... | ... | ... | ... |\n",
       "| 4281.5 | 8592.5 | 12903.5 | 17214.5 | 21525.5 | 25836.5 | 30147.5 | 34458.5 | 38769.5 | 43080.5 |\n",
       "| 4282.5 | 8593.5 | 12904.5 | 17215.5 | 21526.5 | 25837.5 | 30148.5 | 34459.5 | 38770.5 | 43081.5 |\n",
       "| 4283.5 | 8594.5 | 12905.5 | 17216.5 | 21527.5 | 25838.5 | 30149.5 | 34460.5 | 38771.5 | 43082.5 |\n",
       "| 4284.5 | 8595.5 | 12906.5 | 17217.5 | 21528.5 | 25839.5 | 30150.5 | 34461.5 | 38772.5 | 43083.5 |\n",
       "| 4285.5 | 8596.5 | 12907.5 | 17218.5 | 21529.5 | 25840.5 | 30151.5 | 34462.5 | 38773.5 | 43084.5 |\n",
       "| 4286.5 | 8597.5 | 12908.5 | 17219.5 | 21530.5 | 25841.5 | 30152.5 | 34463.5 | 38774.5 | 43085.5 |\n",
       "| 4287.5 | 8598.5 | 12909.5 | 17220.5 | 21531.5 | 25842.5 | 30153.5 | 34464.5 | 38775.5 | 43086.5 |\n",
       "| 4288.5 | 8599.5 | 12910.5 | 17221.5 | 21532.5 | 25843.5 | 30154.5 | 34465.5 | 38776.5 | 43087.5 |\n",
       "| 4289.5 | 8600.5 | 12911.5 | 17222.5 | 21533.5 | 25844.5 | 30155.5 | 34466.5 | 38777.5 | 43088.5 |\n",
       "| 4290.5 | 8601.5 | 12912.5 | 17223.5 | 21534.5 | 25845.5 | 30156.5 | 34467.5 | 38778.5 | 43089.5 |\n",
       "| 4291.5 | 8602.5 | 12913.5 | 17224.5 | 21535.5 | 25846.5 | 30157.5 | 34468.5 | 38779.5 | 43090.5 |\n",
       "| 4292.5 | 8603.5 | 12914.5 | 17225.5 | 21536.5 | 25847.5 | 30158.5 | 34469.5 | 38780.5 | 43091.5 |\n",
       "| 4293.5 | 8604.5 | 12915.5 | 17226.5 | 21537.5 | 25848.5 | 30159.5 | 34470.5 | 38781.5 | 43092.5 |\n",
       "| 4294.5 | 8605.5 | 12916.5 | 17227.5 | 21538.5 | 25849.5 | 30160.5 | 34471.5 | 38782.5 | 43093.5 |\n",
       "| 4295.5 | 8606.5 | 12917.5 | 17228.5 | 21539.5 | 25850.5 | 30161.5 | 34472.5 | 38783.5 | 43094.5 |\n",
       "| 4296.5 | 8607.5 | 12918.5 | 17229.5 | 21540.5 | 25851.5 | 30162.5 | 34473.5 | 38784.5 | 43095.5 |\n",
       "| 4297.5 | 8608.5 | 12919.5 | 17230.5 | 21541.5 | 25852.5 | 30163.5 | 34474.5 | 38785.5 | 43096.5 |\n",
       "| 4298.5 | 8609.5 | 12920.5 | 17231.5 | 21542.5 | 25853.5 | 30164.5 | 34475.5 | 38786.5 | 43097.5 |\n",
       "| 4299.5 | 8610.5 | 12921.5 | 17232.5 | 21543.5 | 25854.5 | 30165.5 | 34476.5 | 38787.5 | 43098.5 |\n",
       "| 4300.5 | 8611.5 | 12922.5 | 17233.5 | 21544.5 | 25855.5 | 30166.5 | 34477.5 | 38788.5 | 43099.5 |\n",
       "| 4301.5 | 8612.5 | 12923.5 | 17234.5 | 21545.5 | 25856.5 | 30167.5 | 34478.5 | 38789.5 | 43100.5 |\n",
       "| 4302.5 | 8613.5 | 12924.5 | 17235.5 | 21546.5 | 25857.5 | 30168.5 | 34479.5 | 38790.5 | 43101.5 |\n",
       "| 4303.5 | 8614.5 | 12925.5 | 17236.5 | 21547.5 | 25858.5 | 30169.5 | 34480.5 | 38791.5 | 43102.5 |\n",
       "| 4304.5 | 8615.5 | 12926.5 | 17237.5 | 21548.5 | 25859.5 | 30170.5 | 34481.5 | 38792.5 | 43103.5 |\n",
       "| 4305.5 | 8616.5 | 12927.5 | 17238.5 | 21549.5 | 25860.5 | 30171.5 | 34482.5 | 38793.5 | 43104.5 |\n",
       "| 4306.5 | 8617.5 | 12928.5 | 17239.5 | 21550.5 | 25861.5 | 30172.5 | 34483.5 | 38794.5 | 43105.5 |\n",
       "| 4307.5 | 8618.5 | 12929.5 | 17240.5 | 21551.5 | 25862.5 | 30173.5 | 34484.5 | 38795.5 | 43106.5 |\n",
       "| 4308.5 | 8619.5 | 12930.5 | 17241.5 | 21552.5 | 25863.5 | 30174.5 | 34485.5 | 38796.5 | 43107.5 |\n",
       "| 4309.5 | 8620.5 | 12931.5 | 17242.5 | 21553.5 | 25864.5 | 30175.5 | 34486.5 | 38797.5 | 43108.5 |\n",
       "| 4310.5 | 8621.5 | 12932.5 | 17243.5 | 21554.5 | 25865.5 | 30176.5 | 34487.5 | 38798.5 | 43109.5 |\n",
       "\n"
      ],
      "text/plain": [
       "      [,1]   [,2]   [,3]    [,4]    [,5]    [,6]    [,7]    [,8]    [,9]   \n",
       " [1,]  1.5   4312.5 8623.5  12934.5 17245.5 21556.5 25867.5 30178.5 34489.5\n",
       " [2,]  2.5   4313.5 8624.5  12935.5 17246.5 21557.5 25868.5 30179.5 34490.5\n",
       " [3,]  3.5   4314.5 8625.5  12936.5 17247.5 21558.5 25869.5 30180.5 34491.5\n",
       " [4,]  4.5   4315.5 8626.5  12937.5 17248.5 21559.5 25870.5 30181.5 34492.5\n",
       " [5,]  5.5   4316.5 8627.5  12938.5 17249.5 21560.5 25871.5 30182.5 34493.5\n",
       " [6,]  6.5   4317.5 8628.5  12939.5 17250.5 21561.5 25872.5 30183.5 34494.5\n",
       " [7,]  7.5   4318.5 8629.5  12940.5 17251.5 21562.5 25873.5 30184.5 34495.5\n",
       " [8,]  8.5   4319.5 8630.5  12941.5 17252.5 21563.5 25874.5 30185.5 34496.5\n",
       " [9,]  9.5   4320.5 8631.5  12942.5 17253.5 21564.5 25875.5 30186.5 34497.5\n",
       "[10,] 10.5   4321.5 8632.5  12943.5 17254.5 21565.5 25876.5 30187.5 34498.5\n",
       "[11,] 11.5   4322.5 8633.5  12944.5 17255.5 21566.5 25877.5 30188.5 34499.5\n",
       "[12,] 12.5   4323.5 8634.5  12945.5 17256.5 21567.5 25878.5 30189.5 34500.5\n",
       "[13,] 13.5   4324.5 8635.5  12946.5 17257.5 21568.5 25879.5 30190.5 34501.5\n",
       "[14,] 14.5   4325.5 8636.5  12947.5 17258.5 21569.5 25880.5 30191.5 34502.5\n",
       "[15,] 15.5   4326.5 8637.5  12948.5 17259.5 21570.5 25881.5 30192.5 34503.5\n",
       "[16,] 16.5   4327.5 8638.5  12949.5 17260.5 21571.5 25882.5 30193.5 34504.5\n",
       "[17,] 17.5   4328.5 8639.5  12950.5 17261.5 21572.5 25883.5 30194.5 34505.5\n",
       "[18,] 18.5   4329.5 8640.5  12951.5 17262.5 21573.5 25884.5 30195.5 34506.5\n",
       "[19,] 19.5   4330.5 8641.5  12952.5 17263.5 21574.5 25885.5 30196.5 34507.5\n",
       "[20,] 20.5   4331.5 8642.5  12953.5 17264.5 21575.5 25886.5 30197.5 34508.5\n",
       "[21,] 21.5   4332.5 8643.5  12954.5 17265.5 21576.5 25887.5 30198.5 34509.5\n",
       "[22,] 22.5   4333.5 8644.5  12955.5 17266.5 21577.5 25888.5 30199.5 34510.5\n",
       "[23,] 23.5   4334.5 8645.5  12956.5 17267.5 21578.5 25889.5 30200.5 34511.5\n",
       "[24,] 24.5   4335.5 8646.5  12957.5 17268.5 21579.5 25890.5 30201.5 34512.5\n",
       "[25,] 25.5   4336.5 8647.5  12958.5 17269.5 21580.5 25891.5 30202.5 34513.5\n",
       "[26,] 26.5   4337.5 8648.5  12959.5 17270.5 21581.5 25892.5 30203.5 34514.5\n",
       "[27,] 27.5   4338.5 8649.5  12960.5 17271.5 21582.5 25893.5 30204.5 34515.5\n",
       "[28,] 28.5   4339.5 8650.5  12961.5 17272.5 21583.5 25894.5 30205.5 34516.5\n",
       "[29,] 29.5   4340.5 8651.5  12962.5 17273.5 21584.5 25895.5 30206.5 34517.5\n",
       "[30,] 30.5   4341.5 8652.5  12963.5 17274.5 21585.5 25896.5 30207.5 34518.5\n",
       "[31,] ...    ...    ...     ...     ...     ...     ...     ...     ...    \n",
       "[32,] 4281.5 8592.5 12903.5 17214.5 21525.5 25836.5 30147.5 34458.5 38769.5\n",
       "[33,] 4282.5 8593.5 12904.5 17215.5 21526.5 25837.5 30148.5 34459.5 38770.5\n",
       "[34,] 4283.5 8594.5 12905.5 17216.5 21527.5 25838.5 30149.5 34460.5 38771.5\n",
       "[35,] 4284.5 8595.5 12906.5 17217.5 21528.5 25839.5 30150.5 34461.5 38772.5\n",
       "[36,] 4285.5 8596.5 12907.5 17218.5 21529.5 25840.5 30151.5 34462.5 38773.5\n",
       "[37,] 4286.5 8597.5 12908.5 17219.5 21530.5 25841.5 30152.5 34463.5 38774.5\n",
       "[38,] 4287.5 8598.5 12909.5 17220.5 21531.5 25842.5 30153.5 34464.5 38775.5\n",
       "[39,] 4288.5 8599.5 12910.5 17221.5 21532.5 25843.5 30154.5 34465.5 38776.5\n",
       "[40,] 4289.5 8600.5 12911.5 17222.5 21533.5 25844.5 30155.5 34466.5 38777.5\n",
       "[41,] 4290.5 8601.5 12912.5 17223.5 21534.5 25845.5 30156.5 34467.5 38778.5\n",
       "[42,] 4291.5 8602.5 12913.5 17224.5 21535.5 25846.5 30157.5 34468.5 38779.5\n",
       "[43,] 4292.5 8603.5 12914.5 17225.5 21536.5 25847.5 30158.5 34469.5 38780.5\n",
       "[44,] 4293.5 8604.5 12915.5 17226.5 21537.5 25848.5 30159.5 34470.5 38781.5\n",
       "[45,] 4294.5 8605.5 12916.5 17227.5 21538.5 25849.5 30160.5 34471.5 38782.5\n",
       "[46,] 4295.5 8606.5 12917.5 17228.5 21539.5 25850.5 30161.5 34472.5 38783.5\n",
       "[47,] 4296.5 8607.5 12918.5 17229.5 21540.5 25851.5 30162.5 34473.5 38784.5\n",
       "[48,] 4297.5 8608.5 12919.5 17230.5 21541.5 25852.5 30163.5 34474.5 38785.5\n",
       "[49,] 4298.5 8609.5 12920.5 17231.5 21542.5 25853.5 30164.5 34475.5 38786.5\n",
       "[50,] 4299.5 8610.5 12921.5 17232.5 21543.5 25854.5 30165.5 34476.5 38787.5\n",
       "[51,] 4300.5 8611.5 12922.5 17233.5 21544.5 25855.5 30166.5 34477.5 38788.5\n",
       "[52,] 4301.5 8612.5 12923.5 17234.5 21545.5 25856.5 30167.5 34478.5 38789.5\n",
       "[53,] 4302.5 8613.5 12924.5 17235.5 21546.5 25857.5 30168.5 34479.5 38790.5\n",
       "[54,] 4303.5 8614.5 12925.5 17236.5 21547.5 25858.5 30169.5 34480.5 38791.5\n",
       "[55,] 4304.5 8615.5 12926.5 17237.5 21548.5 25859.5 30170.5 34481.5 38792.5\n",
       "[56,] 4305.5 8616.5 12927.5 17238.5 21549.5 25860.5 30171.5 34482.5 38793.5\n",
       "[57,] 4306.5 8617.5 12928.5 17239.5 21550.5 25861.5 30172.5 34483.5 38794.5\n",
       "[58,] 4307.5 8618.5 12929.5 17240.5 21551.5 25862.5 30173.5 34484.5 38795.5\n",
       "[59,] 4308.5 8619.5 12930.5 17241.5 21552.5 25863.5 30174.5 34485.5 38796.5\n",
       "[60,] 4309.5 8620.5 12931.5 17242.5 21553.5 25864.5 30175.5 34486.5 38797.5\n",
       "[61,] 4310.5 8621.5 12932.5 17243.5 21554.5 25865.5 30176.5 34487.5 38798.5\n",
       "      [,10]  \n",
       " [1,] 38800.5\n",
       " [2,] 38801.5\n",
       " [3,] 38802.5\n",
       " [4,] 38803.5\n",
       " [5,] 38804.5\n",
       " [6,] 38805.5\n",
       " [7,] 38806.5\n",
       " [8,] 38807.5\n",
       " [9,] 38808.5\n",
       "[10,] 38809.5\n",
       "[11,] 38810.5\n",
       "[12,] 38811.5\n",
       "[13,] 38812.5\n",
       "[14,] 38813.5\n",
       "[15,] 38814.5\n",
       "[16,] 38815.5\n",
       "[17,] 38816.5\n",
       "[18,] 38817.5\n",
       "[19,] 38818.5\n",
       "[20,] 38819.5\n",
       "[21,] 38820.5\n",
       "[22,] 38821.5\n",
       "[23,] 38822.5\n",
       "[24,] 38823.5\n",
       "[25,] 38824.5\n",
       "[26,] 38825.5\n",
       "[27,] 38826.5\n",
       "[28,] 38827.5\n",
       "[29,] 38828.5\n",
       "[30,] 38829.5\n",
       "[31,] ...    \n",
       "[32,] 43080.5\n",
       "[33,] 43081.5\n",
       "[34,] 43082.5\n",
       "[35,] 43083.5\n",
       "[36,] 43084.5\n",
       "[37,] 43085.5\n",
       "[38,] 43086.5\n",
       "[39,] 43087.5\n",
       "[40,] 43088.5\n",
       "[41,] 43089.5\n",
       "[42,] 43090.5\n",
       "[43,] 43091.5\n",
       "[44,] 43092.5\n",
       "[45,] 43093.5\n",
       "[46,] 43094.5\n",
       "[47,] 43095.5\n",
       "[48,] 43096.5\n",
       "[49,] 43097.5\n",
       "[50,] 43098.5\n",
       "[51,] 43099.5\n",
       "[52,] 43100.5\n",
       "[53,] 43101.5\n",
       "[54,] 43102.5\n",
       "[55,] 43103.5\n",
       "[56,] 43104.5\n",
       "[57,] 43105.5\n",
       "[58,] 43106.5\n",
       "[59,] 43107.5\n",
       "[60,] 43108.5\n",
       "[61,] 43109.5"
      ]
     },
     "metadata": {},
     "output_type": "display_data"
    },
    {
     "data": {
      "image/png": "[encoded data removed]",
      "text/plain": [
       "Plot with title \"Predicted Counts vs. Doctor Consultations\""
      ]
     },
     "metadata": {
      "image/png": {
       "height": 420,
       "width": 420
      }
     },
     "output_type": "display_data"
    },
    {
     "name": "stdout",
     "output_type": "stream",
     "text": [
      "[1] -581.4844\n"
     ]
    },
    {
     "data": {
      "text/html": [
       "<table class=\"dataframe\">\n",
       "<caption>A data.frame: 2 x 2</caption>\n",
       "<thead>\n",
       "\t<tr><th></th><th scope=col>df</th><th scope=col>AIC</th></tr>\n",
       "\t<tr><th></th><th scope=col>&lt;dbl&gt;</th><th scope=col>&lt;dbl&gt;</th></tr>\n",
       "</thead>\n",
       "<tbody>\n",
       "\t<tr><th scope=row>updated_model2_NBZ</th><td>21</td><td>6060.617</td></tr>\n",
       "\t<tr><th scope=row>initial_model_NBZ</th><td>35</td><td>6073.471</td></tr>\n",
       "</tbody>\n",
       "</table>\n"
      ],
      "text/latex": [
       "A data.frame: 2 x 2\n",
       "\\begin{tabular}{r|ll}\n",
       "  & df & AIC\\\\\n",
       "  & <dbl> & <dbl>\\\\\n",
       "\\hline\n",
       "\tupdated\\_model2\\_NBZ & 21 & 6060.617\\\\\n",
       "\tinitial\\_model\\_NBZ & 35 & 6073.471\\\\\n",
       "\\end{tabular}\n"
      ],
      "text/markdown": [
       "\n",
       "A data.frame: 2 x 2\n",
       "\n",
       "| <!--/--> | df &lt;dbl&gt; | AIC &lt;dbl&gt; |\n",
       "|---|---|---|\n",
       "| updated_model2_NBZ | 21 | 6060.617 |\n",
       "| initial_model_NBZ | 35 | 6073.471 |\n",
       "\n"
      ],
      "text/plain": [
       "                   df AIC     \n",
       "updated_model2_NBZ 21 6060.617\n",
       "initial_model_NBZ  35 6073.471"
      ]
     },
     "metadata": {},
     "output_type": "display_data"
    },
    {
     "data": {
      "image/png": "[encoded data removed]",
      "text/plain": [
       "Plot with title \"Residuals vs. Predicted Counts\""
      ]
     },
     "metadata": {
      "image/png": {
       "height": 420,
       "width": 420
      }
     },
     "output_type": "display_data"
    }
   ],
   "source": [
    "###ZERO INFLATED-POISSON\n",
    "\n",
    "library(MASS)\n",
    "library(pscl)\n",
    "\n",
    "# Fit an initial model (you might start with a full model or a null model)\n",
    "initial_model_poisson <- zeroinfl(doctorco ~ age + sex + income + levyplus + freepoor + freepera + illness + actdays + hscore + chcond1 + chcond2 + nondocco + hospadmi + hospdays + prescrib + nonpresc | age + sex + income + levyplus + freepoor + freepera + illness + actdays + hscore + chcond1 + chcond2 + nondocco + hospadmi + hospdays + prescrib + nonpresc, data = data, dist = \"poisson\")\n",
    "updated_model_poisson<- zeroinfl(doctorco ~ levyplus + freepera + illness + actdays + hscore + chcond1 + chcond2 + hospadmi + prescrib + nonpresc|\n",
    "                                   levyplus + freepoor + freepera+ illness + actdays + hscore + nondocco + hospdays+ prescrib+nonpresc, data = data, dist = \"poisson\")\n",
    "AIC(initial_model_poisson, updated_model_poisson)\n",
    "\n",
    "\n",
    "\n",
    "\n",
    "\n",
    "###ZERO INFLATED-NB\n",
    "\n",
    "library(MASS)\n",
    "library(pscl)\n",
    "\n",
    "\n",
    "# Fit an initial model (you might start with a full model or a null model)\n",
    "initial_model_NBZ <- zeroinfl(doctorco ~ age + sex + income + levyplus + freepoor + freepera + illness + actdays + hscore + chcond1 + chcond2 + nondocco + hospadmi + hospdays + prescrib + nonpresc | age + sex + income + levyplus + freepoor + freepera + illness + actdays + hscore + chcond1 + chcond2 + nondocco + hospadmi + hospdays + prescrib + nonpresc, data = data, dist = \"negbin\")\n",
    "updated_model_NBZ <- zeroinfl(doctorco ~ income*levyplus + income *freepera + illness*actdays + hscore + chcond1+age*chcond2 + hospadmi  + prescrib + nonpresc|\n",
    "                                levyplus + freepoor + freepera+ illness + actdays + hscore + nondocco + hospdays+ prescrib+ nonpresc, data = data, dist = \"negbin\")\n",
    "\n",
    "AIC(updated_model_NBZ, initial_model_NBZ)\n",
    "\n",
    "\n",
    "#summary\n",
    "summary(updated_model_NBZ)\n",
    "\n",
    "\n",
    "#residuals \n",
    "\n",
    "# Predicted counts\n",
    "predicted_counts <- predict(updated_model_NBZ, type = \"response\")\n",
    "\n",
    "#histogram for the predicted counts\n",
    "hist(predicted_counts)\n",
    "hist(data$doctorco)\n",
    "\n",
    "#diagramma a barre predicted counts vs doctorco\n",
    "diagramma <- barplot(table(predicted_counts, data$doctorco), beside = TRUE, col = c(\"blue\", \"red\"), \n",
    "        legend = rownames(table(predicted_counts, data$doctorco)), \n",
    "        main = \"Predicted Counts vs. Doctor Consultations\", \n",
    "        xlab = \"Counts\", ylab = \"Frequency\")\n",
    "\n",
    "#create a png of diagramma\n",
    "png(\"diagramma.png\")\n",
    "barplot(table(predicted_counts, data$doctorco), beside = TRUE, col = c(\"blue\", \"red\"), \n",
    "        legend = rownames(table(predicted_counts, data$doctorco)), \n",
    "        main = \"Predicted Counts vs. Doctor Consultations\", \n",
    "        xlab = \"Counts\", ylab = \"Frequency\")\n",
    "dev.off()\n",
    "\n",
    "#show the png\n",
    "\n",
    "\n",
    "\n",
    "\n",
    "\n",
    "# Residuals for the count model\n",
    "residuals_count <- data$doctorco - predicted_counts\n",
    "\n",
    "# Plotting residuals\n",
    "plot(residuals_count, ylab = \"Residuals\", xlab = \"Predicted Counts\", main = \"Residuals vs. Predicted Counts\")\n",
    "abline(h = 0, col = \"red\")\n",
    "\n",
    "#the mean to the variance of the residuals.\n",
    "mean_res <- mean(residuals_count)\n",
    "var_res <- var(residuals_count)\n",
    "\n",
    "overdispersion_stat <- var_res / mean_res\n",
    "print(overdispersion_stat)\n",
    "\n",
    "\n",
    "\n",
    "\n",
    "\n",
    "\n",
    "\n",
    "\n",
    "#update with step aic\n",
    "updated_model2_NBZ <- zeroinfl(doctorco ~ levyplus + freepoor + freepera + illness + actdays + \n",
    "                                 hscore + hospadmi + prescrib + nonpresc, data = data, dist = \"negbin\")\n",
    "AIC(updated_model2_NBZ, initial_model_NBZ)\n",
    "\n",
    "\n",
    "# # Perform stepwise selection based on AIC\n",
    "# best_model_NBZ <- stepAIC(initial_model_NBZ, direction = \"both\")\n",
    "\n",
    "# # Show the summary of the best model\n",
    "# summary(best_model_NBZ)\n",
    "# AIC(best_model_NBZ, initial_model_NBZ)"
   ]
  },
  {
   "cell_type": "code",
   "execution_count": 18,
   "id": "886d4fe5",
   "metadata": {
    "vscode": {
     "languageId": "r"
    }
   },
   "outputs": [
    {
     "data": {
      "text/html": [
       "<table class=\"dataframe\">\n",
       "<caption>A data.frame: 2 x 2</caption>\n",
       "<thead>\n",
       "\t<tr><th></th><th scope=col>df</th><th scope=col>AIC</th></tr>\n",
       "\t<tr><th></th><th scope=col>&lt;dbl&gt;</th><th scope=col>&lt;dbl&gt;</th></tr>\n",
       "</thead>\n",
       "<tbody>\n",
       "\t<tr><th scope=row>initial_hurdle_poisson</th><td>34</td><td>6315.423</td></tr>\n",
       "\t<tr><th scope=row>updated_hurdle_poisson</th><td>18</td><td>6291.743</td></tr>\n",
       "</tbody>\n",
       "</table>\n"
      ],
      "text/latex": [
       "A data.frame: 2 x 2\n",
       "\\begin{tabular}{r|ll}\n",
       "  & df & AIC\\\\\n",
       "  & <dbl> & <dbl>\\\\\n",
       "\\hline\n",
       "\tinitial\\_hurdle\\_poisson & 34 & 6315.423\\\\\n",
       "\tupdated\\_hurdle\\_poisson & 18 & 6291.743\\\\\n",
       "\\end{tabular}\n"
      ],
      "text/markdown": [
       "\n",
       "A data.frame: 2 x 2\n",
       "\n",
       "| <!--/--> | df &lt;dbl&gt; | AIC &lt;dbl&gt; |\n",
       "|---|---|---|\n",
       "| initial_hurdle_poisson | 34 | 6315.423 |\n",
       "| updated_hurdle_poisson | 18 | 6291.743 |\n",
       "\n"
      ],
      "text/plain": [
       "                       df AIC     \n",
       "initial_hurdle_poisson 34 6315.423\n",
       "updated_hurdle_poisson 18 6291.743"
      ]
     },
     "metadata": {},
     "output_type": "display_data"
    },
    {
     "data": {
      "text/html": [
       "<table class=\"dataframe\">\n",
       "<caption>A data.frame: 2 x 2</caption>\n",
       "<thead>\n",
       "\t<tr><th></th><th scope=col>df</th><th scope=col>AIC</th></tr>\n",
       "\t<tr><th></th><th scope=col>&lt;dbl&gt;</th><th scope=col>&lt;dbl&gt;</th></tr>\n",
       "</thead>\n",
       "<tbody>\n",
       "\t<tr><th scope=row>initial_hurdle_NB</th><td>35</td><td>6210.629</td></tr>\n",
       "\t<tr><th scope=row>updated2_hurdle_NB</th><td>19</td><td>6184.560</td></tr>\n",
       "</tbody>\n",
       "</table>\n"
      ],
      "text/latex": [
       "A data.frame: 2 x 2\n",
       "\\begin{tabular}{r|ll}\n",
       "  & df & AIC\\\\\n",
       "  & <dbl> & <dbl>\\\\\n",
       "\\hline\n",
       "\tinitial\\_hurdle\\_NB & 35 & 6210.629\\\\\n",
       "\tupdated2\\_hurdle\\_NB & 19 & 6184.560\\\\\n",
       "\\end{tabular}\n"
      ],
      "text/markdown": [
       "\n",
       "A data.frame: 2 x 2\n",
       "\n",
       "| <!--/--> | df &lt;dbl&gt; | AIC &lt;dbl&gt; |\n",
       "|---|---|---|\n",
       "| initial_hurdle_NB | 35 | 6210.629 |\n",
       "| updated2_hurdle_NB | 19 | 6184.560 |\n",
       "\n"
      ],
      "text/plain": [
       "                   df AIC     \n",
       "initial_hurdle_NB  35 6210.629\n",
       "updated2_hurdle_NB 19 6184.560"
      ]
     },
     "metadata": {},
     "output_type": "display_data"
    },
    {
     "data": {
      "text/plain": [
       "\n",
       "Call:\n",
       "hurdle(formula = doctorco ~ age + sex + income + levyplus + freepoor + \n",
       "    freepera + illness + actdays + hscore + chcond1 + chcond2 + nondocco + \n",
       "    hospadmi + hospdays + prescrib + nonpresc | age + sex + income + \n",
       "    levyplus + freepoor + freepera + illness + actdays + hscore + chcond1 + \n",
       "    chcond2 + nondocco + hospadmi + hospdays + prescrib + nonpresc, data = data, \n",
       "    dist = \"negbin\")\n",
       "\n",
       "Pearson residuals:\n",
       "    Min      1Q  Median      3Q     Max \n",
       "-1.5281 -0.3949 -0.3195 -0.2633 10.7336 \n",
       "\n",
       "Count model coefficients (truncated negbin with log link):\n",
       "             Estimate Std. Error z value Pr(>|z|)    \n",
       "(Intercept) -2.371107   0.889431  -2.666 0.007679 ** \n",
       "age         -0.014350   0.489375  -0.029 0.976608    \n",
       "sex          0.043187   0.155074   0.278 0.780634    \n",
       "income      -0.270902   0.231773  -1.169 0.242475    \n",
       "levyplus    -0.276533   0.202492  -1.366 0.172050    \n",
       "freepoor    -0.043093   0.495238  -0.087 0.930659    \n",
       "freepera    -0.467941   0.258550  -1.810 0.070316 .  \n",
       "illness      0.096691   0.057903   1.670 0.094939 .  \n",
       "actdays      0.136622   0.016403   8.329  < 2e-16 ***\n",
       "hscore       0.008734   0.027958   0.312 0.754726    \n",
       "chcond1      0.057625   0.184429   0.312 0.754698    \n",
       "chcond2      0.089412   0.225924   0.396 0.692281    \n",
       "nondocco     0.047539   0.046490   1.023 0.306518    \n",
       "hospadmi     0.381436   0.110918   3.439 0.000584 ***\n",
       "hospdays    -0.003941   0.008959  -0.440 0.660042    \n",
       "prescrib    -0.038351   0.049213  -0.779 0.435811    \n",
       "nonpresc    -0.197370   0.105787  -1.866 0.062079 .  \n",
       "Log(theta)  -1.690865   1.000089  -1.691 0.090891 .  \n",
       "Zero hurdle model coefficients (binomial with logit link):\n",
       "             Estimate Std. Error z value Pr(>|z|)    \n",
       "(Intercept) -2.394751   0.148662 -16.109  < 2e-16 ***\n",
       "age         -0.201336   0.261733  -0.769  0.44175    \n",
       "sex          0.152622   0.084981   1.796  0.07250 .  \n",
       "income      -0.016978   0.122953  -0.138  0.89017    \n",
       "levyplus     0.205905   0.101018   2.038  0.04152 *  \n",
       "freepoor    -0.691001   0.263681  -2.621  0.00878 ** \n",
       "freepera     0.341554   0.143066   2.387  0.01697 *  \n",
       "illness      0.192668   0.031077   6.200 5.66e-10 ***\n",
       "actdays      0.144451   0.012476  11.578  < 2e-16 ***\n",
       "hscore       0.056350   0.017946   3.140  0.00169 ** \n",
       "chcond1     -0.038308   0.094375  -0.406  0.68481    \n",
       "chcond2     -0.061609   0.132854  -0.464  0.64284    \n",
       "nondocco     0.007306   0.035105   0.208  0.83512    \n",
       "hospadmi     0.152637   0.082445   1.851  0.06411 .  \n",
       "hospdays     0.002138   0.006132   0.349  0.72736    \n",
       "prescrib     0.316175   0.030676  10.307  < 2e-16 ***\n",
       "nonpresc    -0.100437   0.055308  -1.816  0.06938 .  \n",
       "---\n",
       "Signif. codes:  0 '***' 0.001 '**' 0.01 '*' 0.05 '.' 0.1 ' ' 1 \n",
       "\n",
       "Theta: count = 0.1844\n",
       "Number of iterations in BFGS optimization: 31 \n",
       "Log-likelihood: -3070 on 35 Df"
      ]
     },
     "metadata": {},
     "output_type": "display_data"
    }
   ],
   "source": [
    "###HURDLE-poisson\n",
    "\n",
    "library(pscl)\n",
    "\n",
    "initial_hurdle_poisson <- hurdle(doctorco ~ age + sex + income + levyplus + freepoor + freepera + illness + actdays + hscore + chcond1 + chcond2 + nondocco + hospadmi + hospdays + prescrib + nonpresc | age + sex + income + levyplus + freepoor + freepera + illness + actdays + hscore + chcond1 + chcond2 + nondocco + hospadmi + hospdays + prescrib + nonpresc, \n",
    "                               data = data, dist = \"poisson\")\n",
    "\n",
    "\n",
    "updated_hurdle_poisson <- hurdle(doctorco ~ income+ freepera +illness + actdays + hospadmi + nonpresc| \n",
    "                          sex+levyplus + freepoor + freepera+ actdays + illness + hscore +hospadmi +  prescrib+ nonpresc, \n",
    "                        data = data, dist = \"poisson\")\n",
    "\n",
    "# Compare AIC values\n",
    "AIC(initial_hurdle_poisson, updated_hurdle_poisson)\n",
    "\n",
    "\n",
    "\n",
    "\n",
    "\n",
    "###HURDLE-NB\n",
    "initial_hurdle_NB <- hurdle(doctorco ~ age + sex + income + levyplus + freepoor + freepera + illness + actdays + hscore + chcond1 + chcond2 + nondocco + hospadmi + hospdays + prescrib + nonpresc | age + sex + income + levyplus + freepoor + freepera + illness + actdays + hscore + chcond1 + chcond2 + nondocco + hospadmi + hospdays + prescrib + nonpresc, \n",
    "                               data = data, dist = \"negbin\")\n",
    "\n",
    "updated1_hurdle_NB <- hurdle(doctorco ~ age +sex+ income +levyplus+ freepoor + freepera + illness + actdays + hscore + chcond1 + chcond2 + nondocco + hospadmi + hospdays + prescrib + nonpresc | \n",
    "                                              sex+levyplus + freepoor + freepera+ actdays + illness + hscore +hospadmi +  prescrib+ nonpresc , \n",
    "                                  data = data, dist = \"negbin\")\n",
    "\n",
    "updated2_hurdle_NB <- hurdle(doctorco ~ income+ freepera +illness + actdays + hospadmi + nonpresc| \n",
    "                                     sex+levyplus + freepoor + freepera+ actdays + illness + hscore +hospadmi +  prescrib+ nonpresc , \n",
    "                                   data = data, dist = \"negbin\")\n",
    "\n",
    "updated3_hurdle_NB <- hurdle(doctorco ~ levyplus + freepoor + freepera + illness + actdays + \n",
    "                               hscore + hospadmi + prescrib + nonpresc, \n",
    "                             data = data, dist = \"negbin\")\n",
    "\n",
    "#updated2 is better than updated3\n",
    "\n",
    "AIC(initial_hurdle_NB, updated2_hurdle_NB)\n",
    "\n",
    "summary(initial_hurdle_NB)"
   ]
  },
  {
   "cell_type": "markdown",
   "id": "b3129fc7",
   "metadata": {},
   "source": [
    "###evaluation"
   ]
  },
  {
   "cell_type": "code",
   "execution_count": 29,
   "id": "7b686536",
   "metadata": {
    "vscode": {
     "languageId": "r"
    }
   },
   "outputs": [],
   "source": [
    "\n",
    "load_split_data <- function(dataset_loc) {\n",
    "  # Load the dataset train and test splits. Returns train, test, and the whole\n",
    "  # df. Input to the function is the path to the dataset.\n",
    "  set.seed(42)\n",
    "  load(dataset_loc)\n",
    "  df <- data\n",
    "  sample <- sample(c(TRUE, FALSE), nrow(df), replace=TRUE, prob=c(0.8,0.2))\n",
    "  train  <- df[sample, ]\n",
    "  test   <- df[!sample, ]\n",
    "  return(list(\"train\"=train, \"test\"=test, \"df\"=df))\n",
    "}\n",
    "\n",
    "\n",
    "data_splits <- load_split_data(\"HealthCareAustralia.rda\")\n",
    "train <- data_splits$train\n",
    "test <- data_splits$test\n",
    "\n",
    "model_NBZ<- zeroinfl(doctorco ~ age + sex + income + levyplus + freepoor + freepera + illness + actdays + hscore + chcond1 + chcond2 + nondocco + hospadmi + hospdays + prescrib + nonpresc | age + sex + income + levyplus + freepoor + freepera + illness + actdays + hscore + chcond1 + chcond2 + nondocco + hospadmi + hospdays + prescrib + nonpresc, data = data, dist = \"poisson\")\n",
    "#model_NBZ <- zeroinfl(doctorco ~ levyplus + freepera + illness + actdays + hscore + chcond1 + chcond2 + hospadmi  + prescrib + nonpresc|\n",
    "                                #levyplus + freepoor + freepera+ illness + actdays + hscore + nondocco + hospdays+ prescrib+nonpresc, data = train, dist = \"negbin\")\n",
    "\n",
    "hurdle_NB <- hurdle(doctorco ~ income+ freepera +illness + actdays + hospadmi + nonpresc| \n",
    "                               sex+levyplus + freepoor + freepera+ actdays + illness + hscore +hospadmi +  prescrib+ nonpresc , \n",
    "                             data = train, dist = \"negbin\")\n",
    "\n",
    "\n",
    "\n",
    "###binary predictions\n",
    "\n",
    "library(pROC)\n",
    "\n",
    "\n",
    "# ##### Dk why this is not working \n",
    "# # # For ZINB model\n",
    "#  actual_binary <- ifelse(test$doctorco > 0, 1, 0)\n",
    "# # predicted_binary_zinb <- predict(model_NBZ, newdata = test, type = \"zero\")\n",
    "\n",
    "# # # Calculate AUC\n",
    "# # roc_result <- roc(actual_binary, predicted_binary_zinb)\n",
    "\n",
    "# # print(roc_result)\n",
    "\n",
    "\n",
    "# #auc_value <- auc(roc_result)\n",
    "\n",
    "# #print(auc_value)\n",
    "\n",
    "# #### this is working ####\n",
    "# # For ZINB model\n",
    "# predicted_probs_zinb <- predict(model_NBZ, newdata = test, type = \"prob\")[, \"1\"]\n",
    "# # print(predicted_probs_zinb)\n",
    "\n",
    "# # Calcola l'AUC utilizzando le probabilità predette e i veri risultati binari\n",
    "# roc_result <- roc(actual_binary, predicted_probs_zinb)\n",
    "\n",
    "# # Stampa il risultato della funzione ROC per assicurarti che sia stata creata correttamente\n",
    "# # print(roc_result)\n",
    "\n",
    "# # Stampare l'AUC direttamente dall'oggetto roc_result\n",
    "# # print(\"AUC: \", roc_result$auc)\n",
    "\n",
    "# ## So to take AUC from the roc_result object, you can use roc_result$auc! \n",
    "\n",
    "# # Calculate accuracy\n",
    "# predicted_class_zinb <- ifelse(predicted_binary_zinb > 0.5, 1, 0)\n",
    "# accuracy <- sum(predicted_class_zinb == actual_binary) / length(actual_binary)\n",
    "\n",
    "# #print(\"AUC: \", roc_result$auc)\n",
    "# # print(\"Accuracy: \", accuracy)\n",
    "\n",
    "\n",
    "# # For hurdle model\n",
    "# actual_binary <- ifelse(test$doctorco > 0, 1, 0)\n",
    "# predicted_binary_hurdle <- predict(hurdle_NB, newdata = test, type = \"zero\")\n",
    "\n",
    "# # Calculate AUC\n",
    "# roc_result_hurdle <- roc(actual_binary, predicted_binary_hurdle)\n",
    "# #auc_value_hurdle <- auc(roc_result_hurdle)\n",
    "\n",
    "# # Calculate accuracy\n",
    "# predicted_class_hurdle<- ifelse(predicted_binary_hurdle > 0.5, 1, 0)\n",
    "# accuracy_hurdle <- sum(predicted_class_hurdle == actual_binary) / length(actual_binary)\n",
    "\n",
    "# # print(\"AUC: \", roc_result_hurdle$auc)\n",
    "# # print(\"Accuracy: \", accuracy_hurdle)\n",
    "\n",
    "\n",
    "\n",
    "\n",
    "# # ##evaluate count\n",
    "\n",
    "# # # For ZINB model (similar process for Hurdle model)\n",
    "# # predicted_counts_zinb <- predict(model_NBZ, test, type = \"response\")\n",
    "\n",
    "# # # Calculate RMSE\n",
    "# # rmse <- sqrt(mean((predicted_counts_zinb - test$doctorco)^2))\n",
    "\n",
    "# # # print(\"RMSE: \", rmse)\n",
    "\n",
    "\n",
    "# # # For ZINB model (similar process for Hurdle model)\n",
    "# # predicted_counts_hurdle <- predict(hurdle_NB, test, type = \"response\")\n",
    "\n",
    "# # # Calculate RMSE\n",
    "# # rmse_hurdle <- sqrt(mean((predicted_counts_hurdle - test$doctorco)^2))\n",
    "\n",
    "# # # print(\"RMSE: \", rmse_hurdle)\n",
    "\n"
   ]
  },
  {
   "cell_type": "markdown",
   "id": "30610223",
   "metadata": {},
   "source": [
    "Grouped visits in 0, 1, 2, greater equal 3. Then, we can use the confusionMatrix() function from the caret package to calculate the accuracy of the model. We can use the command confusionMatrix() to see the results of the model. After, we can see also the accuracy of the model."
   ]
  },
  {
   "cell_type": "code",
   "execution_count": 30,
   "id": "af690409",
   "metadata": {
    "vscode": {
     "languageId": "r"
    }
   },
   "outputs": [
    {
     "data": {
      "text/html": [
       "<table class=\"dataframe\">\n",
       "<caption>A data.frame: 2 x 2</caption>\n",
       "<thead>\n",
       "\t<tr><th></th><th scope=col>df</th><th scope=col>AIC</th></tr>\n",
       "\t<tr><th></th><th scope=col>&lt;dbl&gt;</th><th scope=col>&lt;dbl&gt;</th></tr>\n",
       "</thead>\n",
       "<tbody>\n",
       "\t<tr><th scope=row>updated_model10_NBZ</th><td>25</td><td>5744.379</td></tr>\n",
       "\t<tr><th scope=row>initial_model_NBZ</th><td>35</td><td>6073.471</td></tr>\n",
       "</tbody>\n",
       "</table>\n"
      ],
      "text/latex": [
       "A data.frame: 2 x 2\n",
       "\\begin{tabular}{r|ll}\n",
       "  & df & AIC\\\\\n",
       "  & <dbl> & <dbl>\\\\\n",
       "\\hline\n",
       "\tupdated\\_model10\\_NBZ & 25 & 5744.379\\\\\n",
       "\tinitial\\_model\\_NBZ & 35 & 6073.471\\\\\n",
       "\\end{tabular}\n"
      ],
      "text/markdown": [
       "\n",
       "A data.frame: 2 x 2\n",
       "\n",
       "| <!--/--> | df &lt;dbl&gt; | AIC &lt;dbl&gt; |\n",
       "|---|---|---|\n",
       "| updated_model10_NBZ | 25 | 5744.379 |\n",
       "| initial_model_NBZ | 35 | 6073.471 |\n",
       "\n"
      ],
      "text/plain": [
       "                    df AIC     \n",
       "updated_model10_NBZ 25 5744.379\n",
       "initial_model_NBZ   35 6073.471"
      ]
     },
     "metadata": {},
     "output_type": "display_data"
    }
   ],
   "source": [
    "# Create a new variable 'doctorco_grouped' with the specified grouping\n",
    "data$doctorco_grouped <- ifelse(data$doctorco >= 3, 3, as.character(data$doctorco))\n",
    "\n",
    "test$doctorco_grouped <- ifelse(test$doctorco >= 3, 3, as.character(test$doctorco))\n",
    "\n",
    "#il migliore\n",
    "updated_model10_NBZ <- zeroinfl(doctorco_grouped  ~ income*levyplus + freepera + illness*actdays + hscore + chcond1 + age:chcond2 + hospadmi  + prescrib + nonpresc|\n",
    "                                levyplus + freepoor + freepera+ illness * actdays +nondocco+ hospdays + prescrib, data = data, dist = \"negbin\")\n",
    "#initial model\n",
    "initial_model_NBZ <- zeroinfl(doctorco ~ age + sex + income + levyplus + freepoor + freepera + illness + actdays + hscore + chcond1 + chcond2 + nondocco + hospadmi + hospdays + prescrib + nonpresc | age + sex + income + levyplus + freepoor + freepera + illness + actdays + hscore + chcond1 + chcond2 + nondocco + hospadmi + hospdays + prescrib + nonpresc, data = data, dist = \"negbin\")\n",
    "\n",
    "AIC(updated_model10_NBZ, initial_model_NBZ)"
   ]
  },
  {
   "cell_type": "code",
   "execution_count": 24,
   "id": "9c3ec3b8",
   "metadata": {
    "vscode": {
     "languageId": "r"
    }
   },
   "outputs": [
    {
     "ename": "ERROR",
     "evalue": "Error in eval(expr, envir, enclos): oggetto 'predicted_class_zinb' non trovato\n",
     "output_type": "error",
     "traceback": [
      "Error in eval(expr, envir, enclos): oggetto 'predicted_class_zinb' non trovato\nTraceback:\n",
      "1. table(predicted_class_zinb, actual_binary)"
     ]
    }
   ],
   "source": [
    "# Confusion matrix\n",
    "conf_matrix <- table(predicted_class_zinb, actual_binary)\n",
    "\n",
    "# Print the confusion matrix\n",
    "print(conf_matrix)\n",
    "\n",
    "# Calculate accuracy\n",
    "accuracy <- sum(diag(conf_matrix)) / sum(conf_matrix)\n",
    "\n",
    "# Print the accuracy\n",
    "print(paste(\"Accuracy: \", accuracy))\n",
    "\n",
    "# Calculate precision\n",
    "precision <- conf_matrix[2, 2] / sum(conf_matrix[2, ])\n",
    "\n",
    "# Print the precision\n",
    "print(paste(\"Precision: \", precision))"
   ]
  },
  {
   "cell_type": "markdown",
   "id": "a69fde9d",
   "metadata": {},
   "source": [
    "It's necessary to check the best model in this parameters. "
   ]
  },
  {
   "cell_type": "code",
   "execution_count": 26,
   "id": "f7bbdde2",
   "metadata": {
    "vscode": {
     "languageId": "r"
    }
   },
   "outputs": [
    {
     "data": {
      "text/html": [
       "<table class=\"dataframe\">\n",
       "<caption>A data.frame: 2 x 2</caption>\n",
       "<thead>\n",
       "\t<tr><th></th><th scope=col>df</th><th scope=col>AIC</th></tr>\n",
       "\t<tr><th></th><th scope=col>&lt;dbl&gt;</th><th scope=col>&lt;dbl&gt;</th></tr>\n",
       "</thead>\n",
       "<tbody>\n",
       "\t<tr><th scope=row>updated_model10_NBZ</th><td>25</td><td>5744.379</td></tr>\n",
       "\t<tr><th scope=row>initial_model_NBZ</th><td>35</td><td>6073.471</td></tr>\n",
       "</tbody>\n",
       "</table>\n"
      ],
      "text/latex": [
       "A data.frame: 2 x 2\n",
       "\\begin{tabular}{r|ll}\n",
       "  & df & AIC\\\\\n",
       "  & <dbl> & <dbl>\\\\\n",
       "\\hline\n",
       "\tupdated\\_model10\\_NBZ & 25 & 5744.379\\\\\n",
       "\tinitial\\_model\\_NBZ & 35 & 6073.471\\\\\n",
       "\\end{tabular}\n"
      ],
      "text/markdown": [
       "\n",
       "A data.frame: 2 x 2\n",
       "\n",
       "| <!--/--> | df &lt;dbl&gt; | AIC &lt;dbl&gt; |\n",
       "|---|---|---|\n",
       "| updated_model10_NBZ | 25 | 5744.379 |\n",
       "| initial_model_NBZ | 35 | 6073.471 |\n",
       "\n"
      ],
      "text/plain": [
       "                    df AIC     \n",
       "updated_model10_NBZ 25 5744.379\n",
       "initial_model_NBZ   35 6073.471"
      ]
     },
     "metadata": {},
     "output_type": "display_data"
    }
   ],
   "source": [
    "#necessary libraries\n",
    "library(pROC)\n",
    "library(Metrics)\n",
    "library(pscl)\n",
    "library(MASS)\n",
    "\n",
    "updated_model10_NBZ <- zeroinfl(doctorco_grouped  ~ income*levyplus + freepera + illness*actdays + hscore + chcond1 + age:chcond2 + hospadmi  + prescrib + nonpresc|\n",
    "                                levyplus + freepoor + freepera+ illness * actdays +nondocco+ hospdays + prescrib, data = data, dist = \"negbin\")\n",
    "\n",
    "AIC(updated_model10_NBZ, initial_model_NBZ)"
   ]
  },
  {
   "cell_type": "code",
   "execution_count": 62,
   "id": "4885a22e",
   "metadata": {
    "vscode": {
     "languageId": "r"
    }
   },
   "outputs": [
    {
     "name": "stderr",
     "output_type": "stream",
     "text": [
      "Setting levels: control = 0, case = 1\n",
      "\n",
      "Setting direction: controls < cases\n",
      "\n"
     ]
    },
    {
     "name": "stdout",
     "output_type": "stream",
     "text": [
      "\n",
      "Call:\n",
      "roc.default(response = actual_binary, predictor = predicted_probs_zinb)\n",
      "\n",
      "Data: predicted_probs_zinb in 859 controls (actual_binary 0) < 208 cases (actual_binary 1).\n",
      "Area under the curve: 0.7666\n",
      "  sensitivity specificity\n",
      "1        0.75   0.6763679\n"
     ]
    }
   ],
   "source": [
    "# Auc roc and best threshold\n",
    "\n",
    "# For ZINB model\n",
    "actual_binary <- ifelse(test$doctorco > 0, 1, 0)\n",
    "predicted_probs_zinb <- predict(model_NBZ, newdata = test, type = \"prob\")[, \"1\"]\n",
    "\n",
    "# Calcola l'AUC utilizzando le probabilità predette e i veri risultati binari\n",
    "roc_result <- roc(actual_binary, predicted_probs_zinb)\n",
    "\n",
    "# Stampa il risultato della funzione ROC per assicurarti che sia stata creata correttamente\n",
    "print(roc_result)\n",
    "\n",
    "# Stampare l'AUC direttamente dall'oggetto roc_result\n",
    "#print(\"AUC: \", roc_result$auc)\n",
    "\n",
    "# Calculate sensitivity and specificity for each threshold value\n",
    "sens_spec <- coords(roc_result, x = \"best\", input = \"threshold\", ret = c(\"sensitivity\", \"specificity\"))\n",
    "\n",
    "# Print the sensitivity and specificity values for the best threshold\n",
    "print(sens_spec)\n",
    "\n",
    "# Calculate the best threshold (Youden's index)\n",
    "best_threshold <- roc_result$thresholds[which.max(sens_spec$sensitivity + sens_spec$specificity - 1)]"
   ]
  },
  {
   "cell_type": "markdown",
   "id": "09c124e7",
   "metadata": {},
   "source": [
    "### By alessandro"
   ]
  },
  {
   "cell_type": "markdown",
   "id": "2cd5fad7",
   "metadata": {},
   "source": [
    "updated_model10_NBZ <- zeroinfl(doctorco_grouped  ~ income*levyplus + freepera + illness*actdays + hscore + chcond1 + age:chcond2 + hospadmi  + prescrib + nonpresc|\n",
    "                                levyplus + freepoor + freepera+ illness * actdays +nondocco+ hospdays + prescrib, data = data, dist = \"negbin\")\n",
    "\n",
    "AIC(updated_model10_NBZ, initial_model_NBZ)"
   ]
  },
  {
   "cell_type": "code",
   "execution_count": null,
   "id": "61084b41",
   "metadata": {
    "vscode": {
     "languageId": "r"
    }
   },
   "outputs": [],
   "source": [
    "# "
   ]
  },
  {
   "cell_type": "code",
   "execution_count": 31,
   "id": "7f55f842",
   "metadata": {
    "vscode": {
     "languageId": "r"
    }
   },
   "outputs": [
    {
     "name": "stderr",
     "output_type": "stream",
     "text": [
      "Warning message in roc.default(test$doctorco_grouped, probabilities):\n",
      "\"'response' has more than two levels. Consider setting 'levels' explicitly or using 'multiclass.roc' instead\"\n",
      "Setting levels: control = 0, case = 1\n",
      "\n",
      "Setting direction: controls < cases\n",
      "\n"
     ]
    },
    {
     "ename": "ERROR",
     "evalue": "Error in auc(roc_curve): argomento \"predicted\" assente, senza valore predefinito\n",
     "output_type": "error",
     "traceback": [
      "Error in auc(roc_curve): argomento \"predicted\" assente, senza valore predefinito\nTraceback:\n",
      "1. auc(roc_curve)"
     ]
    }
   ],
   "source": [
    "# Predict probabilities\n",
    "probabilities <- predict(updated_model10_NBZ, newdata = subset(test, select = -doctorco_grouped), type = \"prob\")[, \"1\"]\n",
    " \n",
    "# Compute ROC curve\n",
    "roc_curve <- roc(test$doctorco_grouped, probabilities)\n",
    " \n",
    "# Calculate AUC\n",
    "auc_score <- auc(roc_curve)\n",
    " \n",
    "# Find optimal threshold using Youden's J statistic\n",
    "youdens_j <- coords(roc_curve, \"best\", best.method = \"youden\")\n",
    "optimal_threshold <- youdens_j$threshold\n",
    " \n",
    "# Plot the ROC curve using plot.roc from the pROC package\n",
    "plot.roc(roc_curve, col = \"blue\", main = \"ROC Curve\", lwd = 2)\n",
    " \n",
    "# Add a point for the best threshold\n",
    "points(youdens_j$specificity, youdens_j$sensitivity, pch = 19, col = \"red\")\n",
    " \n",
    "# Adding a legend or text to mark the point\n",
    "text(youdens_j$specificity, youdens_j$sensitivity, labels = paste(\"Threshold:\", round(optimal_threshold, 2)), pos = 4)\n",
    " \n",
    "# Add labels and legend\n",
    "abline(h = 0, v = 1, lty = 2, col = \"gray\")\n",
    "legend(\"topright\", legend = paste(\"AUC =\", round(auc(roc_curve), 2)), col = \"blue\", lwd = 2)"
   ]
  },
  {
   "cell_type": "code",
   "execution_count": 23,
   "id": "1b038e7a",
   "metadata": {
    "vscode": {
     "languageId": "r"
    }
   },
   "outputs": [
    {
     "ename": "ERROR",
     "evalue": "Error in eval(expr, envir, enclos): oggetto 'probabilities' non trovato\n",
     "output_type": "error",
     "traceback": [
      "Error in eval(expr, envir, enclos): oggetto 'probabilities' non trovato\nTraceback:\n",
      "1. ifelse(probabilities > optimal_threshold, \"Yes\", \"No\")"
     ]
    }
   ],
   "source": [
    "predicted_classes <- ifelse(probabilities > optimal_threshold, \"Yes\", \"No\")\n",
    "\n",
    "  # Create the confusion matrix\n",
    "  conf_matrix <- table(Actual = test$doctorco_grouped, Predicted = predicted_classes)\n",
    "\n",
    "  conf_matrix_prop <- prop.table(conf_matrix, margin = 1)\n",
    "\n",
    "  # Calculate accuracy\n",
    "  accuracy <- sum(diag(conf_matrix)) / sum(conf_matrix)"
   ]
  },
  {
   "cell_type": "markdown",
   "id": "b561164a",
   "metadata": {},
   "source": [
    "spline e raggruppamento età, income "
   ]
  },
  {
   "cell_type": "code",
   "execution_count": null,
   "id": "471829e8",
   "metadata": {
    "vscode": {
     "languageId": "r"
    }
   },
   "outputs": [],
   "source": [
    "#raggruppamento età\n"
   ]
  },
  {
   "cell_type": "markdown",
   "id": "5ec04700",
   "metadata": {},
   "source": [
    "hurdle model?"
   ]
  },
  {
   "cell_type": "markdown",
   "id": "d8207226",
   "metadata": {},
   "source": []
  }
 ],
 "metadata": {
  "kernelspec": {
   "display_name": "R",
   "language": "R",
   "name": "ir"
  },
  "language_info": {
   "codemirror_mode": "r",
   "file_extension": ".r",
   "mimetype": "text/x-r-source",
   "name": "R",
   "pygments_lexer": "r",
   "version": "4.3.1"
  }
 },
 "nbformat": 4,
 "nbformat_minor": 5
}
